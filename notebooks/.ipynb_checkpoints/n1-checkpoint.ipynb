{
 "cells": [
  {
   "cell_type": "code",
   "execution_count": 2,
   "id": "7f50d7cb",
   "metadata": {},
   "outputs": [
    {
     "name": "stdout",
     "output_type": "stream",
     "text": [
      "Dockerfile  dockerCMD.sh  parte1  requirements.txt\r\n",
      "README.md   docs\t  parte2  tp3_Giovanna_Jose_Marcos.ipynb\r\n",
      "datadir     notebooks\t  parte3\r\n"
     ]
    }
   ],
   "source": [
    "!cd ../ && ls"
   ]
  },
  {
   "cell_type": "code",
   "execution_count": 3,
   "id": "9d03044b",
   "metadata": {},
   "outputs": [
    {
     "ename": "SyntaxError",
     "evalue": "invalid syntax (3514364006.py, line 1)",
     "output_type": "error",
     "traceback": [
      "\u001b[0;36m  Cell \u001b[0;32mIn[3], line 1\u001b[0;36m\u001b[0m\n\u001b[0;31m    python3 oi.py\u001b[0m\n\u001b[0m            ^\u001b[0m\n\u001b[0;31mSyntaxError\u001b[0m\u001b[0;31m:\u001b[0m invalid syntax\n"
     ]
    }
   ],
   "source": [
    "python3 oi.py"
   ]
  },
  {
   "cell_type": "code",
   "execution_count": 57,
   "id": "78c8e9bf",
   "metadata": {},
   "outputs": [
    {
     "name": "stdout",
     "output_type": "stream",
     "text": [
      "Python 3.10.6\r\n",
      "gcc (Ubuntu 11.3.0-1ubuntu1~22.04.1) 11.3.0\r\n",
      "Copyright (C) 2021 Free Software Foundation, Inc.\r\n",
      "This is free software; see the source for copying conditions.  There is NO\r\n",
      "warranty; not even for MERCHANTABILITY or FITNESS FOR A PARTICULAR PURPOSE.\r\n",
      "\r\n"
     ]
    }
   ],
   "source": [
    "!python3 --version && gcc --version"
   ]
  },
  {
   "cell_type": "code",
   "execution_count": 33,
   "id": "555022e4",
   "metadata": {},
   "outputs": [
    {
     "name": "stdout",
     "output_type": "stream",
     "text": [
      "/usr/bin/sh: 1: sudo: not found\n",
      "/usr/bin/sh: 1: sudo: not found\n",
      "/usr/bin/sh: 1: sudo: not found\n",
      "/usr/bin/sh: 1: ALTER: not found\n",
      "/usr/bin/sh: 1: GRANT: not found\n",
      "/usr/bin/sh: 1: l: not found\n",
      "/usr/bin/sh: 1: q: not found\n",
      "/usr/bin/sh: 1: PSQL: not found\n"
     ]
    }
   ],
   "source": [
    "!-u postgres createuser tpch\n",
    "!-u postgres createdb tpchdb\n",
    "\n",
    "!-u postgres psql  << PSQL\n",
    "!ALTER USER tpch WITH ENCRYPTED PASSWORD '********';\n",
    "!GRANT ALL PRIVILEGES ON DATABASE tpchdb TO tpch;\n",
    "!\\l\n",
    "!\\q\n",
    "!PSQL"
   ]
  },
  {
   "cell_type": "code",
   "execution_count": 41,
   "id": "8b80a40a",
   "metadata": {},
   "outputs": [
    {
     "name": "stdout",
     "output_type": "stream",
     "text": [
      "PostgreSQL 15.3 (Ubuntu 15.3-1.pgdg22.04+1)\r\n"
     ]
    }
   ],
   "source": [
    "!pg_config --version"
   ]
  }
 ],
 "metadata": {
  "kernelspec": {
   "display_name": "Python 3 (ipykernel)",
   "language": "python",
   "name": "python3"
  },
  "language_info": {
   "codemirror_mode": {
    "name": "ipython",
    "version": 3
   },
   "file_extension": ".py",
   "mimetype": "text/x-python",
   "name": "python",
   "nbconvert_exporter": "python",
   "pygments_lexer": "ipython3",
   "version": "3.10.6"
  }
 },
 "nbformat": 4,
 "nbformat_minor": 5
}
