{
 "cells": [
  {
   "cell_type": "markdown",
   "id": "f1440d2d",
   "metadata": {},
   "source": [
    "# Trabalho prático 3 - Banco de Dados I\n",
    "\n",
    "> Giovanna Andrade Santos - 22052563  \n",
    "> José Mateus Córdova Rodrigues -  \n",
    "> Marcos Avner Pimenta de Lima - 21852448\n"
   ]
  },
  {
   "cell_type": "markdown",
   "id": "4a5e5a0a",
   "metadata": {},
   "source": [
    "# Parte 1"
   ]
  },
  {
   "cell_type": "markdown",
   "id": "995cb720",
   "metadata": {},
   "source": [
    "## Questão 1"
   ]
  },
  {
   "cell_type": "markdown",
   "id": "71d02ff5",
   "metadata": {},
   "source": [
    "Verificar o que eles querem que use para provar e se isso serve"
   ]
  },
  {
   "cell_type": "code",
   "execution_count": 1,
   "id": "162088e7",
   "metadata": {},
   "outputs": [
    {
     "name": "stdout",
     "output_type": "stream",
     "text": [
      "psql (PostgreSQL) 15.3 (Ubuntu 15.3-1.pgdg22.04+1)\r\n"
     ]
    }
   ],
   "source": [
    "!psql --version"
   ]
  },
  {
   "cell_type": "markdown",
   "id": "03498371",
   "metadata": {},
   "source": [
    "## Questão 2"
   ]
  },
  {
   "cell_type": "markdown",
   "id": "fd64e9fd",
   "metadata": {},
   "source": [
    "Preparando"
   ]
  },
  {
   "cell_type": "code",
   "execution_count": 2,
   "id": "9c6b9cdd",
   "metadata": {},
   "outputs": [
    {
     "name": "stdout",
     "output_type": "stream",
     "text": [
      "/app/datadir/tpch-pgsql-master\n"
     ]
    }
   ],
   "source": [
    "%pwd\n",
    "%cd ../datadir/tpch-pgsql-master/"
   ]
  },
  {
   "cell_type": "code",
   "execution_count": 3,
   "id": "be1d1361",
   "metadata": {},
   "outputs": [
    {
     "name": "stdout",
     "output_type": "stream",
     "text": [
      "LICENSE    actor.sql\ticeis2012.pdf  query_root\t tpch4pgsql\r\n",
      "Makefile   casting.sql\timages\t       requirements.txt  tpch_pgsql.py\r\n",
      "README.md  docs\t\tmovie.sql      tests\r\n",
      "/app/datadir/tpch-pgsql-master\r\n"
     ]
    }
   ],
   "source": [
    "!ls && pwd"
   ]
  },
  {
   "cell_type": "code",
   "execution_count": 6,
   "id": "01ea1b46",
   "metadata": {},
   "outputs": [],
   "source": [
    "#!apt install unzip\n",
    "#!wget -q https://github.com/electrum/tpch-dbgen/archive/32f1c1b92d1664dba542e927d23d86ffa57aa253.zip -O tpch-dbgen.zip \n",
    "#!unzip -q tpch-dbgen.zip \n",
    "#!mv tpch-dbgen-32f1c1b92d1664dba542e927d23d86ffa57aa253 tpch-dbgen\n",
    "#!rm tpch-dbgen.zip"
   ]
  },
  {
   "cell_type": "code",
   "execution_count": 7,
   "id": "6dc78c0f",
   "metadata": {},
   "outputs": [
    {
     "name": "stdout",
     "output_type": "stream",
     "text": [
      "LICENSE    actor.sql    iceis2012.pdf  \u001b[0m\u001b[01;34mquery_root\u001b[0m/       \u001b[01;34mtpch-dbgen\u001b[0m/\r\n",
      "Makefile   casting.sql  \u001b[01;34mimages\u001b[0m/        requirements.txt  \u001b[01;34mtpch4pgsql\u001b[0m/\r\n",
      "README.md  \u001b[01;34mdocs\u001b[0m/        movie.sql      \u001b[01;34mtests\u001b[0m/            \u001b[01;32mtpch_pgsql.py\u001b[0m*\r\n"
     ]
    }
   ],
   "source": [
    "%ls"
   ]
  },
  {
   "cell_type": "code",
   "execution_count": 8,
   "id": "df54dd2f",
   "metadata": {},
   "outputs": [
    {
     "name": "stdout",
     "output_type": "stream",
     "text": [
      "gcc -g -DDBNAME=\\\"dss\\\" -DLINUX -DORACLE -DTPCH -DRNG_TEST -D_FILE_OFFSET_BITS=64   -c -o build.o build.c\n",
      "gcc -g -DDBNAME=\\\"dss\\\" -DLINUX -DORACLE -DTPCH -DRNG_TEST -D_FILE_OFFSET_BITS=64   -c -o driver.o driver.c\n"
     ]
    },
    {
     "name": "stderr",
     "output_type": "stream",
     "text": [
      "driver.c: In function ‘gen_tbl’:\n",
      "driver.c:368:62: warning: format ‘%ld’ expects argument of type ‘long int’, but argument 3 has type ‘long long int’ [-Wformat=]\n",
      "  368 |                         printf(\"\\nSeeds for %s at rowcount %ld\\n\", tdefs[tnum].comment, i);\n",
      "      |                                                            ~~^                          ~\n",
      "      |                                                              |                          |\n",
      "      |                                                              long int                   long long int\n",
      "      |                                                            %lld\n",
      "bm_utils.c: In function ‘tbl_open’:\n",
      "bm_utils.c:404:51: warning: ‘%s’ directive writing up to 255 bytes into a region of size 231 [-Wformat-overflow=]\n",
      "  404 |         sprintf(prompt, \"Do you want to overwrite %s ?\", fullpath);\n",
      "      |                                                   ^~     ~~~~~~~~\n",
      "bm_utils.c:404:9: note: ‘sprintf’ output between 28 and 283 bytes into a destination of size 256\n",
      "  404 |         sprintf(prompt, \"Do you want to overwrite %s ?\", fullpath);\n",
      "      |         ^~~~~~~~~~~~~~~~~~~~~~~~~~~~~~~~~~~~~~~~~~~~~~~~~~~~~~~~~~\n"
     ]
    },
    {
     "name": "stdout",
     "output_type": "stream",
     "text": [
      "gcc -g -DDBNAME=\\\"dss\\\" -DLINUX -DORACLE -DTPCH -DRNG_TEST -D_FILE_OFFSET_BITS=64   -c -o bm_utils.o bm_utils.c\n",
      "gcc -g -DDBNAME=\\\"dss\\\" -DLINUX -DORACLE -DTPCH -DRNG_TEST -D_FILE_OFFSET_BITS=64   -c -o rnd.o rnd.c\n",
      "gcc -g -DDBNAME=\\\"dss\\\" -DLINUX -DORACLE -DTPCH -DRNG_TEST -D_FILE_OFFSET_BITS=64   -c -o print.o print.c\n"
     ]
    },
    {
     "name": "stderr",
     "output_type": "stream",
     "text": [
      "rnd.c: In function ‘row_stop’:\n",
      "rnd.c:131:84: warning: format ‘%ld’ expects argument of type ‘long int’, but argument 4 has type ‘long long int’ [-Wformat=]\n",
      "  131 |                                 fprintf(stderr, \"\\nSEED CHANGE: seed[%d].usage = %ld\\n\",\n",
      "      |                                                                                  ~~^\n",
      "      |                                                                                    |\n",
      "      |                                                                                    long int\n",
      "      |                                                                                  %lld\n",
      "  132 |                                         i, Seed[i].usage);\n",
      "      |                                            ~~~~~~~~~~~~~                            \n",
      "      |                                                   |\n",
      "      |                                                   long long int\n",
      "rnd.c: In function ‘dump_seeds’:\n",
      "rnd.c:154:38: warning: format ‘%ld’ expects argument of type ‘long int’, but argument 3 has type ‘long long int’ [-Wformat=]\n",
      "  154 |                         printf(\"%d(%ld):\\t%ld\\n\", i, Seed[i].nCalls, Seed[i].value);\n",
      "      |                                    ~~^               ~~~~~~~~~~~~~~\n",
      "      |                                      |                      |\n",
      "      |                                      long int               long long int\n",
      "      |                                    %lld\n",
      "rnd.c:154:45: warning: format ‘%ld’ expects argument of type ‘long int’, but argument 4 has type ‘long long int’ [-Wformat=]\n",
      "  154 |                         printf(\"%d(%ld):\\t%ld\\n\", i, Seed[i].nCalls, Seed[i].value);\n",
      "      |                                           ~~^                        ~~~~~~~~~~~~~\n",
      "      |                                             |                               |\n",
      "      |                                             long int                        long long int\n",
      "      |                                           %lld\n"
     ]
    },
    {
     "name": "stdout",
     "output_type": "stream",
     "text": [
      "gcc -g -DDBNAME=\\\"dss\\\" -DLINUX -DORACLE -DTPCH -DRNG_TEST -D_FILE_OFFSET_BITS=64   -c -o load_stub.o load_stub.c\n",
      "gcc -g -DDBNAME=\\\"dss\\\" -DLINUX -DORACLE -DTPCH -DRNG_TEST -D_FILE_OFFSET_BITS=64   -c -o bcd2.o bcd2.c\n",
      "gcc -g -DDBNAME=\\\"dss\\\" -DLINUX -DORACLE -DTPCH -DRNG_TEST -D_FILE_OFFSET_BITS=64   -c -o speed_seed.o speed_seed.c\n",
      "gcc -g -DDBNAME=\\\"dss\\\" -DLINUX -DORACLE -DTPCH -DRNG_TEST -D_FILE_OFFSET_BITS=64   -c -o text.o text.c\n",
      "gcc -g -DDBNAME=\\\"dss\\\" -DLINUX -DORACLE -DTPCH -DRNG_TEST -D_FILE_OFFSET_BITS=64   -c -o permute.o permute.c\n",
      "gcc -g -DDBNAME=\\\"dss\\\" -DLINUX -DORACLE -DTPCH -DRNG_TEST -D_FILE_OFFSET_BITS=64   -c -o rng64.o rng64.c\n",
      "gcc -g -DDBNAME=\\\"dss\\\" -DLINUX -DORACLE -DTPCH -DRNG_TEST -D_FILE_OFFSET_BITS=64 -O -o dbgen build.o driver.o bm_utils.o rnd.o print.o load_stub.o bcd2.o speed_seed.o text.o permute.o rng64.o -lm\n",
      "gcc -g -DDBNAME=\\\"dss\\\" -DLINUX -DORACLE -DTPCH -DRNG_TEST -D_FILE_OFFSET_BITS=64   -c -o qgen.o qgen.c\n",
      "gcc -g -DDBNAME=\\\"dss\\\" -DLINUX -DORACLE -DTPCH -DRNG_TEST -D_FILE_OFFSET_BITS=64   -c -o varsub.o varsub.c\n"
     ]
    },
    {
     "name": "stderr",
     "output_type": "stream",
     "text": [
      "In file included from qgen.c:41:\n",
      "qgen.c: In function ‘qsub’:\n",
      "tpcd.h:76:19: warning: zero-length gnu_printf format string [-Wformat-zero-length]\n",
      "   76 | #define SET_DBASE \"\"\n",
      "      |                   ^~\n",
      "qgen.c:197:38: note: in expansion of macro ‘SET_DBASE’\n",
      "  197 |                         fprintf(ofp, SET_DBASE, db_name);\n",
      "      |                                      ^~~~~~~~~\n",
      "TPC-H Population Generator (Version 2.14.0)\n",
      "Copyright Transaction Processing Performance Council 1994 - 2010\n",
      "Generating data for suppliers table/\b\n",
      "Preloading text ...   0%\b\b\b\b  0%\b\b\b\b  0%\b\b\b\b"
     ]
    },
    {
     "name": "stdout",
     "output_type": "stream",
     "text": [
      "gcc -g -DDBNAME=\\\"dss\\\" -DLINUX -DORACLE -DTPCH -DRNG_TEST -D_FILE_OFFSET_BITS=64 -O -o qgen build.o bm_utils.o qgen.o rnd.o varsub.o text.o bcd2.o permute.o speed_seed.o rng64.o -lm\n",
      "built dbgen from source\n"
     ]
    },
    {
     "name": "stderr",
     "output_type": "stream",
     "text": [
      "                                                                                                                                                                                                                                                                                                       1 1 1 1 1 1 1 1 1 1 1 1 1 1 1 1 1 1 1 1 1 1 1 1 1 1 1 1 1 1 1 1 1 1 1 1 1 1 1 1 1 1 1 1 1 1 1 1 1 1 1 1 1 1 1 1 1 1 1 1 1 1 1 1 1 1 1 1 1 1 1 1 1 1 1 1 1 1 1 1 1 1 1 1 1 1 1 1 1 1 1 1 1 1 1 1 1 1 1 1 1 1 1 1 1 1 1 1 1 1 1 1 1 1 1 1 1 1 1 1 1 1 1 1 1 1 1 1 1 1 1 1 1 1 1 1 1 1 1 1 1 1 1 1 1 1 1 1 1 1 1 1 1 1 1 1 1 2 2 2 2 2 2 2 2 2 2 2 2 2 2 2 2 2 2 2 2 2 2 2 2 2 2 2 2 2 2 2 2 2 2 2 2 2 2 2 2 2 2 2 2 2 2 2 2 2 2 2 2 2 2 2 2 2 2 2 2 2 2 2 2 2 2 2 2 2 2 2 2 2 2 2 2 2 2 2 2 2 2 2 2 2 2 2 2 2 2 2 2 2 2 2 2 2 2 2 2 2 2 2 2 2 2 2 2 2 2 2 2 2 2 2 2 2 2 2 2 2 2 2 2 2 2 2 2 2 2 2 2 2 2 2 2 2 2 2 2 2 2 2 2 2 2 2 2 2 2 2 2 2 2 2 2 2 3 3 3 3 3 3 3 3 3 3 3 3 3 3 3 3 3 3 3 3 3 3 3 3 3 3 3 3 3 3 3 3 3 3 3 3 3 3 3 3 3 3 3 3 3 3 3 3 3 3 3 3 3 3 3 3 3 3 3 3 3 3 3 3 3 3 3 3 3 3 3 3 3 3 3 3 3 3 3 3 3 3 3 3 3 3 3 3 3 3 3 3 3 3 3 3 3 3 3 3 3 3 3 3 3 3 3 3 3 3 3 3 3 3 3 3 3 3 3 3 3 3 3 3 3 3 3 3 3 3 3 3 3 3 3 3 3 3 3 3 3 3 3 3 3 3 3 3 3 3 3 3 3 3 3 3 3 3 4 4 4 4 4 4 4 4 4 4 4 4 4 4 4 4 4 4 4 4 4 4 4 4 4 4 4 4 4 4 4 4 4 4 4 4 4 4 4 4 4 4 4 4 4 4 4 4 4 4 4 4 4 4 4 4 4 4 4 4 4 4 4 4 4 4 4 4 4 4 4 4 4 4 4 4 4 4 4 4 4 4 4 4 4 4 4 4 4 4 4 4 4 4 4 4 4 4 4 4 4 4 4 4 4 4 4 4 4 4 4 4 4 4 4 4 4 4 4 4 4 4 4 4 4 4 4 4 4 4 4 4 4 4 4 4 4 4 4 4 4 4 4 4 4 4 4 4 4 4 4 4 4 4 4 4 4 5 5 5 5 5 5 5 5 5 5 5 5 5 5 5 5 5 5 5 5 5 5 5 5 5 5 5 5 5 5 5 5 5 5 5 5 5 5 5 5 5 5 5 5 5 5 5 5 5 5 5 5 5 5 5 5 5 5 5 5 5 5 5 5 5 5 5 5 5 5 5 5 5 5 5 5 5 5 5 5 5 5 5 5 5 5 5 5 5 5 5 5 5 5 5 5 5 5 5 5 5 5 5 5 5 5 5 5 5 5 5 5 5 5 5 5 5 5 5 5 5 5 5 5 5 5 5 5 5 5 5 5 5 5 5 5 5 5 5 5 5 5 5 5 5 5 5 5 5 5 5 5 5 5 5 5 5 6 6 6 6 6 6 6 6 6 6 6 6 6 6 6 6 6 6 6 6 6 6 6 6 6 6 6 6 6 6 6 6 6 6 6 6 6 6 6 6 6 6 6 6 6 6 6 6 6 6 6 6 6 6 6 6 6 6 6 6 6 6 6 6 6 6 6 6 6 6 6 6 6 6 6 6 6 6 6 6 6 6 6 6 6 6 6 6 6 6 6 6 6 6 6 6 6 6 6 6 6 6 6 6 6 6 6 6 6 6 6 6 6 6 6 6 6 6 6 6 6 6 6 6 6 6 6 6 6 6 6 6 6 6 6 6 6 6 6 6 6 6 6 6 6 6 6 6 6 6 6 6 6 6 6 6 6 6 7 7 7 7 7 7 7 7 7 7 7 7 7 7 7 7 7 7 7 7 7 7 7 7 7 7 7 7 7 7 7 7 7 7 7 7 7 7 7 7 7 7 7 7 7 7 7 7 7 7 7 7 7 7 7 7 7 7 7 7 7 7 7 7 7 7 7 7 7 7 7 7 7 7 7 7 7 7 7 7 7 7 7 7 7 7 7 7 7 7 7 7 7 7 7 7 7 7 7 7 7 7 7 7 7 7 7 7 7 7 7 7 7 7 7 7 7 7 7 7 7 7 7 7 7 7 7 7 7 7 7 7 7 7 7 7 7 7 7 7 7 7 7 7 7 7 7 7 7 7 7 7 7 7 7 7 7 8 8 8 8 8 8 8 8 8 8 8 8 8 8 8 8 8 8 8 8 8 8 8 8 8 8 8 8 8 8 8 8 8 8 8 8 8 8 8 8 8 8 8 8 8 8 8 8 8 8 8 8 8 8 8 8 8 8 8 8 8 8 8 8 8 8 8 8 8 8 8 8 8 8 8 8 8 8 8 8 8 8 8 8 8 8 8 8 8 8 8 8 8 8 8 8 8 8 8 8 8 8 8 8 8 8 8 8 8 8 8 8 8 8 8 8 8 8 8 8 8 8 8 8 8 8 8 8 8 8 8 8 8 8 8 8 8 8 8 8 8 8 8 8 8 8 8 8 8 8 8 8 8 8 8 8 8 9 9 9 9 9 9 9 9 9 9 9 9 9 9 9 9 9 9 9 9 9 9 9 9 9 9 9 9 9 9 9 9 9 9 9 9 9 9 9 9 9 9 9 9 9 9 9 9 9 9 9 9 9 9 9 9 9 9 9 9 9 9 9 9 9 9 9 9 9 9 9 9 9 9 9 9 9 9 9 9 9 9 9 9 9 9 9 9 9 9 9 9 9 9 9 9 9 9 9 9 9 9 9 9 9 9 9 9 9 9 9 9 9 9 9 9 9 9 9 9 9 9 9 9 9 9 9 9 9 9 9 9 9 9 9 9 9 9 9 9 9 9 9 9 9 9 9 9 9 9 9 9 9 9 9 9 91010101010101010\n",
      "done.\n",
      "Generating data for customers tabledone.\n",
      "Generating data for orders/lineitem tablesdone.\n",
      "Generating data for part/partsupplier tablesdone.\n",
      "Generating data for nation tabledone.\n",
      "Generating data for region tabledone.\n"
     ]
    },
    {
     "name": "stdout",
     "output_type": "stream",
     "text": [
      "generated data for the load phase\n"
     ]
    },
    {
     "name": "stderr",
     "output_type": "stream",
     "text": [
      "TPC-H Population Generator (Version 2.14.0)\n",
      "Copyright Transaction Processing Performance Council 1994 - 2010\n",
      "Generating update pair #1 for orders/lineitem tables\n",
      "Preloading text ...                                                                                                                                                                                                                                                                                                              1 1 1 1 1 1 1 1 1 1 1 1 1 1 1 1 1 1 1 1 1 1 1 1 1 1 1 1 1 1 1 1 1 1 1 1 1 1 1 1 1 1 1 1 1 1 1 1 1 1 1 1 1 1 1 1 1 1 1 1 1 1 1 1 1 1 1 1 1 1 1 1 1 1 1 1 1 1 1 1 1 1 1 1 1 1 1 1 1 1 1 1 1 1 1 1 1 1 1 1 1 1 1 1 1 1 1 1 1 1 1 1 1 1 1 1 1 1 1 1 1 1 1 1 1 1 1 1 1 1 1 1 1 1 1 1 1 1 1 1 1 1 1 1 1 1 1 1 1 1 1 1 1 1 1 1 1 2 2 2 2 2 2 2 2 2 2 2 2 2 2 2 2 2 2 2 2 2 2 2 2 2 2 2 2 2 2 2 2 2 2 2 2 2 2 2 2 2 2 2 2 2 2 2 2 2 2 2 2 2 2 2 2 2 2 2 2 2 2 2 2 2 2 2 2 2 2 2 2 2 2 2 2 2 2 2 2 2 2 2 2 2 2 2 2 2 2 2 2 2 2 2 2 2 2 2 2 2 2 2 2 2 2 2 2 2 2 2 2 2 2 2 2 2 2 2 2 2 2 2 2 2 2 2 2 2 2 2 2 2 2 2 2 2 2 2 2 2 2 2 2 2 2 2 2 2 2 2 2 2 2 2 2 2 3 3 3 3 3 3 3 3 3 3 3 3 3 3 3 3 3 3 3 3 3 3 3 3 3 3 3 3 3 3 3 3 3 3 3 3 3 3 3 3 3 3 3 3 3 3 3 3 3 3 3 3 3 3 3 3 3 3 3 3 3 3 3 3 3 3 3 3 3 3 3 3 3 3 3 3 3 3 3 3 3 3 3 3 3 3 3 3 3 3 3 3 3 3 3 3 3 3 3 3 3 3 3 3 3 3 3 3 3 3 3 3 3 3 3 3 3 3 3 3 3 3 3 3 3 3 3 3 3 3 3 3 3 3 3 3 3 3 3 3 3 3 3 3 3 3 3 3 3 3 3 3 3 3 3 3 3 3 4 4 4 4 4 4 4 4 4 4 4 4 4 4 4 4 4 4 4 4 4 4 4 4 4 4 4 4 4 4 4 4 4 4 4 4 4 4 4 4 4 4 4 4 4 4 4 4 4 4 4 4 4 4 4 4 4 4 4 4 4 4 4 4 4 4 4 4 4 4 4 4 4 4 4 4 4 4 4 4 4 4 4 4 4 4 4 4 4 4 4 4 4 4 4 4 4 4 4 4 4 4 4 4 4 4 4 4 4 4 4 4 4 4 4 4 4 4 4 4 4 4 4 4 4 4 4 4 4 4 4 4 4 4 4 4 4 4 4 4 4 4 4 4 4 4 4 4 4 4 4 4 4 4 4 4 4 5 5 5 5 5 5 5 5 5 5 5 5 5 5 5 5 5 5 5 5 5 5 5 5 5 5 5 5 5 5 5 5 5 5 5 5 5 5 5 5 5 5 5 5 5 5 5 5 5 5 5 5 5 5 5 5 5 5 5 5 5 5 5 5 5 5 5 5 5 5 5 5 5 5 5 5 5 5 5 5 5 5 5 5 5 5 5 5 5 5 5 5 5 5 5 5 5 5 5 5 5 5 5 5 5 5 5 5 5 5 5 5 5 5 5 5 5 5 5 5 5 5 5 5 5 5 5 5 5 5 5 5 5 5 5 5 5 5 5 5 5 5 5 5 5 5 5 5 5 5 5 5 5 5 5 5 5 6 6 6 6 6 6 6 6 6 6 6 6 6 6 6 6 6 6 6 6 6 6 6 6 6 6 6 6 6 6 6 6 6 6 6 6 6 6 6 6 6 6 6 6 6 6 6 6 6 6 6 6 6 6 6 6 6 6 6 6 6 6 6 6 6 6 6 6 6 6 6 6 6 6 6 6 6 6 6 6 6 6 6 6 6 6 6 6 6 6 6 6 6 6 6 6 6 6 6 6 6 6 6 6 6 6 6 6 6 6 6 6 6 6 6 6 6 6 6 6 6 6 6 6 6 6 6 6 6 6 6 6 6 6 6 6 6 6 6 6 6 6 6 6 6 6 6 6 6 6 6 6 6 6 6 6 6 6 7 7 7 7 7 7 7 7 7 7 7 7 7 7 7 7 7 7 7 7 7 7 7 7 7 7 7 7 7 7 7 7 7 7 7 7 7 7 7 7 7 7 7 7 7 7 7 7 7 7 7 7 7 7 7 7 7 7 7 7 7 7 7 7 7 7 7 7 7 7 7 7 7 7 7 7 7 7 7 7 7 7 7 7 7 7 7 7 7 7 7 7 7 7 7 7 7 7 7 7 7 7 7 7 7 7 7 7 7 7 7 7 7 7 7 7 7 7 7 7 7 7 7 7 7 7 7 7 7 7 7 7 7 7 7 7 7 7 7 7 7 7 7 7 7 7 7 7 7 7 7 7 7 7 7 7 7 8 8 8 8 8 8 8 8 8 8 8 8 8 8 8 8 8 8 8 8 8 8 8 8 8 8 8 8 8 8 8 8 8 8 8 8 8 8 8 8 8 8 8 8 8 8 8 8 8 8 8 8 8 8 8 8 8 8 8 8 8 8 8 8 8 8 8 8 8 8 8 8 8 8 8 8 8 8 8 8 8 8 8 8 8 8 8 8 8 8 8 8 8 8 8 8 8 8 8 8 8 8 8 8 8 8 8 8 8 8 8 8 8 8 8 8 8 8 8 8 8 8 8 8 8 8 8 8 8 8 8 8 8 8 8 8 8 8 8 8 8 8 8 8 8 8 8 8 8 8 8 8 8 8 8 8 8 9 9 9 9 9 9 9 9 9 9 9 9 9 9 9 9 9 9 9 9 9 9 9 9 9 9 9 9 9 9 9 9 9 9 9 9 9 9 9 9 9 9 9 9 9 9 9 9 9 9 9 9 9 9 9 9 9 9 9 9 9 9 9 9 9 9 9 9 9 9 9 9 9 9 9 9 9 9 9 9 9 9 9 9 9 9 9 9 9 9 9 9 9 9 9 9 9 9 9 9 9 9 9 9 9 9 9 9 9 9 9 9 9 9 9 9 9 9 9 9 9 9 9 9 9 9 9 9 9 9 9 9 9 9 9 9 9 9 9 9 9 9 9 9 9 9 9 9 9 9 9 9 9 9 9 9 91010101010101010\n",
      "done.\n",
      "Generating update pair #2 for orders/lineitem tablesdone.\n",
      "Generating update pair #3 for orders/lineitem tablesdone.\n"
     ]
    },
    {
     "name": "stdout",
     "output_type": "stream",
     "text": [
      "generated data for the update phase\n",
      "generated data for the delete phase\n",
      "created data files in ./data\n",
      "created query files in ./query_root\n"
     ]
    }
   ],
   "source": [
    "%run tpch_pgsql.py prepare"
   ]
  },
  {
   "cell_type": "markdown",
   "id": "79754872",
   "metadata": {},
   "source": [
    "Carregando"
   ]
  },
  {
   "cell_type": "code",
   "execution_count": 17,
   "id": "201e7fdc",
   "metadata": {},
   "outputs": [
    {
     "name": "stdout",
     "output_type": "stream",
     "text": [
      "dropped existing tables\n",
      "cleaned database tpchdb\n",
      "done creating schemas\n",
      "unable to run load tables. COPY from stdin failed: error in .read() call\n",
      "CONTEXT:  COPY lineitem, line 5618284\n",
      "\n",
      "could not load data to tables\n"
     ]
    },
    {
     "ename": "NameError",
     "evalue": "name 'exit' is not defined",
     "output_type": "error",
     "traceback": [
      "\u001b[0;31m---------------------------------------------------------------------------\u001b[0m",
      "\u001b[0;31mNameError\u001b[0m                                 Traceback (most recent call last)",
      "File \u001b[0;32m/app/datadir/tpch-pgsql-master/tpch_pgsql.py:215\u001b[0m\n\u001b[1;32m    212\u001b[0m     num_streams \u001b[38;5;241m=\u001b[39m scale_to_num_streams(scale)\n\u001b[1;32m    214\u001b[0m \u001b[38;5;66;03m# main\u001b[39;00m\n\u001b[0;32m--> 215\u001b[0m \u001b[43mmain\u001b[49m\u001b[43m(\u001b[49m\u001b[43mphase\u001b[49m\u001b[43m,\u001b[49m\u001b[43m \u001b[49m\u001b[43mhost\u001b[49m\u001b[43m,\u001b[49m\u001b[43m \u001b[49m\u001b[43mport\u001b[49m\u001b[43m,\u001b[49m\u001b[43m \u001b[49m\u001b[43muser\u001b[49m\u001b[43m,\u001b[49m\u001b[43m \u001b[49m\u001b[43mpassword\u001b[49m\u001b[43m,\u001b[49m\u001b[43m \u001b[49m\u001b[43mdatabase\u001b[49m\u001b[43m,\u001b[49m\u001b[43m \u001b[49m\u001b[43mdbgen_dir\u001b[49m\u001b[43m,\u001b[49m\u001b[43m \u001b[49m\u001b[43mdata_dir\u001b[49m\u001b[43m,\u001b[49m\u001b[43m \u001b[49m\u001b[43mquery_root\u001b[49m\u001b[43m,\u001b[49m\u001b[43m \u001b[49m\u001b[43mscale\u001b[49m\u001b[43m,\u001b[49m\u001b[43m \u001b[49m\u001b[43mnum_streams\u001b[49m\u001b[43m,\u001b[49m\u001b[43m \u001b[49m\u001b[43mverbose\u001b[49m\u001b[43m,\u001b[49m\u001b[43m \u001b[49m\u001b[43mread_only\u001b[49m\u001b[43m)\u001b[49m\n",
      "File \u001b[0;32m/app/datadir/tpch-pgsql-master/tpch_pgsql.py:135\u001b[0m, in \u001b[0;36mmain\u001b[0;34m(phase, host, port, user, password, database, dbgen_dir, data_dir, query_root, scale, num_streams, verbose, read_only)\u001b[0m\n\u001b[1;32m    133\u001b[0m \u001b[38;5;28;01mif\u001b[39;00m load\u001b[38;5;241m.\u001b[39mload_tables(data_dir, host, port, database, user, password, TABLES, LOAD_DIR):\n\u001b[1;32m    134\u001b[0m     \u001b[38;5;28mprint\u001b[39m(\u001b[38;5;124m\"\u001b[39m\u001b[38;5;124mcould not load data to tables\u001b[39m\u001b[38;5;124m\"\u001b[39m)\n\u001b[0;32m--> 135\u001b[0m     \u001b[43mexit\u001b[49m(\u001b[38;5;241m1\u001b[39m)\n\u001b[1;32m    136\u001b[0m result\u001b[38;5;241m.\u001b[39msetMetric(\u001b[38;5;124m\"\u001b[39m\u001b[38;5;124mload_data\u001b[39m\u001b[38;5;124m\"\u001b[39m, result\u001b[38;5;241m.\u001b[39mstopTimer())\n\u001b[1;32m    137\u001b[0m \u001b[38;5;28mprint\u001b[39m(\u001b[38;5;124m\"\u001b[39m\u001b[38;5;124mdone loading data to tables\u001b[39m\u001b[38;5;124m\"\u001b[39m)\n",
      "\u001b[0;31mNameError\u001b[0m: name 'exit' is not defined"
     ]
    }
   ],
   "source": [
    "%run tpch_pgsql.py load"
   ]
  },
  {
   "cell_type": "markdown",
   "id": "0e5900e0",
   "metadata": {},
   "source": [
    "## Questão 3 - Esperando o Tarsis me responder"
   ]
  },
  {
   "cell_type": "code",
   "execution_count": 8,
   "id": "83eae5fb",
   "metadata": {},
   "outputs": [
    {
     "name": "stdout",
     "output_type": "stream",
     "text": [
      "Power tests started ...\n",
      "Power tests finished.\n",
      "Throughput tests started ...\n",
      "Throughput tests in stream #1 started ...\n",
      "Throughput tests in stream #2 started ...\n",
      "Throughput tests finished.\n",
      "done performance tests\n",
      "Power@Size = 3112.2820672685325\n",
      "Throughput@Size = 2821.0218200516842\n",
      "QphH@Size = 2963.0753655484523\n",
      "============================================================\n",
      "========================= Metrics ==========================\n",
      "============================================================\n",
      "power_size: 3112.2820672685325\n",
      "throughput_size: 2821.0218200516842\n",
      "qphh_size: 2963.0753655484523\n",
      "============================================================\n",
      "======================= End Results ========================\n",
      "============================================================\n"
     ]
    }
   ],
   "source": [
    "%run tpch_pgsql.py query"
   ]
  },
  {
   "cell_type": "markdown",
   "id": "e9759ef3",
   "metadata": {},
   "source": [
    "## Questão 4 *"
   ]
  },
  {
   "cell_type": "markdown",
   "id": "cffd087f",
   "metadata": {},
   "source": [
    "Processador"
   ]
  },
  {
   "cell_type": "code",
   "execution_count": 15,
   "id": "166f2ca0",
   "metadata": {},
   "outputs": [
    {
     "name": "stdout",
     "output_type": "stream",
     "text": [
      "processor\t: 0\r\n",
      "vendor_id\t: GenuineIntel\r\n",
      "cpu family\t: 6\r\n",
      "model\t\t: 158\r\n",
      "model name\t: Intel(R) Core(TM) i5-7400 CPU @ 3.00GHz\r\n",
      "stepping\t: 9\r\n",
      "microcode\t: 0xf0\r\n",
      "cpu MHz\t\t: 3302.556\r\n",
      "cache size\t: 6144 KB\r\n",
      "physical id\t: 0\r\n",
      "siblings\t: 4\r\n",
      "core id\t\t: 0\r\n",
      "cpu cores\t: 4\r\n",
      "apicid\t\t: 0\r\n",
      "initial apicid\t: 0\r\n",
      "fpu\t\t: yes\r\n",
      "fpu_exception\t: yes\r\n",
      "cpuid level\t: 22\r\n",
      "wp\t\t: yes\r\n",
      "flags\t\t: fpu vme de pse tsc msr pae mce cx8 apic sep mtrr pge mca cmov pat pse36 clflush dts acpi mmx fxsr sse sse2 ss ht tm pbe syscall nx pdpe1gb rdtscp lm constant_tsc art arch_perfmon pebs bts rep_good nopl xtopology nonstop_tsc cpuid aperfmperf pni pclmulqdq dtes64 monitor ds_cpl vmx est tm2 ssse3 sdbg fma cx16 xtpr pdcm pcid sse4_1 sse4_2 x2apic movbe popcnt tsc_deadline_timer aes xsave avx f16c rdrand lahf_lm abm 3dnowprefetch cpuid_fault epb invpcid_single pti ssbd ibrs ibpb stibp tpr_shadow vnmi flexpriority ept vpid ept_ad fsgsbase tsc_adjust bmi1 avx2 smep bmi2 erms invpcid mpx rdseed adx smap clflushopt intel_pt xsaveopt xsavec xgetbv1 xsaves dtherm ida arat pln pts hwp hwp_notify hwp_act_window hwp_epp md_clear flush_l1d arch_capabilities\r\n",
      "vmx flags\t: vnmi preemption_timer invvpid ept_x_only ept_ad ept_1gb flexpriority tsc_offset vtpr mtf vapic ept vpid unrestricted_guest ple shadow_vmcs pml ept_mode_based_exec\r\n",
      "bugs\t\t: cpu_meltdown spectre_v1 spectre_v2 spec_store_bypass l1tf mds swapgs itlb_multihit srbds mmio_stale_data retbleed\r\n",
      "bogomips\t: 6000.00\r\n",
      "clflush size\t: 64\r\n",
      "cache_alignment\t: 64\r\n",
      "address sizes\t: 39 bits physical, 48 bits virtual\r\n",
      "power management:\r\n",
      "\r\n",
      "processor\t: 1\r\n",
      "vendor_id\t: GenuineIntel\r\n",
      "cpu family\t: 6\r\n",
      "model\t\t: 158\r\n",
      "model name\t: Intel(R) Core(TM) i5-7400 CPU @ 3.00GHz\r\n",
      "stepping\t: 9\r\n",
      "microcode\t: 0xf0\r\n",
      "cpu MHz\t\t: 3300.021\r\n",
      "cache size\t: 6144 KB\r\n",
      "physical id\t: 0\r\n",
      "siblings\t: 4\r\n",
      "core id\t\t: 1\r\n",
      "cpu cores\t: 4\r\n",
      "apicid\t\t: 2\r\n",
      "initial apicid\t: 2\r\n",
      "fpu\t\t: yes\r\n",
      "fpu_exception\t: yes\r\n",
      "cpuid level\t: 22\r\n",
      "wp\t\t: yes\r\n",
      "flags\t\t: fpu vme de pse tsc msr pae mce cx8 apic sep mtrr pge mca cmov pat pse36 clflush dts acpi mmx fxsr sse sse2 ss ht tm pbe syscall nx pdpe1gb rdtscp lm constant_tsc art arch_perfmon pebs bts rep_good nopl xtopology nonstop_tsc cpuid aperfmperf pni pclmulqdq dtes64 monitor ds_cpl vmx est tm2 ssse3 sdbg fma cx16 xtpr pdcm pcid sse4_1 sse4_2 x2apic movbe popcnt tsc_deadline_timer aes xsave avx f16c rdrand lahf_lm abm 3dnowprefetch cpuid_fault epb invpcid_single pti ssbd ibrs ibpb stibp tpr_shadow vnmi flexpriority ept vpid ept_ad fsgsbase tsc_adjust bmi1 avx2 smep bmi2 erms invpcid mpx rdseed adx smap clflushopt intel_pt xsaveopt xsavec xgetbv1 xsaves dtherm ida arat pln pts hwp hwp_notify hwp_act_window hwp_epp md_clear flush_l1d arch_capabilities\r\n",
      "vmx flags\t: vnmi preemption_timer invvpid ept_x_only ept_ad ept_1gb flexpriority tsc_offset vtpr mtf vapic ept vpid unrestricted_guest ple shadow_vmcs pml ept_mode_based_exec\r\n",
      "bugs\t\t: cpu_meltdown spectre_v1 spectre_v2 spec_store_bypass l1tf mds swapgs itlb_multihit srbds mmio_stale_data retbleed\r\n",
      "bogomips\t: 6000.00\r\n",
      "clflush size\t: 64\r\n",
      "cache_alignment\t: 64\r\n",
      "address sizes\t: 39 bits physical, 48 bits virtual\r\n",
      "power management:\r\n",
      "\r\n",
      "processor\t: 2\r\n",
      "vendor_id\t: GenuineIntel\r\n",
      "cpu family\t: 6\r\n",
      "model\t\t: 158\r\n",
      "model name\t: Intel(R) Core(TM) i5-7400 CPU @ 3.00GHz\r\n",
      "stepping\t: 9\r\n",
      "microcode\t: 0xf0\r\n",
      "cpu MHz\t\t: 3312.543\r\n",
      "cache size\t: 6144 KB\r\n",
      "physical id\t: 0\r\n",
      "siblings\t: 4\r\n",
      "core id\t\t: 2\r\n",
      "cpu cores\t: 4\r\n",
      "apicid\t\t: 4\r\n",
      "initial apicid\t: 4\r\n",
      "fpu\t\t: yes\r\n",
      "fpu_exception\t: yes\r\n",
      "cpuid level\t: 22\r\n",
      "wp\t\t: yes\r\n",
      "flags\t\t: fpu vme de pse tsc msr pae mce cx8 apic sep mtrr pge mca cmov pat pse36 clflush dts acpi mmx fxsr sse sse2 ss ht tm pbe syscall nx pdpe1gb rdtscp lm constant_tsc art arch_perfmon pebs bts rep_good nopl xtopology nonstop_tsc cpuid aperfmperf pni pclmulqdq dtes64 monitor ds_cpl vmx est tm2 ssse3 sdbg fma cx16 xtpr pdcm pcid sse4_1 sse4_2 x2apic movbe popcnt tsc_deadline_timer aes xsave avx f16c rdrand lahf_lm abm 3dnowprefetch cpuid_fault epb invpcid_single pti ssbd ibrs ibpb stibp tpr_shadow vnmi flexpriority ept vpid ept_ad fsgsbase tsc_adjust bmi1 avx2 smep bmi2 erms invpcid mpx rdseed adx smap clflushopt intel_pt xsaveopt xsavec xgetbv1 xsaves dtherm ida arat pln pts hwp hwp_notify hwp_act_window hwp_epp md_clear flush_l1d arch_capabilities\r\n",
      "vmx flags\t: vnmi preemption_timer invvpid ept_x_only ept_ad ept_1gb flexpriority tsc_offset vtpr mtf vapic ept vpid unrestricted_guest ple shadow_vmcs pml ept_mode_based_exec\r\n",
      "bugs\t\t: cpu_meltdown spectre_v1 spectre_v2 spec_store_bypass l1tf mds swapgs itlb_multihit srbds mmio_stale_data retbleed\r\n",
      "bogomips\t: 6000.00\r\n",
      "clflush size\t: 64\r\n",
      "cache_alignment\t: 64\r\n",
      "address sizes\t: 39 bits physical, 48 bits virtual\r\n",
      "power management:\r\n",
      "\r\n",
      "processor\t: 3\r\n",
      "vendor_id\t: GenuineIntel\r\n",
      "cpu family\t: 6\r\n",
      "model\t\t: 158\r\n",
      "model name\t: Intel(R) Core(TM) i5-7400 CPU @ 3.00GHz\r\n",
      "stepping\t: 9\r\n",
      "microcode\t: 0xf0\r\n",
      "cpu MHz\t\t: 3318.661\r\n",
      "cache size\t: 6144 KB\r\n",
      "physical id\t: 0\r\n",
      "siblings\t: 4\r\n",
      "core id\t\t: 3\r\n",
      "cpu cores\t: 4\r\n",
      "apicid\t\t: 6\r\n",
      "initial apicid\t: 6\r\n",
      "fpu\t\t: yes\r\n",
      "fpu_exception\t: yes\r\n",
      "cpuid level\t: 22\r\n",
      "wp\t\t: yes\r\n",
      "flags\t\t: fpu vme de pse tsc msr pae mce cx8 apic sep mtrr pge mca cmov pat pse36 clflush dts acpi mmx fxsr sse sse2 ss ht tm pbe syscall nx pdpe1gb rdtscp lm constant_tsc art arch_perfmon pebs bts rep_good nopl xtopology nonstop_tsc cpuid aperfmperf pni pclmulqdq dtes64 monitor ds_cpl vmx est tm2 ssse3 sdbg fma cx16 xtpr pdcm pcid sse4_1 sse4_2 x2apic movbe popcnt tsc_deadline_timer aes xsave avx f16c rdrand lahf_lm abm 3dnowprefetch cpuid_fault epb invpcid_single pti ssbd ibrs ibpb stibp tpr_shadow vnmi flexpriority ept vpid ept_ad fsgsbase tsc_adjust bmi1 avx2 smep bmi2 erms invpcid mpx rdseed adx smap clflushopt intel_pt xsaveopt xsavec xgetbv1 xsaves dtherm ida arat pln pts hwp hwp_notify hwp_act_window hwp_epp md_clear flush_l1d arch_capabilities\r\n",
      "vmx flags\t: vnmi preemption_timer invvpid ept_x_only ept_ad ept_1gb flexpriority tsc_offset vtpr mtf vapic ept vpid unrestricted_guest ple shadow_vmcs pml ept_mode_based_exec\r\n",
      "bugs\t\t: cpu_meltdown spectre_v1 spectre_v2 spec_store_bypass l1tf mds swapgs itlb_multihit srbds mmio_stale_data retbleed\r\n",
      "bogomips\t: 6000.00\r\n",
      "clflush size\t: 64\r\n",
      "cache_alignment\t: 64\r\n",
      "address sizes\t: 39 bits physical, 48 bits virtual\r\n",
      "power management:\r\n",
      "\r\n"
     ]
    }
   ],
   "source": [
    "!cat /proc/cpuinfo"
   ]
  },
  {
   "cell_type": "markdown",
   "id": "e1d99231",
   "metadata": {},
   "source": [
    "Memória RAM"
   ]
  },
  {
   "cell_type": "code",
   "execution_count": 16,
   "id": "ec997fde",
   "metadata": {},
   "outputs": [
    {
     "name": "stdout",
     "output_type": "stream",
     "text": [
      "               total        used        free      shared  buff/cache   available\r\n",
      "Mem:            31Gi       4.3Gi       5.7Gi       334Mi        21Gi        26Gi\r\n",
      "Swap:          4.7Gi          0B       4.7Gi\r\n"
     ]
    }
   ],
   "source": [
    "!free -h"
   ]
  },
  {
   "cell_type": "markdown",
   "id": "90de9ad1",
   "metadata": {},
   "source": [
    "Tamanho do disco"
   ]
  },
  {
   "cell_type": "code",
   "execution_count": 17,
   "id": "c8131d9d",
   "metadata": {},
   "outputs": [
    {
     "name": "stdout",
     "output_type": "stream",
     "text": [
      "Filesystem      Size  Used Avail Use% Mounted on\r\n",
      "overlay         303G  124G  164G  44% /\r\n",
      "tmpfs            64M     0   64M   0% /dev\r\n",
      "shm             1.0G  1.1M 1023M   1% /dev/shm\r\n",
      "/dev/sdb6       303G  124G  164G  44% /app/datadir\r\n",
      "tmpfs            16G     0   16G   0% /proc/asound\r\n",
      "tmpfs            16G     0   16G   0% /proc/acpi\r\n",
      "tmpfs            16G     0   16G   0% /proc/scsi\r\n",
      "tmpfs            16G     0   16G   0% /sys/firmware\r\n"
     ]
    }
   ],
   "source": [
    "!df -h"
   ]
  },
  {
   "cell_type": "markdown",
   "id": "07ff7317",
   "metadata": {},
   "source": [
    "Caches:"
   ]
  },
  {
   "cell_type": "code",
   "execution_count": 18,
   "id": "2db55f09",
   "metadata": {},
   "outputs": [
    {
     "name": "stdout",
     "output_type": "stream",
     "text": [
      "Architecture:            x86_64\r\n",
      "  CPU op-mode(s):        32-bit, 64-bit\r\n",
      "  Address sizes:         39 bits physical, 48 bits virtual\r\n",
      "  Byte Order:            Little Endian\r\n",
      "CPU(s):                  4\r\n",
      "  On-line CPU(s) list:   0-3\r\n",
      "Vendor ID:               GenuineIntel\r\n",
      "  Model name:            Intel(R) Core(TM) i5-7400 CPU @ 3.00GHz\r\n",
      "    CPU family:          6\r\n",
      "    Model:               158\r\n",
      "    Thread(s) per core:  1\r\n",
      "    Core(s) per socket:  4\r\n",
      "    Socket(s):           1\r\n",
      "    Stepping:            9\r\n",
      "    CPU max MHz:         3500.0000\r\n",
      "    CPU min MHz:         800.0000\r\n",
      "    BogoMIPS:            6000.00\r\n",
      "    Flags:               fpu vme de pse tsc msr pae mce cx8 apic sep mtrr pge mc\r\n",
      "                         a cmov pat pse36 clflush dts acpi mmx fxsr sse sse2 ss \r\n",
      "                         ht tm pbe syscall nx pdpe1gb rdtscp lm constant_tsc art\r\n",
      "                          arch_perfmon pebs bts rep_good nopl xtopology nonstop_\r\n",
      "                         tsc cpuid aperfmperf pni pclmulqdq dtes64 monitor ds_cp\r\n",
      "                         l vmx est tm2 ssse3 sdbg fma cx16 xtpr pdcm pcid sse4_1\r\n",
      "                          sse4_2 x2apic movbe popcnt tsc_deadline_timer aes xsav\r\n",
      "                         e avx f16c rdrand lahf_lm abm 3dnowprefetch cpuid_fault\r\n",
      "                          epb invpcid_single pti ssbd ibrs ibpb stibp tpr_shadow\r\n",
      "                          vnmi flexpriority ept vpid ept_ad fsgsbase tsc_adjust \r\n",
      "                         bmi1 avx2 smep bmi2 erms invpcid mpx rdseed adx smap cl\r\n",
      "                         flushopt intel_pt xsaveopt xsavec xgetbv1 xsaves dtherm\r\n",
      "                          ida arat pln pts hwp hwp_notify hwp_act_window hwp_epp\r\n",
      "                          md_clear flush_l1d arch_capabilities\r\n",
      "Virtualization features: \r\n",
      "  Virtualization:        VT-x\r\n",
      "Caches (sum of all):     \r\n",
      "  L1d:                   128 KiB (4 instances)\r\n",
      "  L1i:                   128 KiB (4 instances)\r\n",
      "  L2:                    1 MiB (4 instances)\r\n",
      "  L3:                    6 MiB (1 instance)\r\n",
      "NUMA:                    \r\n",
      "  NUMA node(s):          1\r\n",
      "  NUMA node0 CPU(s):     0-3\r\n",
      "Vulnerabilities:         \r\n",
      "  Itlb multihit:         KVM: Mitigation: VMX disabled\r\n",
      "  L1tf:                  Mitigation; PTE Inversion; VMX conditional cache flushe\r\n",
      "                         s, SMT disabled\r\n",
      "  Mds:                   Mitigation; Clear CPU buffers; SMT disabled\r\n",
      "  Meltdown:              Mitigation; PTI\r\n",
      "  Mmio stale data:       Mitigation; Clear CPU buffers; SMT disabled\r\n",
      "  Retbleed:              Mitigation; IBRS\r\n",
      "  Spec store bypass:     Mitigation; Speculative Store Bypass disabled via prctl\r\n",
      "  Spectre v1:            Mitigation; usercopy/swapgs barriers and __user pointer\r\n",
      "                          sanitization\r\n",
      "  Spectre v2:            Mitigation; IBRS, IBPB conditional, RSB filling, PBRSB-\r\n",
      "                         eIBRS Not affected\r\n",
      "  Srbds:                 Mitigation; Microcode\r\n",
      "  Tsx async abort:       Not affected\r\n"
     ]
    }
   ],
   "source": [
    "!lscpu"
   ]
  },
  {
   "cell_type": "markdown",
   "id": "b9b86d72",
   "metadata": {},
   "source": [
    "Distribuição e versão do sistema:"
   ]
  },
  {
   "cell_type": "code",
   "execution_count": 19,
   "id": "8b36ecbe",
   "metadata": {},
   "outputs": [
    {
     "name": "stdout",
     "output_type": "stream",
     "text": [
      "No LSB modules are available.\r\n",
      "Distributor ID:\tUbuntu\r\n",
      "Description:\tUbuntu 22.04.2 LTS\r\n",
      "Release:\t22.04\r\n",
      "Codename:\tjammy\r\n"
     ]
    }
   ],
   "source": [
    "!lsb_release -a"
   ]
  },
  {
   "cell_type": "markdown",
   "id": "e3622ee4",
   "metadata": {},
   "source": [
    "Versão do kernel:"
   ]
  },
  {
   "cell_type": "code",
   "execution_count": 20,
   "id": "c607192e",
   "metadata": {},
   "outputs": [
    {
     "name": "stdout",
     "output_type": "stream",
     "text": [
      "5.19.0-43-generic\r\n"
     ]
    }
   ],
   "source": [
    "!uname -r"
   ]
  },
  {
   "cell_type": "markdown",
   "id": "ae13386b",
   "metadata": {},
   "source": [
    "## Questão 5*"
   ]
  },
  {
   "cell_type": "markdown",
   "id": "4906e654",
   "metadata": {},
   "source": [
    "Foi utilizado o comando:\n",
    "\n",
    "**sudo hdparm -I /dev/sdb**"
   ]
  },
  {
   "cell_type": "markdown",
   "id": "9629566a",
   "metadata": {},
   "source": [
    "### Informações do Dispositivo /dev/sdb\n",
    "\n",
    "- **Nome do Dispositivo**: /dev/sdb\n",
    "- **Modelo**: ST3500414CS\n",
    "- **Número de Série**: 9VVCCNQP\n",
    "- **Revisão de Firmware**: CA14\n",
    "- **Transporte**: Serial\n",
    "- **Padrões Usados**: desconhecido (código de revisão menor 0x0029), provavelmente 8\n",
    "\n",
    "#### Configuração\n",
    "- **Cilindros**: 16383\n",
    "- **Cabeças (superfícies)**: 16\n",
    "- **Setores por trilha**: 63\n",
    "- **Setores endereçáveis pelo usuário (CHS)**: 16514064\n",
    "- **Setores endereçáveis pelo usuário (LBA)**: 268435455\n",
    "- **Setores endereçáveis pelo usuário (LBA48)**: 976773168\n",
    "- **Tamanho do setor lógico/físico**: 512 bytes\n",
    "- **Tamanho do dispositivo**: 476940 MBytes (com M = 1024*1024), 500107 MBytes (com M = 1000*1000), o que é aproximadamente 500 GB\n",
    "- **Tamanho do cache/buffer**: 16384 KBytes\n",
    "- **Taxa de rotação do meio nominal**: 5900\n",
    "- **Tamanho de bloco**: 4096\n",
    "\n",
    "#### Capacidades\n",
    "- **Profundidade da fila**: 32\n",
    "- **Transferência múltipla de setor R/W**: Máximo = 16, Atual = 16\n",
    "- **Nível de gerenciamento de energia avançado**: 254\n",
    "\n"
   ]
  },
  {
   "cell_type": "markdown",
   "id": "872000e9",
   "metadata": {},
   "source": [
    "# Parte 2"
   ]
  },
  {
   "cell_type": "markdown",
   "id": "5ce5c3f2",
   "metadata": {},
   "source": [
    "## Questão 6"
   ]
  },
  {
   "cell_type": "markdown",
   "id": "8b218583",
   "metadata": {},
   "source": [
    "| Característica                  | Descrição                                                     |\n",
    "|:--------------------------------:|:---------------------------------------------------------------:|\n",
    "| **Modelo de Armazenamento**        | Baseado em páginas                                            |\n",
    "| **Tamanho da Página**              | Geralmente 8 KB, configurável                                 |\n",
    "| **Extensões**                      | Agrupamento contíguo de páginas (tamanho padrão de 1 MB)       |\n",
    "| **Arquivos de Relações**           | Dados de tabelas e índices armazenados em arquivos separados   |\n",
    "| **Controle de Transações**         | Write-Ahead Logging (WAL)                                     |\n",
    "| **Controle de Concorrência**       | Bloqueios, controle de versões e outros mecanismos             |\n",
    "| **Organização Física das Tabelas** | Tuplas organizadas em páginas, não necessariamente em ordem sequencial |\n",
    "| **Índices**                        | Estruturas de árvore B+ para rápida pesquisa e recuperação de dados |\n",
    "| **Compactação de Dados**           | Suporte a compressão de dados                                 |\n",
    "| **Gerenciamento de Espaço**        | Alocação dinâmica de espaço para tabelas e índices             |\n",
    "| **Tablespaces**                    | Permite a organização de objetos de banco de dados em diferentes diretórios **ou dispositivos de armazenamento** |\n",
    "| **Controle de Acesso**             | Suporte a ACLs (Access Control Lists)                         |\n",
    "| **Replicação**                     | Suporte a replicação síncrona e assíncrona                     |\n",
    "| **Backup e Restauração**           | Suporte a backup e restauração granulares                      |\n",
    "| **Recuperação de Falhas**          | Mecanismos de recuperação para garantir a integridade dos dados após falhas |\n",
    "| **Configuração Flexível**          | Diversos parâmetros configuráveis para ajustar o desempenho e comportamento **do armazenamento** |\n"
   ]
  },
  {
   "cell_type": "markdown",
   "id": "635ccd24",
   "metadata": {},
   "source": [
    "* Todos os dados necessários para o armazenamento dos dados dos bancos de dados são localizados no diretório **PGDATA**, que possui vários subdiretórios e arquivos de controle.\n",
    "* Dentro do **PGDATA**/base há um subdiretório para cada banco de dados.\n",
    "* A partir da versão 7.1 do PostgreSQL, há a implementação de uma técnica de compressão de valores de campos muito grandes, chamada ***TOAST***. Porém, essa técnica só pode ser utilizada em tipos de dados que possuem uma representação de comprimento variável.\n",
    "* A disposição global das páginas se dá da seguinte forma:"
   ]
  },
  {
   "cell_type": "markdown",
   "id": "6f40ff80",
   "metadata": {},
   "source": [
    "> **PageHeaderData**: 20 bytes. Possui informações gerais sobre a página;  \n",
    "**ItemPointerData**: 4 bytes por item. Matriz de pares apontando para os itens existentes;  \n",
    "**Espaço Livre**: espaço não alocado. Novos itens serão alocados a partir desse espaço;  \n",
    "**Itens**: itens existentes;  \n",
    "**Espaço especial**: Dados específicos do método de acesso do índice."
   ]
  },
  {
   "cell_type": "markdown",
   "id": "6890b49d",
   "metadata": {},
   "source": [
    "## Questão 7"
   ]
  },
  {
   "cell_type": "markdown",
   "id": "fe672e09",
   "metadata": {},
   "source": [
    "|                     | ext2                   | ext3                   | ReiserFS               | XFS                    |\n",
    "|:---------------------:|:------------------------:|:------------------------:|:------------------------:|:------------------------:|\n",
    "| **Ano de lançamento**   | 1993                   | 2001                   | 1996                   | 1993                   |\n",
    "| **Principal vantagem**  | Simplicidade e robustez | Compatibilidade        | Desempenho             | Desempenho e escalabilidade |\n",
    "| **Máximo tamanho de arquivo**  | 2 TB             | 2 TB                   | 16 TB                  | 8 EB                   |\n",
    "| **Máximo tamanho de sistema de arquivos**   | 32 TB   | 16 TB                  | 16 TB                  | 8 EB                   |\n",
    "| **Journaling**        | Não                    | Sim                    | Sim                    | Sim                    |\n",
    "| **Suporte a ACLs**      | Não                    | Sim                    | Sim                    | Sim                    |\n",
    "| **Suporte a snapshot**  | Não                    | Não                    | Sim                    | Sim                    |\n",
    "| **Fragments**           | Sim                    | Não                    | Não                    | Não                    |\n",
    "| **Alocação de espaço**  | Bitmap                 | Bitmap                 | B-tree                 | Extent                 |\n",
    "| **Compactação**         | Não                    | Não                    | Sim                    | Não                    |\n",
    "| **Utilização em Sistemas Linux** | Sim             | Sim                    | Sim                    | Sim                    |\n",
    "| **Utilização em outros sistemas operacionais** | Não | Não                  | Sim                    | Sim                    |\n",
    " "
   ]
  },
  {
   "cell_type": "markdown",
   "id": "bc1aa4ea",
   "metadata": {},
   "source": [
    "### **Ext2**: \n",
    "* É conhecido por sua velocidade, já que não possui sobrecarga com journlaing e possui uma implementação eficiente.  \n",
    "* Organiza os dados em blocos, com uma estrutura de metadados que inclui o superbloco, grupos de blocos, inode, bitmap de blocos e bitmap de inodes.\n",
    "* Utiliza um esquema de fragmentação, onde um arquivo pode ocupar vários blocos não contíguos no sistema de arquivos. Isso pode levar a uma fragmentação significativa e impactar o desempenho.\n",
    "* Não possui suporte a journaling, o que significa que, em caso de falha do sistema, pode haver a necessidade de realizar uma verificação completa do sistema de arquivos (fsck) durante a inicialização para garantir a consistência dos dados."
   ]
  },
  {
   "cell_type": "markdown",
   "id": "7bc6f46d",
   "metadata": {},
   "source": [
    "### **Ext3**: \n",
    "* Uma das principais melhorias do ext3 em relação ao ext2 é a adição do journaling. O journaling registra as operações de gravação em um \"journal\" antes de serem aplicadas aos dados do sistema de arquivos, o que permite uma recuperação mais rápida em caso de falha do sistema.  \n",
    "\n",
    "* É totalmente retrocompatível com o ext2. Isso significa que é possível montar um sistema de arquivos ext3 como ext2 e vice-versa.  \n",
    "\n",
    "* Embora o ext3 tenha um desempenho ligeiramente inferior ao ext2 em operações de leitura e gravação, ele é mais rápido do que muitos outros sistemas de arquivos com journaling, devido a otimizações de acesso ao disco e gerenciamento de cache.  \n",
    "\n",
    "* Oferece suporte a Access Control Lists (ACLs), que permitem um controle mais granular sobre as permissões de acesso aos arquivos e diretórios."
   ]
  },
  {
   "cell_type": "markdown",
   "id": "e9c56c2e",
   "metadata": {},
   "source": [
    "### **ReiserFS**: \n",
    "* Utiliza uma estrutura de dados chamada B-tree para organizar os arquivos e diretórios no sistema de arquivos. Essa estrutura permite uma busca rápida e eficiente de arquivos, especialmente em cenários com um grande número de arquivos pequenos.  \n",
    "*  Uma das características distintivas do ReiserFS é o suporte à compactação de arquivos. Isso permite economizar espaço em disco comprimindo automaticamente os arquivos.\n",
    "* Possui suporte a snapshots, que são cópias instantâneas do sistema de arquivos em um determinado momento. Isso permite a recuperação de versões anteriores de arquivos ou o retorno do sistema de arquivos a um estado anterior."
   ]
  },
  {
   "cell_type": "markdown",
   "id": "9b3c2100",
   "metadata": {},
   "source": [
    "### **XFS**: \n",
    "*  O XFS utiliza um esquema de alocação de espaço chamado \"extent-based\", onde os arquivos são divididos em \"extents\" (intervalos contíguos de blocos) em vez de usar uma alocação em blocos individuais como outros sistemas de arquivos. \n",
    "* O XFS é conhecido por seu excelente desempenho e escalabilidade em sistemas com grandes volumes de dados. Ele é otimizado para trabalhar com arquivos de grande tamanho e alta taxa de transferência de dados, tornando-o adequado para casos de uso que exigem manipulação de dados intensiva, como bancos de dados, servidores de arquivos e ambientes de armazenamento em nuvem.\n",
    "* O XFS possui uma ampla variedade de ferramentas e recursos avançados de administração, incluindo recursos de monitoramento, ajuste fino de desempenho, balanceamento de carga e recuperação de dados."
   ]
  },
  {
   "cell_type": "markdown",
   "id": "ca8c2bfa",
   "metadata": {},
   "source": [
    "## Questão 8"
   ]
  },
  {
   "cell_type": "markdown",
   "id": "4e50ca14",
   "metadata": {},
   "source": []
  },
  {
   "cell_type": "markdown",
   "id": "38b8850d",
   "metadata": {},
   "source": [
    "## Questão 9"
   ]
  },
  {
   "cell_type": "code",
   "execution_count": 52,
   "id": "27f088d8",
   "metadata": {},
   "outputs": [],
   "source": [
    "import psycopg2\n",
    "from psycopg2 import sql\n",
    "\n",
    "# Conectar ao banco de dados PostgreSQL\n",
    "conn = psycopg2.connect(\n",
    "    dbname=\"tpchdb\",\n",
    "    user=\"postgres\",\n",
    "    password=\"postgres\",\n",
    "    host=\"localhost\",\n",
    "    port=\"5432\"\n",
    ")\n",
    "\n",
    "conn.autocommit = True\n",
    "cur = conn.cursor()"
   ]
  },
  {
   "cell_type": "markdown",
   "id": "12d663a0",
   "metadata": {},
   "source": [
    "## Questão 10"
   ]
  },
  {
   "cell_type": "code",
   "execution_count": 19,
   "id": "e7abe7c7",
   "metadata": {},
   "outputs": [
    {
     "name": "stdout",
     "output_type": "stream",
     "text": [
      "(1, 8)\n",
      "(2, 3)\n",
      "(3, 9)\n",
      "(4, 1)\n",
      "(5, 7)\n",
      "(6, 7)\n",
      "(7, 7)\n",
      "(8, 7)\n",
      "(9, 3)\n",
      "(10, 9)\n"
     ]
    }
   ],
   "source": [
    "# Criar a tabela e inserir dados\n",
    "cur.execute(\"\"\"\n",
    "    DROP TABLE IF EXISTS t;\n",
    "    CREATE TABLE t (k serial PRIMARY KEY, v integer);\n",
    "\"\"\")\n",
    "conn.commit()\n",
    "\n",
    "#for i in range(1, 100001):\n",
    "#    print(f'Inserindo o item {i}')\n",
    "cur.execute(\"INSERT INTO t(v) SELECT trunc(random() * 10) FROM generate_series(1,100000)\")\n",
    "conn.commit()\n",
    "\n",
    "# Selecionar e imprimir as 10 primeiras tuplas\n",
    "cur.execute(\"SELECT * FROM t ORDER BY k LIMIT 10\")\n",
    "rows = cur.fetchall()\n",
    "\n",
    "for row in rows:\n",
    "    print(row)\n",
    "\n",
    "#cur.close()\n",
    "#conn.close()\n"
   ]
  },
  {
   "cell_type": "markdown",
   "id": "c369b266",
   "metadata": {},
   "source": [
    "## Questão 11"
   ]
  },
  {
   "cell_type": "code",
   "execution_count": 252,
   "id": "1b14a91d",
   "metadata": {},
   "outputs": [
    {
     "name": "stdout",
     "output_type": "stream",
     "text": [
      "('t', 443, 100000.0)\n"
     ]
    }
   ],
   "source": [
    "def q11():\n",
    "    cur.execute(\"ANALYZE t\")\n",
    "    cur.execute(\"SELECT relname, relpages, reltuples FROM pg_class WHERE relname='t';\")\n",
    "    rows = cur.fetchall()\n",
    "\n",
    "    for row in rows:\n",
    "        print(row)\n",
    "q11()"
   ]
  },
  {
   "cell_type": "markdown",
   "id": "d10a732f",
   "metadata": {},
   "source": [
    "## Questão 12"
   ]
  },
  {
   "cell_type": "markdown",
   "id": "0ca51914",
   "metadata": {},
   "source": [
    "**Verificar se quer que imprima todo o resultado ou apenas o buffers: shared hit = número de paginas**"
   ]
  },
  {
   "cell_type": "code",
   "execution_count": 253,
   "id": "d1d1e3b5",
   "metadata": {},
   "outputs": [
    {
     "name": "stdout",
     "output_type": "stream",
     "text": [
      "('Limit  (cost=0.29..0.60 rows=10 width=8) (actual time=0.015..0.021 rows=10 loops=1)',)\n",
      "\n",
      "\n",
      "('  Buffers: shared hit=3',)\n",
      "\n",
      "\n",
      "('  ->  Index Scan using t_pkey on t  (cost=0.29..3050.29 rows=100000 width=8) (actual time=0.014..0.017 rows=10 loops=1)',)\n",
      "\n",
      "\n",
      "('        Buffers: shared hit=3',)\n",
      "\n",
      "\n",
      "('Planning:',)\n",
      "\n",
      "\n",
      "('  Buffers: shared hit=17',)\n",
      "\n",
      "\n",
      "('Planning Time: 0.221 ms',)\n",
      "\n",
      "\n",
      "('Execution Time: 0.037 ms',)\n",
      "\n",
      "\n"
     ]
    }
   ],
   "source": [
    "def q12():\n",
    "    # Executar a consulta\n",
    "    cur.execute(\"SELECT pg_sleep(1);\")\n",
    "    cur.execute(\"SELECT * FROM pg_stats WHERE tablename='t';\")\n",
    "    cur.execute(\"SELECT pg_stat_reset();\")\n",
    "    cur.execute(\"EXPLAIN (ANALYSE,BUFFERS) SELECT * FROM t ORDER BY k LIMIT 10\")\n",
    "    rows = cur.fetchall()\n",
    "\n",
    "    # Imprimir os resultados\n",
    "    for row in rows:\n",
    "        print(row)\n",
    "        print(\"\\n\")\n",
    "\n",
    "#    for row in rows:\n",
    "#        print(row)\n",
    "q12()"
   ]
  },
  {
   "cell_type": "markdown",
   "id": "54e6f499",
   "metadata": {},
   "source": [
    "## Questão 13"
   ]
  },
  {
   "cell_type": "code",
   "execution_count": 254,
   "id": "550fbfa8",
   "metadata": {},
   "outputs": [
    {
     "name": "stdout",
     "output_type": "stream",
     "text": [
      "Tempo de consulta (100.000 tuplas): 0.009122371673583984\n",
      "Tempo para recriar o índice (100.000 tuplas): 0.15952086448669434\n",
      "Tempo de consulta (1.000.000 tuplas): 0.06415557861328125\n",
      "Tempo para recriar o índice (1.000.000 tuplas): 1.274275302886963\n"
     ]
    }
   ],
   "source": [
    "def q13(flag=0):\n",
    "    if(flag!=1):\n",
    "        # Criar um índice para o atributo 'v'\n",
    "        cur.execute(\"CREATE INDEX idx_v ON t(v);\")\n",
    "        conn.commit()\n",
    "    # Medir o tempo de consulta\n",
    "    start = time.time()\n",
    "    cur.execute(\"SELECT * FROM t WHERE v = 5;\")\n",
    "    end = time.time()\n",
    "    print(\"Tempo de consulta (100.000 tuplas):\", end - start)\n",
    "\n",
    "    # Medir o tempo para recriar o índice\n",
    "    start = time.time()\n",
    "    cur.execute(\"DROP INDEX idx_v;\")\n",
    "    cur.execute(\"CREATE INDEX idx_v ON t(v);\")\n",
    "    conn.commit()\n",
    "    end = time.time()\n",
    "    print(\"Tempo para recriar o índice (100.000 tuplas):\", end - start)\n",
    "\n",
    "    # Remover a tabela 't' e criar novamente com 1.000.000 de tuplas\n",
    "    cur.execute(\"DROP TABLE IF EXISTS t;\")\n",
    "    cur.execute(\"CREATE TABLE t (k serial PRIMARY KEY, v integer);\")\n",
    "    cur.execute(\"INSERT INTO t(v) SELECT trunc(random() * 10) FROM generate_series(1,1000000);\")\n",
    "\n",
    "    # Criar um índice para o atributo 'v'\n",
    "    cur.execute(\"CREATE INDEX idx_v ON t(v);\")\n",
    "    conn.commit()\n",
    "\n",
    "    # Medir o tempo de consulta\n",
    "    start = time.time()\n",
    "    cur.execute(\"SELECT * FROM t WHERE v = 5;\")\n",
    "    end = time.time()\n",
    "    print(\"Tempo de consulta (1.000.000 tuplas):\", end - start)\n",
    "\n",
    "    # Medir o tempo para recriar o índice\n",
    "    start = time.time()\n",
    "    cur.execute(\"DROP INDEX idx_v;\")\n",
    "    cur.execute(\"CREATE INDEX idx_v ON t(v);\")\n",
    "    conn.commit()\n",
    "    end = time.time()\n",
    "    print(\"Tempo para recriar o índice (1.000.000 tuplas):\", end - start)\n",
    "q13()"
   ]
  },
  {
   "cell_type": "markdown",
   "id": "2d33c6bc",
   "metadata": {},
   "source": [
    "## Questão 14"
   ]
  },
  {
   "cell_type": "code",
   "execution_count": 255,
   "id": "adf00881",
   "metadata": {},
   "outputs": [
    {
     "name": "stdout",
     "output_type": "stream",
     "text": [
      "\n",
      "\n",
      "Fillfactor = 60\n",
      "\n",
      "Tempo de consulta (100.000 tuplas): 0.06009674072265625\n",
      "Tempo para recriar o índice (100.000 tuplas): 0.7051637172698975\n",
      "Tempo de consulta (1.000.000 tuplas): 0.06104636192321777\n",
      "Tempo para recriar o índice (1.000.000 tuplas): 0.6305496692657471\n",
      "\n",
      "Tempo de consulta (fillfactor = 60): 0.04758310317993164\n",
      "\n",
      "\n",
      "Fillfactor = 80\n",
      "\n",
      "Tempo de consulta (100.000 tuplas): 0.060209035873413086\n",
      "Tempo para recriar o índice (100.000 tuplas): 0.6427111625671387\n",
      "Tempo de consulta (1.000.000 tuplas): 0.03674054145812988\n",
      "Tempo para recriar o índice (1.000.000 tuplas): 0.7568132877349854\n",
      "\n",
      "Tempo de consulta (fillfactor = 80): 0.04728555679321289\n",
      "\n",
      "\n",
      "Fillfactor = 90\n",
      "\n",
      "Tempo de consulta (100.000 tuplas): 0.05929994583129883\n",
      "Tempo para recriar o índice (100.000 tuplas): 0.659550666809082\n",
      "Tempo de consulta (1.000.000 tuplas): 0.04506659507751465\n",
      "Tempo para recriar o índice (1.000.000 tuplas): 0.6579718589782715\n",
      "\n",
      "Tempo de consulta (fillfactor = 90): 0.04614973068237305\n",
      "\n",
      "\n",
      "Fillfactor = 100\n",
      "\n",
      "Tempo de consulta (100.000 tuplas): 0.04899716377258301\n",
      "Tempo para recriar o índice (100.000 tuplas): 1.6049532890319824\n",
      "Tempo de consulta (1.000.000 tuplas): 0.06121325492858887\n",
      "Tempo para recriar o índice (1.000.000 tuplas): 0.7034604549407959\n",
      "\n",
      "Tempo de consulta (fillfactor = 100): 0.049288272857666016\n"
     ]
    }
   ],
   "source": [
    "# Definir diferentes valores para fillfactor\n",
    "fillfactors = [60, 80, 90, 100]\n",
    "\n",
    "for fillfactor in fillfactors:\n",
    "    print(f\"\\n\\nFillfactor = {fillfactor}\\n\")\n",
    "    # Remover o índice 'idx_v' se ele existir\n",
    "    cur.execute(\"DROP INDEX IF EXISTS idx_v;\")\n",
    "    conn.commit()\n",
    "\n",
    "    # Criar um novo índice 'idx_v' com o fillfactor atual\n",
    "    cur.execute(f\"ALTER TABLE t SET ( fillfactor = {fillfactor})\");\n",
    "#    cur.execute(f\"CREATE INDEX idx_v ON t(v) WITH (fillfactor = {fillfactor});\")   \n",
    "    conn.commit()\n",
    "\n",
    "    q13()\n",
    "    \n",
    "    # Executar VACUUM FULL na tabela 't'\n",
    "    cur.execute(\"VACUUM FULL t;\")\n",
    "    conn.commit()\n",
    "\n",
    "    # Medir o tempo de consulta\n",
    "    start = time.time()\n",
    "    cur.execute(\"SELECT * FROM t WHERE v = 5;\")\n",
    "    end = time.time()\n",
    "    print(f\"\\nTempo de consulta (fillfactor = {fillfactor}):\", end - start)"
   ]
  },
  {
   "cell_type": "markdown",
   "id": "9db94c9b",
   "metadata": {},
   "source": [
    "## Questão 15* Esperando o Altigran me confirmar uma coisa"
   ]
  },
  {
   "cell_type": "code",
   "execution_count": 22,
   "id": "321384f5",
   "metadata": {},
   "outputs": [
    {
     "name": "stdout",
     "output_type": "stream",
     "text": [
      "Collecting gdown\n",
      "  Downloading gdown-4.7.1-py3-none-any.whl (15 kB)\n",
      "Collecting filelock\n",
      "  Downloading filelock-3.12.0-py3-none-any.whl (10 kB)\n",
      "Requirement already satisfied: beautifulsoup4 in /usr/local/lib/python3.10/dist-packages (from gdown) (4.12.2)\n",
      "Collecting tqdm\n",
      "  Downloading tqdm-4.65.0-py3-none-any.whl (77 kB)\n",
      "\u001b[2K     \u001b[90m━━━━━━━━━━━━━━━━━━━━━━━━━━━━━━━━━━━━━━━\u001b[0m \u001b[32m77.1/77.1 KB\u001b[0m \u001b[31m151.8 kB/s\u001b[0m eta \u001b[36m0:00:00\u001b[0ma \u001b[36m0:00:01\u001b[0m\n",
      "\u001b[?25hRequirement already satisfied: six in /usr/local/lib/python3.10/dist-packages (from gdown) (1.16.0)\n",
      "Collecting requests[socks]\n",
      "  Downloading requests-2.31.0-py3-none-any.whl (62 kB)\n",
      "\u001b[2K     \u001b[90m━━━━━━━━━━━━━━━━━━━━━━━━━━━━━━━━━━━━━━━\u001b[0m \u001b[32m62.6/62.6 KB\u001b[0m \u001b[31m143.9 kB/s\u001b[0m eta \u001b[36m0:00:00\u001b[0m00:01\u001b[0m\n",
      "\u001b[?25hRequirement already satisfied: soupsieve>1.2 in /usr/local/lib/python3.10/dist-packages (from beautifulsoup4->gdown) (2.4.1)\n",
      "Collecting certifi>=2017.4.17\n",
      "  Downloading certifi-2023.5.7-py3-none-any.whl (156 kB)\n",
      "\u001b[2K     \u001b[90m━━━━━━━━━━━━━━━━━━━━━━━━━━━━━━━━━━━━━━━\u001b[0m \u001b[32m157.0/157.0 KB\u001b[0m \u001b[31m1.1 MB/s\u001b[0m eta \u001b[36m0:00:00\u001b[0m00:01\u001b[0m00:01\u001b[0m\n",
      "\u001b[?25hRequirement already satisfied: idna<4,>=2.5 in /usr/local/lib/python3.10/dist-packages (from requests[socks]->gdown) (3.4)\n",
      "Collecting charset-normalizer<4,>=2\n",
      "  Downloading charset_normalizer-3.1.0-cp310-cp310-manylinux_2_17_x86_64.manylinux2014_x86_64.whl (199 kB)\n",
      "\u001b[2K     \u001b[90m━━━━━━━━━━━━━━━━━━━━━━━━━━━━━━━━━━━━━━━\u001b[0m \u001b[32m199.3/199.3 KB\u001b[0m \u001b[31m2.1 MB/s\u001b[0m eta \u001b[36m0:00:00\u001b[0m00:01\u001b[0m\n",
      "\u001b[?25hCollecting urllib3<3,>=1.21.1\n",
      "  Downloading urllib3-2.0.2-py3-none-any.whl (123 kB)\n",
      "\u001b[2K     \u001b[90m━━━━━━━━━━━━━━━━━━━━━━━━━━━━━━━━━━━━━━━\u001b[0m \u001b[32m123.2/123.2 KB\u001b[0m \u001b[31m1.4 MB/s\u001b[0m eta \u001b[36m0:00:00\u001b[0m00:01\u001b[0m\n",
      "\u001b[?25hCollecting PySocks!=1.5.7,>=1.5.6\n",
      "  Downloading PySocks-1.7.1-py3-none-any.whl (16 kB)\n",
      "Installing collected packages: urllib3, tqdm, PySocks, filelock, charset-normalizer, certifi, requests, gdown\n",
      "Successfully installed PySocks-1.7.1 certifi-2023.5.7 charset-normalizer-3.1.0 filelock-3.12.0 gdown-4.7.1 requests-2.31.0 tqdm-4.65.0 urllib3-2.0.2\n",
      "\u001b[33mWARNING: Running pip as the 'root' user can result in broken permissions and conflicting behaviour with the system package manager. It is recommended to use a virtual environment instead: https://pip.pypa.io/warnings/venv\u001b[0m\u001b[33m\n",
      "\u001b[0m"
     ]
    }
   ],
   "source": [
    "#!pip install gdown"
   ]
  },
  {
   "cell_type": "code",
   "execution_count": 26,
   "id": "ef12b919",
   "metadata": {},
   "outputs": [
    {
     "name": "stdout",
     "output_type": "stream",
     "text": [
      "LICENSE    casting.sql\t  images\t    tests\r\n",
      "Makefile   data\t\t  movie.sql\t    tpch-dbgen\r\n",
      "README.md  docs\t\t  query_root\t    tpch4pgsql\r\n",
      "actor.sql  iceis2012.pdf  requirements.txt  tpch_pgsql.py\r\n"
     ]
    }
   ],
   "source": [
    "#!gdown https://drive.google.com/uc?id=1W6wovSsVu4B0OIo_tsSBBHi8WRKQqnat\n",
    "#!gdown https://drive.google.com/uc?id=1KeOOjjoI5TeToB2xhx_prIp5pMehFwOp\n",
    "#!gdown https://drive.google.com/uc?id=1mlWU72pMGFD_tPzjmAJFMzgY3XtAyD7y\n",
    "    \n",
    "!ls"
   ]
  },
  {
   "cell_type": "code",
   "execution_count": 27,
   "id": "e0ac4624",
   "metadata": {},
   "outputs": [
    {
     "name": "stdout",
     "output_type": "stream",
     "text": [
      "Tabela movie.sql criada!\n",
      "Tabela actor.sql criada!\n",
      "Tabela casting.sql criada!\n"
     ]
    }
   ],
   "source": [
    "# Supondo que temos scripts SQL para as tabelas movie, actor e casting\n",
    "sql_files = ['movie.sql', 'actor.sql', 'casting.sql']\n",
    "\n",
    "# Executar cada script SQL\n",
    "for sql_file in sql_files:\n",
    "    with open(sql_file, 'r') as file:\n",
    "        cur.execute(file.read())\n",
    "    conn.commit()\n",
    "    print(f\"Tabela {sql_file} criada!\");\n"
   ]
  },
  {
   "cell_type": "code",
   "execution_count": 26,
   "id": "6003ee28",
   "metadata": {},
   "outputs": [
    {
     "name": "stdout",
     "output_type": "stream",
     "text": [
      "(1, 'Woody Allen')\n",
      "(2, 'Clint Eastwood')\n",
      "(3, 'Robert De Niro')\n",
      "(4, 'Sean Connery')\n",
      "(5, 'Sylvester Stallone')\n",
      "(6, 'Harrison Ford')\n",
      "(7, 'Robin Williams')\n",
      "(8, 'Tom Hanks')\n",
      "(9, 'Arnold Schwarzenegger')\n",
      "(10, 'Kevin Costner')\n"
     ]
    }
   ],
   "source": [
    "#Mostrando que funciona,podem apagar:\n",
    "cur.execute(\"SELECT * FROM actor LIMIT 10\")\n",
    "rows = cur.fetchall()\n",
    "\n",
    "for row in rows:\n",
    "    print(row)"
   ]
  },
  {
   "cell_type": "markdown",
   "id": "74599744",
   "metadata": {},
   "source": [
    "## Questão 16"
   ]
  },
  {
   "cell_type": "code",
   "execution_count": 256,
   "id": "54a771f8",
   "metadata": {},
   "outputs": [
    {
     "name": "stdout",
     "output_type": "stream",
     "text": [
      "Questão 11:\n",
      "\n",
      "('t', 4425, 1000000.0)\n",
      "\n",
      "\n",
      "Questão 12:\n",
      "\n",
      "('Limit  (cost=0.42..0.86 rows=10 width=8) (actual time=0.055..0.064 rows=10 loops=1)',)\n",
      "\n",
      "\n",
      "('  Buffers: shared hit=1 read=3',)\n",
      "\n",
      "\n",
      "('  ->  Index Scan using t_pkey on t  (cost=0.42..43680.43 rows=1000000 width=8) (actual time=0.052..0.057 rows=10 loops=1)',)\n",
      "\n",
      "\n",
      "('        Buffers: shared hit=1 read=3',)\n",
      "\n",
      "\n",
      "('Planning:',)\n",
      "\n",
      "\n",
      "('  Buffers: shared hit=15 read=1',)\n",
      "\n",
      "\n",
      "('Planning Time: 0.374 ms',)\n",
      "\n",
      "\n",
      "('Execution Time: 0.086 ms',)\n",
      "\n",
      "\n",
      "\n",
      "\n",
      "Questão 13:\n",
      "\n",
      "Tempo de consulta (100.000 tuplas): 0.054337501525878906\n",
      "Tempo para recriar o índice (100.000 tuplas): 0.9750778675079346\n",
      "Tempo de consulta (1.000.000 tuplas): 0.04736661911010742\n",
      "Tempo para recriar o índice (1.000.000 tuplas): 0.7346508502960205\n"
     ]
    }
   ],
   "source": [
    "cur.execute('CREATE INDEX i ON t(v DESC NULLS FIRST)');\n",
    "conn.commit()\n",
    "\n",
    "#questão 11\n",
    "print(\"Questão 11:\\n\")\n",
    "cur.execute(\"SELECT relname, relpages, reltuples FROM pg_class WHERE relname='t';\")\n",
    "rows = cur.fetchall()\n",
    "\n",
    "for row in rows:\n",
    "    print(row)\n",
    "    \n",
    "print(\"\\n\\nQuestão 12:\\n\")\n",
    "#questão 12\n",
    "q12()\n",
    "\n",
    "print(\"\\n\\nQuestão 13:\\n\")\n",
    "#questão 13\n",
    "q13(1)"
   ]
  },
  {
   "cell_type": "markdown",
   "id": "31f662ba",
   "metadata": {},
   "source": [
    "# Parte 3 (4)"
   ]
  },
  {
   "cell_type": "markdown",
   "id": "55b183ac",
   "metadata": {},
   "source": [
    "# Parte 4"
   ]
  },
  {
   "cell_type": "markdown",
   "id": "b2a70ec6",
   "metadata": {},
   "source": [
    "## Questão 17 (Concluir)"
   ]
  },
  {
   "cell_type": "code",
   "execution_count": 53,
   "id": "22e579fc",
   "metadata": {},
   "outputs": [],
   "source": [
    "#Executando script movie.sql\n",
    "\n",
    "with open('movie.sql', 'r') as file:\n",
    "    cur.execute(file.read())\n",
    "conn.commit()"
   ]
  },
  {
   "cell_type": "code",
   "execution_count": 109,
   "id": "42e3f4c5",
   "metadata": {},
   "outputs": [
    {
     "name": "stdout",
     "output_type": "stream",
     "text": [
      "Nome da tabela, Nome do índice\n",
      "('actor', 'actor_id')\n",
      "('casting', 'casting_movie')\n",
      "('casting', 'casting_actor')\n",
      "('casting', 'casting_ord')\n",
      "('movie', 'movie_key')\n",
      "('movie', 'movie_title')\n",
      "('movie', 'movie_votes')\n"
     ]
    }
   ],
   "source": [
    "#nome da tabela e nome do índice \n",
    "cur.execute(\"SELECT tablename, indexname FROM pg_catalog.pg_indexes WHERE schemaname = 'public';\")\n",
    "rows = cur.fetchall()\n",
    "\n",
    "\n",
    "print(\"Nome da tabela, Nome do índice\")\n",
    "for row in rows:\n",
    "    print(row)\n"
   ]
  },
  {
   "cell_type": "markdown",
   "id": "c4be43bd",
   "metadata": {},
   "source": [
    "## Questão 18"
   ]
  },
  {
   "cell_type": "code",
   "execution_count": 105,
   "id": "57e3f149",
   "metadata": {},
   "outputs": [
    {
     "name": "stdout",
     "output_type": "stream",
     "text": [
      "('Sort  (cost=8.75..8.78 rows=13 width=6)',)\n",
      "('  Sort Key: id',)\n",
      "('  ->  Index Scan using movie_votes on movie  (cost=0.28..8.51 rows=13 width=6)',)\n",
      "('        Index Cond: (votes > 33000)',)\n"
     ]
    }
   ],
   "source": [
    "#a)\n",
    "#tuplas de filmes que possuem votos maiores que 33000 ordenadas por id\n",
    "cur.execute(\"EXPLAIN SELECT id, votes FROM movie WHERE movie.votes > 33000 ORDER BY id;\")\n",
    "rows = cur.fetchall()\n",
    "\n",
    "for row in rows:\n",
    "    print(row)"
   ]
  },
  {
   "cell_type": "code",
   "execution_count": 106,
   "id": "9ce91d3c",
   "metadata": {},
   "outputs": [
    {
     "name": "stdout",
     "output_type": "stream",
     "text": [
      "('Index Scan using movie_key on movie  (cost=0.28..78.55 rows=1515 width=6)',)\n",
      "('  Filter: (votes > 1000)',)\n"
     ]
    }
   ],
   "source": [
    "#b) \n",
    "#tuplas de filmes que possuem votos maiores que 1000 ordenadas por id\n",
    "cur.execute(\"EXPLAIN SELECT id, votes FROM movie WHERE movie.votes > 1000 ORDER BY id;\")\n",
    "rows = cur.fetchall()\n",
    "\n",
    "for row in rows:\n",
    "    print(row)"
   ]
  },
  {
   "cell_type": "markdown",
   "id": "83aa2bc6",
   "metadata": {},
   "source": [
    "c) Pelo fato de ser um índice secundário, o campo *votes* não ser uma chave, o índice não ser ordenado e ser esparso, a busca se torna despendiosa."
   ]
  },
  {
   "cell_type": "markdown",
   "id": "2f38fd5b",
   "metadata": {},
   "source": [
    "## Questão 19"
   ]
  },
  {
   "cell_type": "code",
   "execution_count": 108,
   "id": "8d8888dc",
   "metadata": {},
   "outputs": [
    {
     "name": "stdout",
     "output_type": "stream",
     "text": [
      "Primeira consulta: \n",
      "('Index Scan using movie_votes on movie  (cost=0.61..35.37 rows=615 width=16)',)\n",
      "('  Index Cond: (votes >= $1)',)\n",
      "('  InitPlan 2 (returns $1)',)\n",
      "('    ->  Result  (cost=0.32..0.33 rows=1 width=4)',)\n",
      "('          InitPlan 1 (returns $0)',)\n",
      "('            ->  Limit  (cost=0.28..0.32 rows=1 width=4)',)\n",
      "('                  ->  Index Only Scan Backward using movie_votes on movie movie_1  (cost=0.28..76.55 rows=1844 width=4)',)\n",
      "('                        Index Cond: (votes IS NOT NULL)',)\n",
      "\n",
      "\n",
      "Segunda consulta: \n",
      "('Seq Scan on movie  (cost=0.00..43620.99 rows=922 width=16)',)\n",
      "('  Filter: (SubPlan 1)',)\n",
      "('  SubPlan 1',)\n",
      "('    ->  Materialize  (cost=0.00..42.66 rows=1844 width=4)',)\n",
      "('          ->  Seq Scan on movie movie_1  (cost=0.00..33.44 rows=1844 width=4)',)\n"
     ]
    }
   ],
   "source": [
    "#a)\n",
    "print(\"Primeira consulta: \")\n",
    "cur.execute(\"EXPLAIN SELECT title FROM movie WHERE votes >= (SELECT MAX(votes) FROM movie);\")\n",
    "rows = cur.fetchall()\n",
    "\n",
    "for row in rows:\n",
    "    print(row)\n",
    "    \n",
    "print(\"\\n\")\n",
    "print(\"Segunda consulta: \")\n",
    "cur.execute(\"EXPLAIN SELECT title FROM movie WHERE votes >= ALL (SELECT votes FROM movie);\")\n",
    "rows = cur.fetchall()\n",
    "\n",
    "for row in rows:\n",
    "    print(row)"
   ]
  },
  {
   "cell_type": "markdown",
   "id": "a1cc05ec",
   "metadata": {},
   "source": [
    "c) A primeira colsulta realizou uma busca pelo índice *movie_votes*, tendo um custo máximo total de 111.92 (35.37 + 76.55) unidade. Enquanto que a segunda executou uma busca sequencial na tabela *movie* (mais despendiosa), tendo um custo máximo total de 43663.65 (43620.99 + 42.66). Logo, a primeira conuslta se mostra ser mais eficiente."
   ]
  },
  {
   "cell_type": "code",
   "execution_count": null,
   "id": "a59ba2ab",
   "metadata": {},
   "outputs": [],
   "source": []
  }
 ],
 "metadata": {
  "kernelspec": {
   "display_name": "Python 3 (ipykernel)",
   "language": "python",
   "name": "python3"
  },
  "language_info": {
   "codemirror_mode": {
    "name": "ipython",
    "version": 3
   },
   "file_extension": ".py",
   "mimetype": "text/x-python",
   "name": "python",
   "nbconvert_exporter": "python",
   "pygments_lexer": "ipython3",
   "version": "3.10.6"
  }
 },
 "nbformat": 4,
 "nbformat_minor": 5
}
