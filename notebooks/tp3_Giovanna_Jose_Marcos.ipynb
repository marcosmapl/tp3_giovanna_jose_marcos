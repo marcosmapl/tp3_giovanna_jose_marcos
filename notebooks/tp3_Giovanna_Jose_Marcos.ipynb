{
 "cells": [
  {
   "cell_type": "markdown",
   "id": "f1440d2d",
   "metadata": {},
   "source": [
    "# Trabalho prático 3 - Banco de Dados I\n",
    "\n",
    "> Giovanna Andrade Santos - 22052563  \n",
    "> José Mateus Córdova Rodrigues -  \n",
    "> Marcos Avner Pimenta de Lima - 21852448\n"
   ]
  },
  {
   "cell_type": "markdown",
   "id": "4a5e5a0a",
   "metadata": {},
   "source": [
    "# Parte 1"
   ]
  },
  {
   "cell_type": "markdown",
   "id": "995cb720",
   "metadata": {},
   "source": [
    "## Questão 1"
   ]
  },
  {
   "cell_type": "markdown",
   "id": "71d02ff5",
   "metadata": {},
   "source": [
    "Verificar o que eles querem que use para provar e se isso serve"
   ]
  },
  {
   "cell_type": "code",
   "execution_count": 162,
   "id": "162088e7",
   "metadata": {},
   "outputs": [
    {
     "name": "stdout",
     "output_type": "stream",
     "text": [
      "psql (PostgreSQL) 15.3 (Ubuntu 15.3-1.pgdg22.04+1)\r\n"
     ]
    }
   ],
   "source": [
    "!psql --version"
   ]
  },
  {
   "cell_type": "markdown",
   "id": "03498371",
   "metadata": {},
   "source": [
    "## Questão 2"
   ]
  },
  {
   "cell_type": "markdown",
   "id": "fd64e9fd",
   "metadata": {},
   "source": [
    "Preparando"
   ]
  },
  {
   "cell_type": "code",
   "execution_count": 163,
   "id": "9c6b9cdd",
   "metadata": {},
   "outputs": [
    {
     "name": "stdout",
     "output_type": "stream",
     "text": [
      "[Errno 2] No such file or directory: '../datadir/tpch-pgsql-master/'\n",
      "/app/datadir/tpch-pgsql-master\n"
     ]
    }
   ],
   "source": [
    "%pwd\n",
    "%cd ../datadir/tpch-pgsql-master/"
   ]
  },
  {
   "cell_type": "code",
   "execution_count": 164,
   "id": "be1d1361",
   "metadata": {},
   "outputs": [
    {
     "name": "stdout",
     "output_type": "stream",
     "text": [
      "LICENSE    actor.sql\ticeis2012.pdf  query_root\t tpch4pgsql\r\n",
      "Makefile   casting.sql\timages\t       requirements.txt  tpch_pgsql.py\r\n",
      "README.md  docs\t\tmovie.sql      tests\r\n",
      "/app/datadir/tpch-pgsql-master\r\n"
     ]
    }
   ],
   "source": [
    "!ls && pwd"
   ]
  },
  {
   "cell_type": "code",
   "execution_count": 165,
   "id": "01ea1b46",
   "metadata": {},
   "outputs": [],
   "source": [
    "#!apt install unzip\n",
    "#!wget -q https://github.com/electrum/tpch-dbgen/archive/32f1c1b92d1664dba542e927d23d86ffa57aa253.zip -O tpch-dbgen.zip \n",
    "#!unzip -q tpch-dbgen.zip \n",
    "#!mv tpch-dbgen-32f1c1b92d1664dba542e927d23d86ffa57aa253 tpch-dbgen\n",
    "#!rm tpch-dbgen.zip"
   ]
  },
  {
   "cell_type": "code",
   "execution_count": 166,
   "id": "6dc78c0f",
   "metadata": {},
   "outputs": [
    {
     "name": "stdout",
     "output_type": "stream",
     "text": [
      "LICENSE    actor.sql    iceis2012.pdf  \u001b[0m\u001b[01;34mquery_root\u001b[0m/       \u001b[01;34mtpch4pgsql\u001b[0m/\r\n",
      "Makefile   casting.sql  \u001b[01;34mimages\u001b[0m/        requirements.txt  \u001b[01;32mtpch_pgsql.py\u001b[0m*\r\n",
      "README.md  \u001b[01;34mdocs\u001b[0m/        movie.sql      \u001b[01;34mtests\u001b[0m/\r\n"
     ]
    }
   ],
   "source": [
    "%ls"
   ]
  },
  {
   "cell_type": "code",
   "execution_count": 167,
   "id": "df54dd2f",
   "metadata": {},
   "outputs": [
    {
     "ename": "FileNotFoundError",
     "evalue": "[Errno 2] No such file or directory: './tpch-dbgen'",
     "output_type": "error",
     "traceback": [
      "\u001b[0;31m---------------------------------------------------------------------------\u001b[0m",
      "\u001b[0;31mFileNotFoundError\u001b[0m                         Traceback (most recent call last)",
      "File \u001b[0;32m/app/datadir/tpch-pgsql-master/tpch_pgsql.py:215\u001b[0m\n\u001b[1;32m    212\u001b[0m     num_streams \u001b[38;5;241m=\u001b[39m scale_to_num_streams(scale)\n\u001b[1;32m    214\u001b[0m \u001b[38;5;66;03m# main\u001b[39;00m\n\u001b[0;32m--> 215\u001b[0m \u001b[43mmain\u001b[49m\u001b[43m(\u001b[49m\u001b[43mphase\u001b[49m\u001b[43m,\u001b[49m\u001b[43m \u001b[49m\u001b[43mhost\u001b[49m\u001b[43m,\u001b[49m\u001b[43m \u001b[49m\u001b[43mport\u001b[49m\u001b[43m,\u001b[49m\u001b[43m \u001b[49m\u001b[43muser\u001b[49m\u001b[43m,\u001b[49m\u001b[43m \u001b[49m\u001b[43mpassword\u001b[49m\u001b[43m,\u001b[49m\u001b[43m \u001b[49m\u001b[43mdatabase\u001b[49m\u001b[43m,\u001b[49m\u001b[43m \u001b[49m\u001b[43mdbgen_dir\u001b[49m\u001b[43m,\u001b[49m\u001b[43m \u001b[49m\u001b[43mdata_dir\u001b[49m\u001b[43m,\u001b[49m\u001b[43m \u001b[49m\u001b[43mquery_root\u001b[49m\u001b[43m,\u001b[49m\u001b[43m \u001b[49m\u001b[43mscale\u001b[49m\u001b[43m,\u001b[49m\u001b[43m \u001b[49m\u001b[43mnum_streams\u001b[49m\u001b[43m,\u001b[49m\u001b[43m \u001b[49m\u001b[43mverbose\u001b[49m\u001b[43m,\u001b[49m\u001b[43m \u001b[49m\u001b[43mread_only\u001b[49m\u001b[43m)\u001b[49m\n",
      "File \u001b[0;32m/app/datadir/tpch-pgsql-master/tpch_pgsql.py:105\u001b[0m, in \u001b[0;36mmain\u001b[0;34m(phase, host, port, user, password, database, dbgen_dir, data_dir, query_root, scale, num_streams, verbose, read_only)\u001b[0m\n\u001b[1;32m    102\u001b[0m run_timestamp \u001b[38;5;241m=\u001b[39m \u001b[38;5;124m\"\u001b[39m\u001b[38;5;124mrun_\u001b[39m\u001b[38;5;132;01m%s\u001b[39;00m\u001b[38;5;124m\"\u001b[39m \u001b[38;5;241m%\u001b[39m time\u001b[38;5;241m.\u001b[39mstrftime(\u001b[38;5;124m\"\u001b[39m\u001b[38;5;124m%\u001b[39m\u001b[38;5;124mY\u001b[39m\u001b[38;5;124m%\u001b[39m\u001b[38;5;124mm\u001b[39m\u001b[38;5;132;01m%d\u001b[39;00m\u001b[38;5;124m_\u001b[39m\u001b[38;5;124m%\u001b[39m\u001b[38;5;124mH\u001b[39m\u001b[38;5;124m%\u001b[39m\u001b[38;5;124mM\u001b[39m\u001b[38;5;124m%\u001b[39m\u001b[38;5;124mS\u001b[39m\u001b[38;5;124m\"\u001b[39m, time\u001b[38;5;241m.\u001b[39mgmtime())\n\u001b[1;32m    103\u001b[0m \u001b[38;5;28;01mif\u001b[39;00m phase \u001b[38;5;241m==\u001b[39m \u001b[38;5;124m\"\u001b[39m\u001b[38;5;124mprepare\u001b[39m\u001b[38;5;124m\"\u001b[39m:\n\u001b[1;32m    104\u001b[0m     \u001b[38;5;66;03m# try to build dbgen from source and quit if failed\u001b[39;00m\n\u001b[0;32m--> 105\u001b[0m     \u001b[38;5;28;01mif\u001b[39;00m \u001b[43mprep\u001b[49m\u001b[38;5;241;43m.\u001b[39;49m\u001b[43mbuild_dbgen\u001b[49m\u001b[43m(\u001b[49m\u001b[43mdbgen_dir\u001b[49m\u001b[43m)\u001b[49m:\n\u001b[1;32m    106\u001b[0m         \u001b[38;5;28mprint\u001b[39m(\u001b[38;5;124m\"\u001b[39m\u001b[38;5;124mcould not build the dbgen/querygen. Check logs.\u001b[39m\u001b[38;5;124m\"\u001b[39m)\n\u001b[1;32m    107\u001b[0m         exit(\u001b[38;5;241m1\u001b[39m)\n",
      "File \u001b[0;32m/app/datadir/tpch-pgsql-master/tpch4pgsql/prepare.py:20\u001b[0m, in \u001b[0;36mbuild_dbgen\u001b[0;34m(dbgen_dir)\u001b[0m\n\u001b[1;32m      8\u001b[0m \u001b[38;5;250m\u001b[39m\u001b[38;5;124;03m\"\"\"Compiles the dbgen from source.\u001b[39;00m\n\u001b[1;32m      9\u001b[0m \n\u001b[1;32m     10\u001b[0m \u001b[38;5;124;03mThe Makefile must be present in the same directory as this script.\u001b[39;00m\n\u001b[0;32m   (...)\u001b[0m\n\u001b[1;32m     17\u001b[0m \u001b[38;5;124;03m    non zero otherwise\u001b[39;00m\n\u001b[1;32m     18\u001b[0m \u001b[38;5;124;03m\"\"\"\u001b[39;00m\n\u001b[1;32m     19\u001b[0m cur_dir \u001b[38;5;241m=\u001b[39m os\u001b[38;5;241m.\u001b[39mgetcwd()\n\u001b[0;32m---> 20\u001b[0m p \u001b[38;5;241m=\u001b[39m \u001b[43msubprocess\u001b[49m\u001b[38;5;241;43m.\u001b[39;49m\u001b[43mPopen\u001b[49m\u001b[43m(\u001b[49m\u001b[43m[\u001b[49m\u001b[38;5;124;43m\"\u001b[39;49m\u001b[38;5;124;43mmake\u001b[39;49m\u001b[38;5;124;43m\"\u001b[39;49m\u001b[43m,\u001b[49m\u001b[43m \u001b[49m\u001b[38;5;124;43m\"\u001b[39;49m\u001b[38;5;124;43m-f\u001b[39;49m\u001b[38;5;124;43m\"\u001b[39;49m\u001b[43m,\u001b[49m\u001b[43m \u001b[49m\u001b[43mos\u001b[49m\u001b[38;5;241;43m.\u001b[39;49m\u001b[43mpath\u001b[49m\u001b[38;5;241;43m.\u001b[39;49m\u001b[43mjoin\u001b[49m\u001b[43m(\u001b[49m\u001b[43mcur_dir\u001b[49m\u001b[43m,\u001b[49m\u001b[43m \u001b[49m\u001b[38;5;124;43m\"\u001b[39;49m\u001b[38;5;124;43mMakefile\u001b[39;49m\u001b[38;5;124;43m\"\u001b[39;49m\u001b[43m)\u001b[49m\u001b[43m]\u001b[49m\u001b[43m,\u001b[49m\u001b[43m \u001b[49m\u001b[43mcwd\u001b[49m\u001b[38;5;241;43m=\u001b[39;49m\u001b[43mdbgen_dir\u001b[49m\u001b[43m)\u001b[49m\n\u001b[1;32m     21\u001b[0m p\u001b[38;5;241m.\u001b[39mcommunicate()\n\u001b[1;32m     22\u001b[0m \u001b[38;5;28;01mreturn\u001b[39;00m p\u001b[38;5;241m.\u001b[39mreturncode\n",
      "File \u001b[0;32m/usr/lib/python3.10/subprocess.py:969\u001b[0m, in \u001b[0;36mPopen.__init__\u001b[0;34m(self, args, bufsize, executable, stdin, stdout, stderr, preexec_fn, close_fds, shell, cwd, env, universal_newlines, startupinfo, creationflags, restore_signals, start_new_session, pass_fds, user, group, extra_groups, encoding, errors, text, umask, pipesize)\u001b[0m\n\u001b[1;32m    965\u001b[0m         \u001b[38;5;28;01mif\u001b[39;00m \u001b[38;5;28mself\u001b[39m\u001b[38;5;241m.\u001b[39mtext_mode:\n\u001b[1;32m    966\u001b[0m             \u001b[38;5;28mself\u001b[39m\u001b[38;5;241m.\u001b[39mstderr \u001b[38;5;241m=\u001b[39m io\u001b[38;5;241m.\u001b[39mTextIOWrapper(\u001b[38;5;28mself\u001b[39m\u001b[38;5;241m.\u001b[39mstderr,\n\u001b[1;32m    967\u001b[0m                     encoding\u001b[38;5;241m=\u001b[39mencoding, errors\u001b[38;5;241m=\u001b[39merrors)\n\u001b[0;32m--> 969\u001b[0m     \u001b[38;5;28;43mself\u001b[39;49m\u001b[38;5;241;43m.\u001b[39;49m\u001b[43m_execute_child\u001b[49m\u001b[43m(\u001b[49m\u001b[43margs\u001b[49m\u001b[43m,\u001b[49m\u001b[43m \u001b[49m\u001b[43mexecutable\u001b[49m\u001b[43m,\u001b[49m\u001b[43m \u001b[49m\u001b[43mpreexec_fn\u001b[49m\u001b[43m,\u001b[49m\u001b[43m \u001b[49m\u001b[43mclose_fds\u001b[49m\u001b[43m,\u001b[49m\n\u001b[1;32m    970\u001b[0m \u001b[43m                        \u001b[49m\u001b[43mpass_fds\u001b[49m\u001b[43m,\u001b[49m\u001b[43m \u001b[49m\u001b[43mcwd\u001b[49m\u001b[43m,\u001b[49m\u001b[43m \u001b[49m\u001b[43menv\u001b[49m\u001b[43m,\u001b[49m\n\u001b[1;32m    971\u001b[0m \u001b[43m                        \u001b[49m\u001b[43mstartupinfo\u001b[49m\u001b[43m,\u001b[49m\u001b[43m \u001b[49m\u001b[43mcreationflags\u001b[49m\u001b[43m,\u001b[49m\u001b[43m \u001b[49m\u001b[43mshell\u001b[49m\u001b[43m,\u001b[49m\n\u001b[1;32m    972\u001b[0m \u001b[43m                        \u001b[49m\u001b[43mp2cread\u001b[49m\u001b[43m,\u001b[49m\u001b[43m \u001b[49m\u001b[43mp2cwrite\u001b[49m\u001b[43m,\u001b[49m\n\u001b[1;32m    973\u001b[0m \u001b[43m                        \u001b[49m\u001b[43mc2pread\u001b[49m\u001b[43m,\u001b[49m\u001b[43m \u001b[49m\u001b[43mc2pwrite\u001b[49m\u001b[43m,\u001b[49m\n\u001b[1;32m    974\u001b[0m \u001b[43m                        \u001b[49m\u001b[43merrread\u001b[49m\u001b[43m,\u001b[49m\u001b[43m \u001b[49m\u001b[43merrwrite\u001b[49m\u001b[43m,\u001b[49m\n\u001b[1;32m    975\u001b[0m \u001b[43m                        \u001b[49m\u001b[43mrestore_signals\u001b[49m\u001b[43m,\u001b[49m\n\u001b[1;32m    976\u001b[0m \u001b[43m                        \u001b[49m\u001b[43mgid\u001b[49m\u001b[43m,\u001b[49m\u001b[43m \u001b[49m\u001b[43mgids\u001b[49m\u001b[43m,\u001b[49m\u001b[43m \u001b[49m\u001b[43muid\u001b[49m\u001b[43m,\u001b[49m\u001b[43m \u001b[49m\u001b[43mumask\u001b[49m\u001b[43m,\u001b[49m\n\u001b[1;32m    977\u001b[0m \u001b[43m                        \u001b[49m\u001b[43mstart_new_session\u001b[49m\u001b[43m)\u001b[49m\n\u001b[1;32m    978\u001b[0m \u001b[38;5;28;01mexcept\u001b[39;00m:\n\u001b[1;32m    979\u001b[0m     \u001b[38;5;66;03m# Cleanup if the child failed starting.\u001b[39;00m\n\u001b[1;32m    980\u001b[0m     \u001b[38;5;28;01mfor\u001b[39;00m f \u001b[38;5;129;01min\u001b[39;00m \u001b[38;5;28mfilter\u001b[39m(\u001b[38;5;28;01mNone\u001b[39;00m, (\u001b[38;5;28mself\u001b[39m\u001b[38;5;241m.\u001b[39mstdin, \u001b[38;5;28mself\u001b[39m\u001b[38;5;241m.\u001b[39mstdout, \u001b[38;5;28mself\u001b[39m\u001b[38;5;241m.\u001b[39mstderr)):\n",
      "File \u001b[0;32m/usr/lib/python3.10/subprocess.py:1845\u001b[0m, in \u001b[0;36mPopen._execute_child\u001b[0;34m(self, args, executable, preexec_fn, close_fds, pass_fds, cwd, env, startupinfo, creationflags, shell, p2cread, p2cwrite, c2pread, c2pwrite, errread, errwrite, restore_signals, gid, gids, uid, umask, start_new_session)\u001b[0m\n\u001b[1;32m   1843\u001b[0m     \u001b[38;5;28;01mif\u001b[39;00m errno_num \u001b[38;5;241m!=\u001b[39m \u001b[38;5;241m0\u001b[39m:\n\u001b[1;32m   1844\u001b[0m         err_msg \u001b[38;5;241m=\u001b[39m os\u001b[38;5;241m.\u001b[39mstrerror(errno_num)\n\u001b[0;32m-> 1845\u001b[0m     \u001b[38;5;28;01mraise\u001b[39;00m child_exception_type(errno_num, err_msg, err_filename)\n\u001b[1;32m   1846\u001b[0m \u001b[38;5;28;01mraise\u001b[39;00m child_exception_type(err_msg)\n",
      "\u001b[0;31mFileNotFoundError\u001b[0m: [Errno 2] No such file or directory: './tpch-dbgen'"
     ]
    }
   ],
   "source": [
    "%run tpch_pgsql.py prepare"
   ]
  },
  {
   "cell_type": "markdown",
   "id": "79754872",
   "metadata": {},
   "source": [
    "Carregando"
   ]
  },
  {
   "cell_type": "code",
   "execution_count": 168,
   "id": "201e7fdc",
   "metadata": {},
   "outputs": [
    {
     "name": "stdout",
     "output_type": "stream",
     "text": [
      "dropped existing tables\n",
      "cleaned database tpchdb\n",
      "done creating schemas\n",
      "unable to run load tables. [Errno 2] No such file or directory: './data/load/lineitem.tbl.csv'\n",
      "could not load data to tables\n"
     ]
    },
    {
     "ename": "NameError",
     "evalue": "name 'exit' is not defined",
     "output_type": "error",
     "traceback": [
      "\u001b[0;31m---------------------------------------------------------------------------\u001b[0m",
      "\u001b[0;31mNameError\u001b[0m                                 Traceback (most recent call last)",
      "File \u001b[0;32m/app/datadir/tpch-pgsql-master/tpch_pgsql.py:215\u001b[0m\n\u001b[1;32m    212\u001b[0m     num_streams \u001b[38;5;241m=\u001b[39m scale_to_num_streams(scale)\n\u001b[1;32m    214\u001b[0m \u001b[38;5;66;03m# main\u001b[39;00m\n\u001b[0;32m--> 215\u001b[0m \u001b[43mmain\u001b[49m\u001b[43m(\u001b[49m\u001b[43mphase\u001b[49m\u001b[43m,\u001b[49m\u001b[43m \u001b[49m\u001b[43mhost\u001b[49m\u001b[43m,\u001b[49m\u001b[43m \u001b[49m\u001b[43mport\u001b[49m\u001b[43m,\u001b[49m\u001b[43m \u001b[49m\u001b[43muser\u001b[49m\u001b[43m,\u001b[49m\u001b[43m \u001b[49m\u001b[43mpassword\u001b[49m\u001b[43m,\u001b[49m\u001b[43m \u001b[49m\u001b[43mdatabase\u001b[49m\u001b[43m,\u001b[49m\u001b[43m \u001b[49m\u001b[43mdbgen_dir\u001b[49m\u001b[43m,\u001b[49m\u001b[43m \u001b[49m\u001b[43mdata_dir\u001b[49m\u001b[43m,\u001b[49m\u001b[43m \u001b[49m\u001b[43mquery_root\u001b[49m\u001b[43m,\u001b[49m\u001b[43m \u001b[49m\u001b[43mscale\u001b[49m\u001b[43m,\u001b[49m\u001b[43m \u001b[49m\u001b[43mnum_streams\u001b[49m\u001b[43m,\u001b[49m\u001b[43m \u001b[49m\u001b[43mverbose\u001b[49m\u001b[43m,\u001b[49m\u001b[43m \u001b[49m\u001b[43mread_only\u001b[49m\u001b[43m)\u001b[49m\n",
      "File \u001b[0;32m/app/datadir/tpch-pgsql-master/tpch_pgsql.py:135\u001b[0m, in \u001b[0;36mmain\u001b[0;34m(phase, host, port, user, password, database, dbgen_dir, data_dir, query_root, scale, num_streams, verbose, read_only)\u001b[0m\n\u001b[1;32m    133\u001b[0m \u001b[38;5;28;01mif\u001b[39;00m load\u001b[38;5;241m.\u001b[39mload_tables(data_dir, host, port, database, user, password, TABLES, LOAD_DIR):\n\u001b[1;32m    134\u001b[0m     \u001b[38;5;28mprint\u001b[39m(\u001b[38;5;124m\"\u001b[39m\u001b[38;5;124mcould not load data to tables\u001b[39m\u001b[38;5;124m\"\u001b[39m)\n\u001b[0;32m--> 135\u001b[0m     \u001b[43mexit\u001b[49m(\u001b[38;5;241m1\u001b[39m)\n\u001b[1;32m    136\u001b[0m result\u001b[38;5;241m.\u001b[39msetMetric(\u001b[38;5;124m\"\u001b[39m\u001b[38;5;124mload_data\u001b[39m\u001b[38;5;124m\"\u001b[39m, result\u001b[38;5;241m.\u001b[39mstopTimer())\n\u001b[1;32m    137\u001b[0m \u001b[38;5;28mprint\u001b[39m(\u001b[38;5;124m\"\u001b[39m\u001b[38;5;124mdone loading data to tables\u001b[39m\u001b[38;5;124m\"\u001b[39m)\n",
      "\u001b[0;31mNameError\u001b[0m: name 'exit' is not defined"
     ]
    }
   ],
   "source": [
    "%run tpch_pgsql.py load"
   ]
  },
  {
   "cell_type": "markdown",
   "id": "0e5900e0",
   "metadata": {},
   "source": [
    "## Questão 3 - Esperando o Tarsis me responder"
   ]
  },
  {
   "cell_type": "code",
   "execution_count": 169,
   "id": "83eae5fb",
   "metadata": {},
   "outputs": [
    {
     "name": "stdout",
     "output_type": "stream",
     "text": [
      "Power tests started ...\n",
      "refresh function #1 failed. [Errno 2] No such file or directory: './data/update/orders.tbl.u1.csv'\n",
      "running power tests failed\n"
     ]
    },
    {
     "ename": "NameError",
     "evalue": "name 'exit' is not defined",
     "output_type": "error",
     "traceback": [
      "\u001b[0;31m---------------------------------------------------------------------------\u001b[0m",
      "\u001b[0;31mNameError\u001b[0m                                 Traceback (most recent call last)",
      "File \u001b[0;32m/app/datadir/tpch-pgsql-master/tpch_pgsql.py:215\u001b[0m\n\u001b[1;32m    212\u001b[0m     num_streams \u001b[38;5;241m=\u001b[39m scale_to_num_streams(scale)\n\u001b[1;32m    214\u001b[0m \u001b[38;5;66;03m# main\u001b[39;00m\n\u001b[0;32m--> 215\u001b[0m \u001b[43mmain\u001b[49m\u001b[43m(\u001b[49m\u001b[43mphase\u001b[49m\u001b[43m,\u001b[49m\u001b[43m \u001b[49m\u001b[43mhost\u001b[49m\u001b[43m,\u001b[49m\u001b[43m \u001b[49m\u001b[43mport\u001b[49m\u001b[43m,\u001b[49m\u001b[43m \u001b[49m\u001b[43muser\u001b[49m\u001b[43m,\u001b[49m\u001b[43m \u001b[49m\u001b[43mpassword\u001b[49m\u001b[43m,\u001b[49m\u001b[43m \u001b[49m\u001b[43mdatabase\u001b[49m\u001b[43m,\u001b[49m\u001b[43m \u001b[49m\u001b[43mdbgen_dir\u001b[49m\u001b[43m,\u001b[49m\u001b[43m \u001b[49m\u001b[43mdata_dir\u001b[49m\u001b[43m,\u001b[49m\u001b[43m \u001b[49m\u001b[43mquery_root\u001b[49m\u001b[43m,\u001b[49m\u001b[43m \u001b[49m\u001b[43mscale\u001b[49m\u001b[43m,\u001b[49m\u001b[43m \u001b[49m\u001b[43mnum_streams\u001b[49m\u001b[43m,\u001b[49m\u001b[43m \u001b[49m\u001b[43mverbose\u001b[49m\u001b[43m,\u001b[49m\u001b[43m \u001b[49m\u001b[43mread_only\u001b[49m\u001b[43m)\u001b[49m\n",
      "File \u001b[0;32m/app/datadir/tpch-pgsql-master/tpch_pgsql.py:151\u001b[0m, in \u001b[0;36mmain\u001b[0;34m(phase, host, port, user, password, database, dbgen_dir, data_dir, query_root, scale, num_streams, verbose, read_only)\u001b[0m\n\u001b[1;32m    147\u001b[0m \u001b[38;5;28;01mif\u001b[39;00m query\u001b[38;5;241m.\u001b[39mrun_power_test(query_root, data_dir, UPDATE_DIR, DELETE_DIR, GENERATED_QUERY_DIR, RESULTS_DIR,\n\u001b[1;32m    148\u001b[0m                         host, port, database, user, password,\n\u001b[1;32m    149\u001b[0m                         run_timestamp, num_streams, verbose, read_only):\n\u001b[1;32m    150\u001b[0m     \u001b[38;5;28mprint\u001b[39m(\u001b[38;5;124m\"\u001b[39m\u001b[38;5;124mrunning power tests failed\u001b[39m\u001b[38;5;124m\"\u001b[39m)\n\u001b[0;32m--> 151\u001b[0m     \u001b[43mexit\u001b[49m(\u001b[38;5;241m1\u001b[39m)\n\u001b[1;32m    152\u001b[0m \u001b[38;5;66;03m# Throughput tests\u001b[39;00m\n\u001b[1;32m    153\u001b[0m \u001b[38;5;28;01mif\u001b[39;00m query\u001b[38;5;241m.\u001b[39mrun_throughput_test(query_root, data_dir, UPDATE_DIR, DELETE_DIR, GENERATED_QUERY_DIR, RESULTS_DIR,\n\u001b[1;32m    154\u001b[0m                              host, port, database, user, password,\n\u001b[1;32m    155\u001b[0m                              run_timestamp, num_streams, verbose, read_only):\n",
      "\u001b[0;31mNameError\u001b[0m: name 'exit' is not defined"
     ]
    }
   ],
   "source": [
    "%run tpch_pgsql.py query"
   ]
  },
  {
   "cell_type": "markdown",
   "id": "e9759ef3",
   "metadata": {},
   "source": [
    "## Questão 4 *"
   ]
  },
  {
   "cell_type": "markdown",
   "id": "cffd087f",
   "metadata": {},
   "source": [
    "Processador"
   ]
  },
  {
   "cell_type": "code",
   "execution_count": 170,
   "id": "166f2ca0",
   "metadata": {},
   "outputs": [
    {
     "name": "stdout",
     "output_type": "stream",
     "text": [
      "processor\t: 0\r\n",
      "vendor_id\t: GenuineIntel\r\n",
      "cpu family\t: 6\r\n",
      "model\t\t: 140\r\n",
      "model name\t: 11th Gen Intel(R) Core(TM) i7-1165G7 @ 2.80GHz\r\n",
      "stepping\t: 1\r\n",
      "microcode\t: 0xa6\r\n",
      "cpu MHz\t\t: 3010.168\r\n",
      "cache size\t: 12288 KB\r\n",
      "physical id\t: 0\r\n",
      "siblings\t: 8\r\n",
      "core id\t\t: 0\r\n",
      "cpu cores\t: 4\r\n",
      "apicid\t\t: 0\r\n",
      "initial apicid\t: 0\r\n",
      "fpu\t\t: yes\r\n",
      "fpu_exception\t: yes\r\n",
      "cpuid level\t: 27\r\n",
      "wp\t\t: yes\r\n",
      "flags\t\t: fpu vme de pse tsc msr pae mce cx8 apic sep mtrr pge mca cmov pat pse36 clflush dts acpi mmx fxsr sse sse2 ss ht tm pbe syscall nx pdpe1gb rdtscp lm constant_tsc art arch_perfmon pebs bts rep_good nopl xtopology nonstop_tsc cpuid aperfmperf tsc_known_freq pni pclmulqdq dtes64 monitor ds_cpl vmx est tm2 ssse3 sdbg fma cx16 xtpr pdcm pcid sse4_1 sse4_2 x2apic movbe popcnt tsc_deadline_timer aes xsave avx f16c rdrand lahf_lm abm 3dnowprefetch cpuid_fault epb cat_l2 invpcid_single cdp_l2 ssbd ibrs ibpb stibp ibrs_enhanced tpr_shadow vnmi flexpriority ept vpid ept_ad fsgsbase tsc_adjust bmi1 avx2 smep bmi2 erms invpcid rdt_a avx512f avx512dq rdseed adx smap avx512ifma clflushopt clwb intel_pt avx512cd sha_ni avx512bw avx512vl xsaveopt xsavec xgetbv1 xsaves split_lock_detect dtherm ida arat pln pts hwp hwp_notify hwp_act_window hwp_epp hwp_pkg_req avx512vbmi umip pku ospke avx512_vbmi2 gfni vaes vpclmulqdq avx512_vnni avx512_bitalg avx512_vpopcntdq rdpid movdiri movdir64b fsrm avx512_vp2intersect md_clear ibt flush_l1d arch_capabilities\r\n",
      "vmx flags\t: vnmi preemption_timer posted_intr invvpid ept_x_only ept_ad ept_1gb flexpriority apicv tsc_offset vtpr mtf vapic ept vpid unrestricted_guest vapic_reg vid ple pml ept_mode_based_exec tsc_scaling\r\n",
      "bugs\t\t: spectre_v1 spectre_v2 spec_store_bypass swapgs eibrs_pbrsb\r\n",
      "bogomips\t: 3379.20\r\n",
      "clflush size\t: 64\r\n",
      "cache_alignment\t: 64\r\n",
      "address sizes\t: 39 bits physical, 48 bits virtual\r\n",
      "power management:\r\n",
      "\r\n",
      "processor\t: 1\r\n",
      "vendor_id\t: GenuineIntel\r\n",
      "cpu family\t: 6\r\n",
      "model\t\t: 140\r\n",
      "model name\t: 11th Gen Intel(R) Core(TM) i7-1165G7 @ 2.80GHz\r\n",
      "stepping\t: 1\r\n",
      "microcode\t: 0xa6\r\n",
      "cpu MHz\t\t: 3007.905\r\n",
      "cache size\t: 12288 KB\r\n",
      "physical id\t: 0\r\n",
      "siblings\t: 8\r\n",
      "core id\t\t: 1\r\n",
      "cpu cores\t: 4\r\n",
      "apicid\t\t: 2\r\n",
      "initial apicid\t: 2\r\n",
      "fpu\t\t: yes\r\n",
      "fpu_exception\t: yes\r\n",
      "cpuid level\t: 27\r\n",
      "wp\t\t: yes\r\n",
      "flags\t\t: fpu vme de pse tsc msr pae mce cx8 apic sep mtrr pge mca cmov pat pse36 clflush dts acpi mmx fxsr sse sse2 ss ht tm pbe syscall nx pdpe1gb rdtscp lm constant_tsc art arch_perfmon pebs bts rep_good nopl xtopology nonstop_tsc cpuid aperfmperf tsc_known_freq pni pclmulqdq dtes64 monitor ds_cpl vmx est tm2 ssse3 sdbg fma cx16 xtpr pdcm pcid sse4_1 sse4_2 x2apic movbe popcnt tsc_deadline_timer aes xsave avx f16c rdrand lahf_lm abm 3dnowprefetch cpuid_fault epb cat_l2 invpcid_single cdp_l2 ssbd ibrs ibpb stibp ibrs_enhanced tpr_shadow vnmi flexpriority ept vpid ept_ad fsgsbase tsc_adjust bmi1 avx2 smep bmi2 erms invpcid rdt_a avx512f avx512dq rdseed adx smap avx512ifma clflushopt clwb intel_pt avx512cd sha_ni avx512bw avx512vl xsaveopt xsavec xgetbv1 xsaves split_lock_detect dtherm ida arat pln pts hwp hwp_notify hwp_act_window hwp_epp hwp_pkg_req avx512vbmi umip pku ospke avx512_vbmi2 gfni vaes vpclmulqdq avx512_vnni avx512_bitalg avx512_vpopcntdq rdpid movdiri movdir64b fsrm avx512_vp2intersect md_clear ibt flush_l1d arch_capabilities\r\n",
      "vmx flags\t: vnmi preemption_timer posted_intr invvpid ept_x_only ept_ad ept_1gb flexpriority apicv tsc_offset vtpr mtf vapic ept vpid unrestricted_guest vapic_reg vid ple pml ept_mode_based_exec tsc_scaling\r\n",
      "bugs\t\t: spectre_v1 spectre_v2 spec_store_bypass swapgs eibrs_pbrsb\r\n",
      "bogomips\t: 3379.20\r\n",
      "clflush size\t: 64\r\n",
      "cache_alignment\t: 64\r\n",
      "address sizes\t: 39 bits physical, 48 bits virtual\r\n",
      "power management:\r\n",
      "\r\n",
      "processor\t: 2\r\n",
      "vendor_id\t: GenuineIntel\r\n",
      "cpu family\t: 6\r\n",
      "model\t\t: 140\r\n",
      "model name\t: 11th Gen Intel(R) Core(TM) i7-1165G7 @ 2.80GHz\r\n",
      "stepping\t: 1\r\n",
      "microcode\t: 0xa6\r\n",
      "cpu MHz\t\t: 3077.012\r\n",
      "cache size\t: 12288 KB\r\n",
      "physical id\t: 0\r\n",
      "siblings\t: 8\r\n",
      "core id\t\t: 2\r\n",
      "cpu cores\t: 4\r\n",
      "apicid\t\t: 4\r\n",
      "initial apicid\t: 4\r\n",
      "fpu\t\t: yes\r\n",
      "fpu_exception\t: yes\r\n",
      "cpuid level\t: 27\r\n",
      "wp\t\t: yes\r\n",
      "flags\t\t: fpu vme de pse tsc msr pae mce cx8 apic sep mtrr pge mca cmov pat pse36 clflush dts acpi mmx fxsr sse sse2 ss ht tm pbe syscall nx pdpe1gb rdtscp lm constant_tsc art arch_perfmon pebs bts rep_good nopl xtopology nonstop_tsc cpuid aperfmperf tsc_known_freq pni pclmulqdq dtes64 monitor ds_cpl vmx est tm2 ssse3 sdbg fma cx16 xtpr pdcm pcid sse4_1 sse4_2 x2apic movbe popcnt tsc_deadline_timer aes xsave avx f16c rdrand lahf_lm abm 3dnowprefetch cpuid_fault epb cat_l2 invpcid_single cdp_l2 ssbd ibrs ibpb stibp ibrs_enhanced tpr_shadow vnmi flexpriority ept vpid ept_ad fsgsbase tsc_adjust bmi1 avx2 smep bmi2 erms invpcid rdt_a avx512f avx512dq rdseed adx smap avx512ifma clflushopt clwb intel_pt avx512cd sha_ni avx512bw avx512vl xsaveopt xsavec xgetbv1 xsaves split_lock_detect dtherm ida arat pln pts hwp hwp_notify hwp_act_window hwp_epp hwp_pkg_req avx512vbmi umip pku ospke avx512_vbmi2 gfni vaes vpclmulqdq avx512_vnni avx512_bitalg avx512_vpopcntdq rdpid movdiri movdir64b fsrm avx512_vp2intersect md_clear ibt flush_l1d arch_capabilities\r\n",
      "vmx flags\t: vnmi preemption_timer posted_intr invvpid ept_x_only ept_ad ept_1gb flexpriority apicv tsc_offset vtpr mtf vapic ept vpid unrestricted_guest vapic_reg vid ple pml ept_mode_based_exec tsc_scaling\r\n",
      "bugs\t\t: spectre_v1 spectre_v2 spec_store_bypass swapgs eibrs_pbrsb\r\n",
      "bogomips\t: 3379.20\r\n",
      "clflush size\t: 64\r\n",
      "cache_alignment\t: 64\r\n",
      "address sizes\t: 39 bits physical, 48 bits virtual\r\n",
      "power management:\r\n",
      "\r\n",
      "processor\t: 3\r\n",
      "vendor_id\t: GenuineIntel\r\n",
      "cpu family\t: 6\r\n",
      "model\t\t: 140\r\n",
      "model name\t: 11th Gen Intel(R) Core(TM) i7-1165G7 @ 2.80GHz\r\n",
      "stepping\t: 1\r\n",
      "microcode\t: 0xa6\r\n",
      "cpu MHz\t\t: 2640.954\r\n",
      "cache size\t: 12288 KB\r\n",
      "physical id\t: 0\r\n",
      "siblings\t: 8\r\n",
      "core id\t\t: 3\r\n",
      "cpu cores\t: 4\r\n",
      "apicid\t\t: 6\r\n",
      "initial apicid\t: 6\r\n",
      "fpu\t\t: yes\r\n",
      "fpu_exception\t: yes\r\n",
      "cpuid level\t: 27\r\n",
      "wp\t\t: yes\r\n",
      "flags\t\t: fpu vme de pse tsc msr pae mce cx8 apic sep mtrr pge mca cmov pat pse36 clflush dts acpi mmx fxsr sse sse2 ss ht tm pbe syscall nx pdpe1gb rdtscp lm constant_tsc art arch_perfmon pebs bts rep_good nopl xtopology nonstop_tsc cpuid aperfmperf tsc_known_freq pni pclmulqdq dtes64 monitor ds_cpl vmx est tm2 ssse3 sdbg fma cx16 xtpr pdcm pcid sse4_1 sse4_2 x2apic movbe popcnt tsc_deadline_timer aes xsave avx f16c rdrand lahf_lm abm 3dnowprefetch cpuid_fault epb cat_l2 invpcid_single cdp_l2 ssbd ibrs ibpb stibp ibrs_enhanced tpr_shadow vnmi flexpriority ept vpid ept_ad fsgsbase tsc_adjust bmi1 avx2 smep bmi2 erms invpcid rdt_a avx512f avx512dq rdseed adx smap avx512ifma clflushopt clwb intel_pt avx512cd sha_ni avx512bw avx512vl xsaveopt xsavec xgetbv1 xsaves split_lock_detect dtherm ida arat pln pts hwp hwp_notify hwp_act_window hwp_epp hwp_pkg_req avx512vbmi umip pku ospke avx512_vbmi2 gfni vaes vpclmulqdq avx512_vnni avx512_bitalg avx512_vpopcntdq rdpid movdiri movdir64b fsrm avx512_vp2intersect md_clear ibt flush_l1d arch_capabilities\r\n",
      "vmx flags\t: vnmi preemption_timer posted_intr invvpid ept_x_only ept_ad ept_1gb flexpriority apicv tsc_offset vtpr mtf vapic ept vpid unrestricted_guest vapic_reg vid ple pml ept_mode_based_exec tsc_scaling\r\n",
      "bugs\t\t: spectre_v1 spectre_v2 spec_store_bypass swapgs eibrs_pbrsb\r\n",
      "bogomips\t: 3379.20\r\n",
      "clflush size\t: 64\r\n",
      "cache_alignment\t: 64\r\n",
      "address sizes\t: 39 bits physical, 48 bits virtual\r\n",
      "power management:\r\n",
      "\r\n",
      "processor\t: 4\r\n",
      "vendor_id\t: GenuineIntel\r\n",
      "cpu family\t: 6\r\n",
      "model\t\t: 140\r\n",
      "model name\t: 11th Gen Intel(R) Core(TM) i7-1165G7 @ 2.80GHz\r\n",
      "stepping\t: 1\r\n",
      "microcode\t: 0xa6\r\n",
      "cpu MHz\t\t: 3029.868\r\n",
      "cache size\t: 12288 KB\r\n",
      "physical id\t: 0\r\n",
      "siblings\t: 8\r\n",
      "core id\t\t: 0\r\n",
      "cpu cores\t: 4\r\n",
      "apicid\t\t: 1\r\n",
      "initial apicid\t: 1\r\n",
      "fpu\t\t: yes\r\n",
      "fpu_exception\t: yes\r\n",
      "cpuid level\t: 27\r\n",
      "wp\t\t: yes\r\n",
      "flags\t\t: fpu vme de pse tsc msr pae mce cx8 apic sep mtrr pge mca cmov pat pse36 clflush dts acpi mmx fxsr sse sse2 ss ht tm pbe syscall nx pdpe1gb rdtscp lm constant_tsc art arch_perfmon pebs bts rep_good nopl xtopology nonstop_tsc cpuid aperfmperf tsc_known_freq pni pclmulqdq dtes64 monitor ds_cpl vmx est tm2 ssse3 sdbg fma cx16 xtpr pdcm pcid sse4_1 sse4_2 x2apic movbe popcnt tsc_deadline_timer aes xsave avx f16c rdrand lahf_lm abm 3dnowprefetch cpuid_fault epb cat_l2 invpcid_single cdp_l2 ssbd ibrs ibpb stibp ibrs_enhanced tpr_shadow vnmi flexpriority ept vpid ept_ad fsgsbase tsc_adjust bmi1 avx2 smep bmi2 erms invpcid rdt_a avx512f avx512dq rdseed adx smap avx512ifma clflushopt clwb intel_pt avx512cd sha_ni avx512bw avx512vl xsaveopt xsavec xgetbv1 xsaves split_lock_detect dtherm ida arat pln pts hwp hwp_notify hwp_act_window hwp_epp hwp_pkg_req avx512vbmi umip pku ospke avx512_vbmi2 gfni vaes vpclmulqdq avx512_vnni avx512_bitalg avx512_vpopcntdq rdpid movdiri movdir64b fsrm avx512_vp2intersect md_clear ibt flush_l1d arch_capabilities\r\n",
      "vmx flags\t: vnmi preemption_timer posted_intr invvpid ept_x_only ept_ad ept_1gb flexpriority apicv tsc_offset vtpr mtf vapic ept vpid unrestricted_guest vapic_reg vid ple pml ept_mode_based_exec tsc_scaling\r\n",
      "bugs\t\t: spectre_v1 spectre_v2 spec_store_bypass swapgs eibrs_pbrsb\r\n",
      "bogomips\t: 3379.20\r\n",
      "clflush size\t: 64\r\n",
      "cache_alignment\t: 64\r\n",
      "address sizes\t: 39 bits physical, 48 bits virtual\r\n",
      "power management:\r\n",
      "\r\n",
      "processor\t: 5\r\n",
      "vendor_id\t: GenuineIntel\r\n",
      "cpu family\t: 6\r\n",
      "model\t\t: 140\r\n",
      "model name\t: 11th Gen Intel(R) Core(TM) i7-1165G7 @ 2.80GHz\r\n",
      "stepping\t: 1\r\n",
      "microcode\t: 0xa6\r\n",
      "cpu MHz\t\t: 3079.222\r\n",
      "cache size\t: 12288 KB\r\n",
      "physical id\t: 0\r\n",
      "siblings\t: 8\r\n",
      "core id\t\t: 1\r\n",
      "cpu cores\t: 4\r\n",
      "apicid\t\t: 3\r\n",
      "initial apicid\t: 3\r\n",
      "fpu\t\t: yes\r\n",
      "fpu_exception\t: yes\r\n",
      "cpuid level\t: 27\r\n",
      "wp\t\t: yes\r\n",
      "flags\t\t: fpu vme de pse tsc msr pae mce cx8 apic sep mtrr pge mca cmov pat pse36 clflush dts acpi mmx fxsr sse sse2 ss ht tm pbe syscall nx pdpe1gb rdtscp lm constant_tsc art arch_perfmon pebs bts rep_good nopl xtopology nonstop_tsc cpuid aperfmperf tsc_known_freq pni pclmulqdq dtes64 monitor ds_cpl vmx est tm2 ssse3 sdbg fma cx16 xtpr pdcm pcid sse4_1 sse4_2 x2apic movbe popcnt tsc_deadline_timer aes xsave avx f16c rdrand lahf_lm abm 3dnowprefetch cpuid_fault epb cat_l2 invpcid_single cdp_l2 ssbd ibrs ibpb stibp ibrs_enhanced tpr_shadow vnmi flexpriority ept vpid ept_ad fsgsbase tsc_adjust bmi1 avx2 smep bmi2 erms invpcid rdt_a avx512f avx512dq rdseed adx smap avx512ifma clflushopt clwb intel_pt avx512cd sha_ni avx512bw avx512vl xsaveopt xsavec xgetbv1 xsaves split_lock_detect dtherm ida arat pln pts hwp hwp_notify hwp_act_window hwp_epp hwp_pkg_req avx512vbmi umip pku ospke avx512_vbmi2 gfni vaes vpclmulqdq avx512_vnni avx512_bitalg avx512_vpopcntdq rdpid movdiri movdir64b fsrm avx512_vp2intersect md_clear ibt flush_l1d arch_capabilities\r\n",
      "vmx flags\t: vnmi preemption_timer posted_intr invvpid ept_x_only ept_ad ept_1gb flexpriority apicv tsc_offset vtpr mtf vapic ept vpid unrestricted_guest vapic_reg vid ple pml ept_mode_based_exec tsc_scaling\r\n",
      "bugs\t\t: spectre_v1 spectre_v2 spec_store_bypass swapgs eibrs_pbrsb\r\n",
      "bogomips\t: 3379.20\r\n",
      "clflush size\t: 64\r\n",
      "cache_alignment\t: 64\r\n",
      "address sizes\t: 39 bits physical, 48 bits virtual\r\n",
      "power management:\r\n",
      "\r\n",
      "processor\t: 6\r\n",
      "vendor_id\t: GenuineIntel\r\n",
      "cpu family\t: 6\r\n",
      "model\t\t: 140\r\n",
      "model name\t: 11th Gen Intel(R) Core(TM) i7-1165G7 @ 2.80GHz\r\n",
      "stepping\t: 1\r\n",
      "microcode\t: 0xa6\r\n",
      "cpu MHz\t\t: 3226.498\r\n",
      "cache size\t: 12288 KB\r\n",
      "physical id\t: 0\r\n",
      "siblings\t: 8\r\n",
      "core id\t\t: 2\r\n",
      "cpu cores\t: 4\r\n",
      "apicid\t\t: 5\r\n",
      "initial apicid\t: 5\r\n",
      "fpu\t\t: yes\r\n",
      "fpu_exception\t: yes\r\n",
      "cpuid level\t: 27\r\n",
      "wp\t\t: yes\r\n",
      "flags\t\t: fpu vme de pse tsc msr pae mce cx8 apic sep mtrr pge mca cmov pat pse36 clflush dts acpi mmx fxsr sse sse2 ss ht tm pbe syscall nx pdpe1gb rdtscp lm constant_tsc art arch_perfmon pebs bts rep_good nopl xtopology nonstop_tsc cpuid aperfmperf tsc_known_freq pni pclmulqdq dtes64 monitor ds_cpl vmx est tm2 ssse3 sdbg fma cx16 xtpr pdcm pcid sse4_1 sse4_2 x2apic movbe popcnt tsc_deadline_timer aes xsave avx f16c rdrand lahf_lm abm 3dnowprefetch cpuid_fault epb cat_l2 invpcid_single cdp_l2 ssbd ibrs ibpb stibp ibrs_enhanced tpr_shadow vnmi flexpriority ept vpid ept_ad fsgsbase tsc_adjust bmi1 avx2 smep bmi2 erms invpcid rdt_a avx512f avx512dq rdseed adx smap avx512ifma clflushopt clwb intel_pt avx512cd sha_ni avx512bw avx512vl xsaveopt xsavec xgetbv1 xsaves split_lock_detect dtherm ida arat pln pts hwp hwp_notify hwp_act_window hwp_epp hwp_pkg_req avx512vbmi umip pku ospke avx512_vbmi2 gfni vaes vpclmulqdq avx512_vnni avx512_bitalg avx512_vpopcntdq rdpid movdiri movdir64b fsrm avx512_vp2intersect md_clear ibt flush_l1d arch_capabilities\r\n",
      "vmx flags\t: vnmi preemption_timer posted_intr invvpid ept_x_only ept_ad ept_1gb flexpriority apicv tsc_offset vtpr mtf vapic ept vpid unrestricted_guest vapic_reg vid ple pml ept_mode_based_exec tsc_scaling\r\n",
      "bugs\t\t: spectre_v1 spectre_v2 spec_store_bypass swapgs eibrs_pbrsb\r\n",
      "bogomips\t: 3379.20\r\n",
      "clflush size\t: 64\r\n",
      "cache_alignment\t: 64\r\n",
      "address sizes\t: 39 bits physical, 48 bits virtual\r\n",
      "power management:\r\n",
      "\r\n",
      "processor\t: 7\r\n",
      "vendor_id\t: GenuineIntel\r\n",
      "cpu family\t: 6\r\n",
      "model\t\t: 140\r\n",
      "model name\t: 11th Gen Intel(R) Core(TM) i7-1165G7 @ 2.80GHz\r\n",
      "stepping\t: 1\r\n",
      "microcode\t: 0xa6\r\n",
      "cpu MHz\t\t: 3228.927\r\n",
      "cache size\t: 12288 KB\r\n",
      "physical id\t: 0\r\n",
      "siblings\t: 8\r\n",
      "core id\t\t: 3\r\n",
      "cpu cores\t: 4\r\n",
      "apicid\t\t: 7\r\n",
      "initial apicid\t: 7\r\n",
      "fpu\t\t: yes\r\n",
      "fpu_exception\t: yes\r\n",
      "cpuid level\t: 27\r\n",
      "wp\t\t: yes\r\n",
      "flags\t\t: fpu vme de pse tsc msr pae mce cx8 apic sep mtrr pge mca cmov pat pse36 clflush dts acpi mmx fxsr sse sse2 ss ht tm pbe syscall nx pdpe1gb rdtscp lm constant_tsc art arch_perfmon pebs bts rep_good nopl xtopology nonstop_tsc cpuid aperfmperf tsc_known_freq pni pclmulqdq dtes64 monitor ds_cpl vmx est tm2 ssse3 sdbg fma cx16 xtpr pdcm pcid sse4_1 sse4_2 x2apic movbe popcnt tsc_deadline_timer aes xsave avx f16c rdrand lahf_lm abm 3dnowprefetch cpuid_fault epb cat_l2 invpcid_single cdp_l2 ssbd ibrs ibpb stibp ibrs_enhanced tpr_shadow vnmi flexpriority ept vpid ept_ad fsgsbase tsc_adjust bmi1 avx2 smep bmi2 erms invpcid rdt_a avx512f avx512dq rdseed adx smap avx512ifma clflushopt clwb intel_pt avx512cd sha_ni avx512bw avx512vl xsaveopt xsavec xgetbv1 xsaves split_lock_detect dtherm ida arat pln pts hwp hwp_notify hwp_act_window hwp_epp hwp_pkg_req avx512vbmi umip pku ospke avx512_vbmi2 gfni vaes vpclmulqdq avx512_vnni avx512_bitalg avx512_vpopcntdq rdpid movdiri movdir64b fsrm avx512_vp2intersect md_clear ibt flush_l1d arch_capabilities\r\n",
      "vmx flags\t: vnmi preemption_timer posted_intr invvpid ept_x_only ept_ad ept_1gb flexpriority apicv tsc_offset vtpr mtf vapic ept vpid unrestricted_guest vapic_reg vid ple pml ept_mode_based_exec tsc_scaling\r\n",
      "bugs\t\t: spectre_v1 spectre_v2 spec_store_bypass swapgs eibrs_pbrsb\r\n",
      "bogomips\t: 3379.20\r\n",
      "clflush size\t: 64\r\n",
      "cache_alignment\t: 64\r\n",
      "address sizes\t: 39 bits physical, 48 bits virtual\r\n",
      "power management:\r\n",
      "\r\n"
     ]
    }
   ],
   "source": [
    "!cat /proc/cpuinfo"
   ]
  },
  {
   "cell_type": "markdown",
   "id": "e1d99231",
   "metadata": {},
   "source": [
    "Memória RAM"
   ]
  },
  {
   "cell_type": "code",
   "execution_count": 171,
   "id": "ec997fde",
   "metadata": {},
   "outputs": [
    {
     "name": "stdout",
     "output_type": "stream",
     "text": [
      "               total        used        free      shared  buff/cache   available\r\n",
      "Mem:            15Gi       2.7Gi       7.1Gi       648Mi       5.6Gi        11Gi\r\n",
      "Swap:          2.0Gi          0B       2.0Gi\r\n"
     ]
    }
   ],
   "source": [
    "!free -h"
   ]
  },
  {
   "cell_type": "markdown",
   "id": "90de9ad1",
   "metadata": {},
   "source": [
    "Tamanho do disco"
   ]
  },
  {
   "cell_type": "code",
   "execution_count": 172,
   "id": "c8131d9d",
   "metadata": {},
   "outputs": [
    {
     "name": "stdout",
     "output_type": "stream",
     "text": [
      "Filesystem      Size  Used Avail Use% Mounted on\r\n",
      "overlay         234G   90G  132G  41% /\r\n",
      "tmpfs            64M     0   64M   0% /dev\r\n",
      "shm             2.0G  1.1M  2.0G   1% /dev/shm\r\n",
      "/dev/nvme0n1p2  234G   90G  132G  41% /app/datadir\r\n",
      "tmpfs           7.7G     0  7.7G   0% /proc/asound\r\n",
      "tmpfs           7.7G     0  7.7G   0% /proc/acpi\r\n",
      "tmpfs           7.7G     0  7.7G   0% /proc/scsi\r\n",
      "tmpfs           7.7G     0  7.7G   0% /sys/firmware\r\n"
     ]
    }
   ],
   "source": [
    "!df -h"
   ]
  },
  {
   "cell_type": "markdown",
   "id": "07ff7317",
   "metadata": {},
   "source": [
    "Caches:"
   ]
  },
  {
   "cell_type": "code",
   "execution_count": 173,
   "id": "2db55f09",
   "metadata": {},
   "outputs": [
    {
     "name": "stdout",
     "output_type": "stream",
     "text": [
      "Architecture:            x86_64\r\n",
      "  CPU op-mode(s):        32-bit, 64-bit\r\n",
      "  Address sizes:         39 bits physical, 48 bits virtual\r\n",
      "  Byte Order:            Little Endian\r\n",
      "CPU(s):                  8\r\n",
      "  On-line CPU(s) list:   0-7\r\n",
      "Vendor ID:               GenuineIntel\r\n",
      "  Model name:            11th Gen Intel(R) Core(TM) i7-1165G7 @ 2.80GHz\r\n",
      "    CPU family:          6\r\n",
      "    Model:               140\r\n",
      "    Thread(s) per core:  2\r\n",
      "    Core(s) per socket:  4\r\n",
      "    Socket(s):           1\r\n",
      "    Stepping:            1\r\n",
      "    CPU max MHz:         4700.0000\r\n",
      "    CPU min MHz:         400.0000\r\n",
      "    BogoMIPS:            3379.20\r\n",
      "    Flags:               fpu vme de pse tsc msr pae mce cx8 apic sep mtrr pge mc\r\n",
      "                         a cmov pat pse36 clflush dts acpi mmx fxsr sse sse2 ss \r\n",
      "                         ht tm pbe syscall nx pdpe1gb rdtscp lm constant_tsc art\r\n",
      "                          arch_perfmon pebs bts rep_good nopl xtopology nonstop_\r\n",
      "                         tsc cpuid aperfmperf tsc_known_freq pni pclmulqdq dtes6\r\n",
      "                         4 monitor ds_cpl vmx est tm2 ssse3 sdbg fma cx16 xtpr p\r\n",
      "                         dcm pcid sse4_1 sse4_2 x2apic movbe popcnt tsc_deadline\r\n",
      "                         _timer aes xsave avx f16c rdrand lahf_lm abm 3dnowprefe\r\n",
      "                         tch cpuid_fault epb cat_l2 invpcid_single cdp_l2 ssbd i\r\n",
      "                         brs ibpb stibp ibrs_enhanced tpr_shadow vnmi flexpriori\r\n",
      "                         ty ept vpid ept_ad fsgsbase tsc_adjust bmi1 avx2 smep b\r\n",
      "                         mi2 erms invpcid rdt_a avx512f avx512dq rdseed adx smap\r\n",
      "                          avx512ifma clflushopt clwb intel_pt avx512cd sha_ni av\r\n",
      "                         x512bw avx512vl xsaveopt xsavec xgetbv1 xsaves split_lo\r\n",
      "                         ck_detect dtherm ida arat pln pts hwp hwp_notify hwp_ac\r\n",
      "                         t_window hwp_epp hwp_pkg_req avx512vbmi umip pku ospke \r\n",
      "                         avx512_vbmi2 gfni vaes vpclmulqdq avx512_vnni avx512_bi\r\n",
      "                         talg avx512_vpopcntdq rdpid movdiri movdir64b fsrm avx5\r\n",
      "                         12_vp2intersect md_clear ibt flush_l1d arch_capabilitie\r\n",
      "                         s\r\n",
      "Virtualization features: \r\n",
      "  Virtualization:        VT-x\r\n",
      "Caches (sum of all):     \r\n",
      "  L1d:                   192 KiB (4 instances)\r\n",
      "  L1i:                   128 KiB (4 instances)\r\n",
      "  L2:                    5 MiB (4 instances)\r\n",
      "  L3:                    12 MiB (1 instance)\r\n",
      "NUMA:                    \r\n",
      "  NUMA node(s):          1\r\n",
      "  NUMA node0 CPU(s):     0-7\r\n",
      "Vulnerabilities:         \r\n",
      "  Itlb multihit:         Not affected\r\n",
      "  L1tf:                  Not affected\r\n",
      "  Mds:                   Not affected\r\n",
      "  Meltdown:              Not affected\r\n",
      "  Mmio stale data:       Not affected\r\n",
      "  Retbleed:              Not affected\r\n",
      "  Spec store bypass:     Mitigation; Speculative Store Bypass disabled via prctl\r\n",
      "  Spectre v1:            Mitigation; usercopy/swapgs barriers and __user pointer\r\n",
      "                          sanitization\r\n",
      "  Spectre v2:            Mitigation; Enhanced IBRS, IBPB conditional, RSB fillin\r\n",
      "                         g, PBRSB-eIBRS SW sequence\r\n",
      "  Srbds:                 Not affected\r\n",
      "  Tsx async abort:       Not affected\r\n"
     ]
    }
   ],
   "source": [
    "!lscpu"
   ]
  },
  {
   "cell_type": "markdown",
   "id": "b9b86d72",
   "metadata": {},
   "source": [
    "Distribuição e versão do sistema:"
   ]
  },
  {
   "cell_type": "code",
   "execution_count": 174,
   "id": "8b36ecbe",
   "metadata": {},
   "outputs": [
    {
     "name": "stdout",
     "output_type": "stream",
     "text": [
      "No LSB modules are available.\r\n",
      "Distributor ID:\tUbuntu\r\n",
      "Description:\tUbuntu 22.04.2 LTS\r\n",
      "Release:\t22.04\r\n",
      "Codename:\tjammy\r\n"
     ]
    }
   ],
   "source": [
    "!lsb_release -a"
   ]
  },
  {
   "cell_type": "markdown",
   "id": "e3622ee4",
   "metadata": {},
   "source": [
    "Versão do kernel:"
   ]
  },
  {
   "cell_type": "code",
   "execution_count": 175,
   "id": "c607192e",
   "metadata": {},
   "outputs": [
    {
     "name": "stdout",
     "output_type": "stream",
     "text": [
      "5.19.0-43-generic\r\n"
     ]
    }
   ],
   "source": [
    "!uname -r"
   ]
  },
  {
   "cell_type": "markdown",
   "id": "ae13386b",
   "metadata": {},
   "source": [
    "## Questão 5*"
   ]
  },
  {
   "cell_type": "markdown",
   "id": "4906e654",
   "metadata": {},
   "source": [
    "Foi utilizado o comando:\n",
    "\n",
    "**sudo hdparm -I /dev/sdb**"
   ]
  },
  {
   "cell_type": "markdown",
   "id": "9629566a",
   "metadata": {},
   "source": [
    "### Informações do Dispositivo /dev/sdb\n",
    "\n",
    "- **Nome do Dispositivo**: /dev/sdb\n",
    "- **Modelo**: ST3500414CS\n",
    "- **Número de Série**: 9VVCCNQP\n",
    "- **Revisão de Firmware**: CA14\n",
    "- **Transporte**: Serial\n",
    "- **Padrões Usados**: desconhecido (código de revisão menor 0x0029), provavelmente 8\n",
    "\n",
    "#### Configuração\n",
    "- **Cilindros**: 16383\n",
    "- **Cabeças (superfícies)**: 16\n",
    "- **Setores por trilha**: 63\n",
    "- **Setores endereçáveis pelo usuário (CHS)**: 16514064\n",
    "- **Setores endereçáveis pelo usuário (LBA)**: 268435455\n",
    "- **Setores endereçáveis pelo usuário (LBA48)**: 976773168\n",
    "- **Tamanho do setor lógico/físico**: 512 bytes\n",
    "- **Tamanho do dispositivo**: 476940 MBytes (com M = 1024*1024), 500107 MBytes (com M = 1000*1000), o que é aproximadamente 500 GB\n",
    "- **Tamanho do cache/buffer**: 16384 KBytes\n",
    "- **Taxa de rotação do meio nominal**: 5900\n",
    "- **Tamanho de bloco**: 4096\n",
    "\n",
    "#### Capacidades\n",
    "- **Profundidade da fila**: 32\n",
    "- **Transferência múltipla de setor R/W**: Máximo = 16, Atual = 16\n",
    "- **Nível de gerenciamento de energia avançado**: 254\n",
    "\n"
   ]
  },
  {
   "cell_type": "markdown",
   "id": "872000e9",
   "metadata": {},
   "source": [
    "# Parte 2"
   ]
  },
  {
   "cell_type": "markdown",
   "id": "5ce5c3f2",
   "metadata": {},
   "source": [
    "## Questão 6"
   ]
  },
  {
   "cell_type": "markdown",
   "id": "8b218583",
   "metadata": {},
   "source": [
    "| Característica                  | Descrição                                                     |\n",
    "|:--------------------------------:|:---------------------------------------------------------------:|\n",
    "| **Modelo de Armazenamento**        | Baseado em páginas                                            |\n",
    "| **Tamanho da Página**              | Geralmente 8 KB, configurável                                 |\n",
    "| **Extensões**                      | Agrupamento contíguo de páginas (tamanho padrão de 1 MB)       |\n",
    "| **Arquivos de Relações**           | Dados de tabelas e índices armazenados em arquivos separados   |\n",
    "| **Controle de Transações**         | Write-Ahead Logging (WAL)                                     |\n",
    "| **Controle de Concorrência**       | Bloqueios, controle de versões e outros mecanismos             |\n",
    "| **Organização Física das Tabelas** | Tuplas organizadas em páginas, não necessariamente em ordem sequencial |\n",
    "| **Índices**                        | Estruturas de árvore B+ para rápida pesquisa e recuperação de dados |\n",
    "| **Compactação de Dados**           | Suporte a compressão de dados                                 |\n",
    "| **Gerenciamento de Espaço**        | Alocação dinâmica de espaço para tabelas e índices             |\n",
    "| **Tablespaces**                    | Permite a organização de objetos de banco de dados em diferentes diretórios **ou dispositivos de armazenamento** |\n",
    "| **Controle de Acesso**             | Suporte a ACLs (Access Control Lists)                         |\n",
    "| **Replicação**                     | Suporte a replicação síncrona e assíncrona                     |\n",
    "| **Backup e Restauração**           | Suporte a backup e restauração granulares                      |\n",
    "| **Recuperação de Falhas**          | Mecanismos de recuperação para garantir a integridade dos dados após falhas |\n",
    "| **Configuração Flexível**          | Diversos parâmetros configuráveis para ajustar o desempenho e comportamento **do armazenamento** |\n"
   ]
  },
  {
   "cell_type": "markdown",
   "id": "635ccd24",
   "metadata": {},
   "source": [
    "* Todos os dados necessários para o armazenamento dos dados dos bancos de dados são localizados no diretório **PGDATA**, que possui vários subdiretórios e arquivos de controle.\n",
    "* Dentro do **PGDATA**/base há um subdiretório para cada banco de dados.\n",
    "* A partir da versão 7.1 do PostgreSQL, há a implementação de uma técnica de compressão de valores de campos muito grandes, chamada ***TOAST***. Porém, essa técnica só pode ser utilizada em tipos de dados que possuem uma representação de comprimento variável.\n",
    "* A disposição global das páginas se dá da seguinte forma:"
   ]
  },
  {
   "cell_type": "markdown",
   "id": "6f40ff80",
   "metadata": {},
   "source": [
    "> **PageHeaderData**: 20 bytes. Possui informações gerais sobre a página;  \n",
    "**ItemPointerData**: 4 bytes por item. Matriz de pares apontando para os itens existentes;  \n",
    "**Espaço Livre**: espaço não alocado. Novos itens serão alocados a partir desse espaço;  \n",
    "**Itens**: itens existentes;  \n",
    "**Espaço especial**: Dados específicos do método de acesso do índice."
   ]
  },
  {
   "cell_type": "markdown",
   "id": "6890b49d",
   "metadata": {},
   "source": [
    "## Questão 7"
   ]
  },
  {
   "cell_type": "markdown",
   "id": "fe672e09",
   "metadata": {},
   "source": [
    "|                     | ext2                   | ext3                   | ReiserFS               | XFS                    |\n",
    "|:---------------------:|:------------------------:|:------------------------:|:------------------------:|:------------------------:|\n",
    "| **Ano de lançamento**   | 1993                   | 2001                   | 1996                   | 1993                   |\n",
    "| **Principal vantagem**  | Simplicidade e robustez | Compatibilidade        | Desempenho             | Desempenho e escalabilidade |\n",
    "| **Máximo tamanho de arquivo**  | 2 TB             | 2 TB                   | 16 TB                  | 8 EB                   |\n",
    "| **Máximo tamanho de sistema de arquivos**   | 32 TB   | 16 TB                  | 16 TB                  | 8 EB                   |\n",
    "| **Journaling**        | Não                    | Sim                    | Sim                    | Sim                    |\n",
    "| **Suporte a ACLs**      | Não                    | Sim                    | Sim                    | Sim                    |\n",
    "| **Suporte a snapshot**  | Não                    | Não                    | Sim                    | Sim                    |\n",
    "| **Fragments**           | Sim                    | Não                    | Não                    | Não                    |\n",
    "| **Alocação de espaço**  | Bitmap                 | Bitmap                 | B-tree                 | Extent                 |\n",
    "| **Compactação**         | Não                    | Não                    | Sim                    | Não                    |\n",
    "| **Utilização em Sistemas Linux** | Sim             | Sim                    | Sim                    | Sim                    |\n",
    "| **Utilização em outros sistemas operacionais** | Não | Não                  | Sim                    | Sim                    |\n",
    " "
   ]
  },
  {
   "cell_type": "markdown",
   "id": "bc1aa4ea",
   "metadata": {},
   "source": [
    "### **Ext2**: \n",
    "* É conhecido por sua velocidade, já que não possui sobrecarga com journlaing e possui uma implementação eficiente.  \n",
    "* Organiza os dados em blocos, com uma estrutura de metadados que inclui o superbloco, grupos de blocos, inode, bitmap de blocos e bitmap de inodes.\n",
    "* Utiliza um esquema de fragmentação, onde um arquivo pode ocupar vários blocos não contíguos no sistema de arquivos. Isso pode levar a uma fragmentação significativa e impactar o desempenho.\n",
    "* Não possui suporte a journaling, o que significa que, em caso de falha do sistema, pode haver a necessidade de realizar uma verificação completa do sistema de arquivos (fsck) durante a inicialização para garantir a consistência dos dados."
   ]
  },
  {
   "cell_type": "markdown",
   "id": "7bc6f46d",
   "metadata": {},
   "source": [
    "### **Ext3**: \n",
    "* Uma das principais melhorias do ext3 em relação ao ext2 é a adição do journaling. O journaling registra as operações de gravação em um \"journal\" antes de serem aplicadas aos dados do sistema de arquivos, o que permite uma recuperação mais rápida em caso de falha do sistema.  \n",
    "\n",
    "* É totalmente retrocompatível com o ext2. Isso significa que é possível montar um sistema de arquivos ext3 como ext2 e vice-versa.  \n",
    "\n",
    "* Embora o ext3 tenha um desempenho ligeiramente inferior ao ext2 em operações de leitura e gravação, ele é mais rápido do que muitos outros sistemas de arquivos com journaling, devido a otimizações de acesso ao disco e gerenciamento de cache.  \n",
    "\n",
    "* Oferece suporte a Access Control Lists (ACLs), que permitem um controle mais granular sobre as permissões de acesso aos arquivos e diretórios."
   ]
  },
  {
   "cell_type": "markdown",
   "id": "e9c56c2e",
   "metadata": {},
   "source": [
    "### **ReiserFS**: \n",
    "* Utiliza uma estrutura de dados chamada B-tree para organizar os arquivos e diretórios no sistema de arquivos. Essa estrutura permite uma busca rápida e eficiente de arquivos, especialmente em cenários com um grande número de arquivos pequenos.  \n",
    "*  Uma das características distintivas do ReiserFS é o suporte à compactação de arquivos. Isso permite economizar espaço em disco comprimindo automaticamente os arquivos.\n",
    "* Possui suporte a snapshots, que são cópias instantâneas do sistema de arquivos em um determinado momento. Isso permite a recuperação de versões anteriores de arquivos ou o retorno do sistema de arquivos a um estado anterior."
   ]
  },
  {
   "cell_type": "markdown",
   "id": "9b3c2100",
   "metadata": {},
   "source": [
    "### **XFS**: \n",
    "*  O XFS utiliza um esquema de alocação de espaço chamado \"extent-based\", onde os arquivos são divididos em \"extents\" (intervalos contíguos de blocos) em vez de usar uma alocação em blocos individuais como outros sistemas de arquivos. \n",
    "* O XFS é conhecido por seu excelente desempenho e escalabilidade em sistemas com grandes volumes de dados. Ele é otimizado para trabalhar com arquivos de grande tamanho e alta taxa de transferência de dados, tornando-o adequado para casos de uso que exigem manipulação de dados intensiva, como bancos de dados, servidores de arquivos e ambientes de armazenamento em nuvem.\n",
    "* O XFS possui uma ampla variedade de ferramentas e recursos avançados de administração, incluindo recursos de monitoramento, ajuste fino de desempenho, balanceamento de carga e recuperação de dados."
   ]
  },
  {
   "cell_type": "markdown",
   "id": "ca8c2bfa",
   "metadata": {},
   "source": [
    "## Questão 8"
   ]
  },
  {
   "cell_type": "markdown",
   "id": "4e50ca14",
   "metadata": {},
   "source": []
  },
  {
   "cell_type": "markdown",
   "id": "38b8850d",
   "metadata": {},
   "source": [
    "## Questão 9"
   ]
  },
  {
   "cell_type": "code",
   "execution_count": 176,
   "id": "5d2a66e5",
   "metadata": {},
   "outputs": [],
   "source": [
    "import psycopg2\n",
    "from psycopg2 import sql\n",
    "\n",
    "DATABASE_NAME = 'tpchdb'\n",
    "USER_NAME = 'postgres'\n",
    "USER_PASSWORD = 'postgres'\n",
    "SERVER_HOST = 'localhost'\n",
    "SERVER_PORT = '5432'\n",
    "\n",
    "def get_connection(autocommit=False):\n",
    "    conn = psycopg2.connect(\n",
    "        dbname=\"tpchdb\",\n",
    "        user=\"postgres\",\n",
    "        password=\"postgres\",\n",
    "        host=\"localhost\",\n",
    "        port=\"5432\"\n",
    "    )\n",
    "    conn.autocommit = autocommit\n",
    "    return conn"
   ]
  },
  {
   "cell_type": "code",
   "execution_count": 177,
   "id": "27f088d8",
   "metadata": {},
   "outputs": [
    {
     "name": "stdout",
     "output_type": "stream",
     "text": [
      "TABELA: supplier\n",
      "\ts_nationkey: integer\n",
      "\ts_suppkey: integer\n",
      "\ts_acctbal: numeric\n",
      "\ts_comment: character varying\n",
      "\ts_phone: character\n",
      "\ts_name: character\n",
      "\ts_address: character varying\n",
      "\tTAMANHO: 8192 bytes\n",
      "\n",
      "TABELA: part\n",
      "\tp_size: integer\n",
      "\tp_retailprice: numeric\n",
      "\tp_partkey: integer\n",
      "\tp_brand: character\n",
      "\tp_type: character varying\n",
      "\tp_container: character\n",
      "\tp_comment: character varying\n",
      "\tp_name: character varying\n",
      "\tp_mfgr: character\n",
      "\tTAMANHO: 8192 bytes\n",
      "\n",
      "TABELA: partsupp\n",
      "\tps_partkey: integer\n",
      "\tps_suppkey: integer\n",
      "\tps_availqty: integer\n",
      "\tps_supplycost: numeric\n",
      "\tps_comment: character varying\n",
      "\tTAMANHO: 8192 bytes\n",
      "\n",
      "TABELA: customer\n",
      "\tc_acctbal: numeric\n",
      "\tc_nationkey: integer\n",
      "\tc_custkey: integer\n",
      "\tc_phone: character\n",
      "\tc_mktsegment: character\n",
      "\tc_comment: character varying\n",
      "\tc_name: character varying\n",
      "\tc_address: character varying\n",
      "\tTAMANHO: 8192 bytes\n",
      "\n",
      "TABELA: orders\n",
      "\to_orderkey: integer\n",
      "\to_custkey: integer\n",
      "\to_totalprice: numeric\n",
      "\to_orderdate: date\n",
      "\to_shippriority: integer\n",
      "\to_orderpriority: character\n",
      "\to_orderstatus: character\n",
      "\to_clerk: character\n",
      "\to_comment: character varying\n",
      "\tTAMANHO: 8192 bytes\n",
      "\n",
      "TABELA: lineitem\n",
      "\tl_commitdate: date\n",
      "\tl_receiptdate: date\n",
      "\tl_linenumber: integer\n",
      "\tl_quantity: numeric\n",
      "\tl_orderkey: integer\n",
      "\tl_extendedprice: numeric\n",
      "\tl_discount: numeric\n",
      "\tl_tax: numeric\n",
      "\tl_partkey: integer\n",
      "\tl_suppkey: integer\n",
      "\tl_shipdate: date\n",
      "\tl_comment: character varying\n",
      "\tl_returnflag: character\n",
      "\tl_linestatus: character\n",
      "\tl_shipinstruct: character\n",
      "\tl_shipmode: character\n",
      "\tTAMANHO: 8192 bytes\n",
      "\n",
      "TABELA: nation\n",
      "\tn_nationkey: integer\n",
      "\tn_regionkey: integer\n",
      "\tn_name: character\n",
      "\tn_comment: character varying\n",
      "\tTAMANHO: 0 bytes\n",
      "\n",
      "TABELA: region\n",
      "\tr_regionkey: integer\n",
      "\tr_name: character\n",
      "\tr_comment: character varying\n",
      "\tTAMANHO: 0 bytes\n",
      "\n",
      "TABELA: t\n",
      "\tk: integer\n",
      "\tv: integer\n",
      "\tTAMANHO: 63 MB\n",
      "\n"
     ]
    }
   ],
   "source": [
    "def q9():\n",
    "    # Conectar ao banco de dados PostgreSQL\n",
    "    conn = get_connection(True)\n",
    "    cursor = conn.cursor()\n",
    "    \n",
    "    # Consulta SQL para listar todas as tabelas existentes\n",
    "    table_query = \"\"\"\n",
    "        SELECT table_name, pg_size_pretty(pg_total_relation_size(quote_ident(table_name)))\n",
    "        FROM information_schema.tables\n",
    "        WHERE table_schema = 'public'\n",
    "    \"\"\"\n",
    "    \n",
    "    # Executa a consulta SQL\n",
    "    cursor.execute(table_query)\n",
    "    \n",
    "    # Recupera todas as tabelas retornadas pela consulta\n",
    "    tables = cursor.fetchall()\n",
    "    \n",
    "    # Itera sobre as tabelas e recupera seus campos\n",
    "    for table in tables:\n",
    "        table_name = table[0]\n",
    "        storage_size = table[1]\n",
    "        \n",
    "        # Consulta SQL para listar os campos da tabela\n",
    "        column_query = f\"\"\"\n",
    "            SELECT column_name, data_type\n",
    "            FROM information_schema.columns\n",
    "            WHERE table_name = '{table_name}'\n",
    "        \"\"\"\n",
    "        \n",
    "        # Executa a consulta SQL\n",
    "        cursor.execute(column_query)\n",
    "        \n",
    "        # Recupera todos os campos da tabela retornados pela consulta\n",
    "        columns = cursor.fetchall()\n",
    "        \n",
    "        # Imprime o nome da tabela\n",
    "        print(\"TABELA:\", table_name)\n",
    "        \n",
    "        # Imprime os campos da tabela\n",
    "        for column in columns:\n",
    "            column_name = column[0]\n",
    "            data_type = column[1]\n",
    "            print(f'\\t{column_name}: {data_type}')\n",
    "            \n",
    "        print(f'\\tTAMANHO: {storage_size}\\n')\n",
    "    cursor.close()\n",
    "    conn.close()\n",
    "    \n",
    "q9()"
   ]
  },
  {
   "cell_type": "markdown",
   "id": "12d663a0",
   "metadata": {},
   "source": [
    "## Questão 10"
   ]
  },
  {
   "cell_type": "code",
   "execution_count": 178,
   "id": "e7abe7c7",
   "metadata": {},
   "outputs": [
    {
     "name": "stdout",
     "output_type": "stream",
     "text": [
      "(1, 3)\n",
      "(2, 5)\n",
      "(3, 7)\n",
      "(4, 7)\n",
      "(5, 4)\n",
      "(6, 9)\n",
      "(7, 7)\n",
      "(8, 7)\n",
      "(9, 7)\n",
      "(10, 5)\n"
     ]
    }
   ],
   "source": [
    "def q10():\n",
    "    # Conectar ao banco de dados PostgreSQL\n",
    "    conn = get_connection(True)\n",
    "    cur = conn.cursor()\n",
    "    \n",
    "    # Criar a tabela e inserir dados\n",
    "    cur.execute(\"\"\"\n",
    "        DROP TABLE IF EXISTS t;\n",
    "        CREATE TABLE t (k serial PRIMARY KEY, v integer);\n",
    "    \"\"\")\n",
    "    conn.commit()\n",
    "\n",
    "    #for i in range(1, 100001):\n",
    "    #    print(f'Inserindo o item {i}')\n",
    "    cur.execute(\"INSERT INTO t(v) SELECT trunc(random() * 10) FROM generate_series(1,100000)\")\n",
    "    conn.commit()\n",
    "\n",
    "    # Selecionar e imprimir as 10 primeiras tuplas\n",
    "    cur.execute(\"SELECT * FROM t ORDER BY k LIMIT 10\")\n",
    "    rows = cur.fetchall()\n",
    "\n",
    "    for row in rows:\n",
    "        print(row)\n",
    "\n",
    "    cur.close()\n",
    "    conn.close()\n",
    "\n",
    "q10()"
   ]
  },
  {
   "cell_type": "markdown",
   "id": "c369b266",
   "metadata": {},
   "source": [
    "## Questão 11"
   ]
  },
  {
   "cell_type": "code",
   "execution_count": 179,
   "id": "1b14a91d",
   "metadata": {},
   "outputs": [
    {
     "name": "stdout",
     "output_type": "stream",
     "text": [
      "('t', 443, 100000.0)\n"
     ]
    }
   ],
   "source": [
    "def q11():\n",
    "    # Conectar ao banco de dados PostgreSQL\n",
    "    conn = get_connection(True)\n",
    "    cur = conn.cursor()\n",
    "    \n",
    "    cur.execute(\"ANALYZE t\")\n",
    "    cur.execute(\"SELECT relname, relpages, reltuples FROM pg_class WHERE relname='t';\")\n",
    "    rows = cur.fetchall()\n",
    "\n",
    "    for row in rows:\n",
    "        print(row)\n",
    "\n",
    "    cur.close()\n",
    "    conn.close()\n",
    "    \n",
    "q11()"
   ]
  },
  {
   "cell_type": "markdown",
   "id": "d10a732f",
   "metadata": {},
   "source": [
    "## Questão 12"
   ]
  },
  {
   "cell_type": "markdown",
   "id": "0ca51914",
   "metadata": {},
   "source": [
    "**Verificar se quer que imprima todo o resultado ou apenas o buffers: shared hit = número de paginas**"
   ]
  },
  {
   "cell_type": "code",
   "execution_count": 180,
   "id": "d1d1e3b5",
   "metadata": {},
   "outputs": [
    {
     "name": "stdout",
     "output_type": "stream",
     "text": [
      "Limit  (cost=0.29..0.60 rows=10 width=8) (actual time=0.019..0.023 rows=10 loops=1)\n",
      "Buffers: shared hit=3\n",
      "->  Index Scan using t_pkey on t  (cost=0.29..3050.29 rows=100000 width=8) (actual time=0.018..0.020 rows=10 loops=1)\n",
      "Buffers: shared hit=3\n",
      "Planning:\n",
      "Buffers: shared hit=31\n",
      "Planning Time: 0.115 ms\n",
      "Execution Time: 0.034 ms\n"
     ]
    }
   ],
   "source": [
    "def q12():\n",
    "    # Conectar ao banco de dados PostgreSQL\n",
    "    conn = get_connection(True)\n",
    "    cur = conn.cursor()\n",
    "    \n",
    "    # Executar a consulta\n",
    "    cur.execute(\"SELECT pg_sleep(1);\")\n",
    "    cur.execute(\"SELECT * FROM pg_stats WHERE tablename='t';\")\n",
    "    cur.execute(\"SELECT pg_stat_reset();\")\n",
    "    cur.execute(\"EXPLAIN (ANALYZE, BUFFERS) SELECT * FROM t ORDER BY k LIMIT 10\")\n",
    "    rows = cur.fetchall()\n",
    "\n",
    "    # Imprimir os resultados\n",
    "    for row in rows:\n",
    "        print(row[0].strip())\n",
    "\n",
    "    cur.close()\n",
    "    conn.close()\n",
    "    \n",
    "q12()"
   ]
  },
  {
   "cell_type": "markdown",
   "id": "54e6f499",
   "metadata": {},
   "source": [
    "## Questão 13"
   ]
  },
  {
   "cell_type": "code",
   "execution_count": 181,
   "id": "550fbfa8",
   "metadata": {},
   "outputs": [
    {
     "name": "stdout",
     "output_type": "stream",
     "text": [
      "TEMPO DE CONSULTA USANDO MÓDULO time (100K TUPLAS): 0.0002168134s\n",
      "\tBitmap Heap Scan on t  (cost=116.40..688.62 rows=10337 width=8) (actual time=0.226..1.528 rows=10069 loops=1)\n",
      "\t  Recheck Cond: (v = 5)\n",
      "\t  Heap Blocks: exact=443\n",
      "\t  ->  Bitmap Index Scan on idx_v  (cost=0.00..113.82 rows=10337 width=0) (actual time=0.190..0.190 rows=10069 loops=1)\n",
      "\t        Index Cond: (v = 5)\n",
      "\tPlanning Time: 0.178 ms\n",
      "\tExecution Time: 1.743 ms\n",
      "----------------------------------------------------------------------------------------------------\n",
      "\n",
      "TEMPO PARA RECRIAR O ÍNDICE (100K TUPLAS): 0.0051678824s\n",
      "----------------------------------------------------------------------------------------------------\n",
      "\n",
      "TEMPO DE CONSULTA USANDO MÓDULO time (1M TUPLAS): 0.0014709192s\n",
      "\tBitmap Heap Scan on t  (cost=59.17..4757.05 rows=5000 width=8) (actual time=2.166..12.523 rows=100244 loops=1)\n",
      "\t  Recheck Cond: (v = 5)\n",
      "\t  Heap Blocks: exact=4425\n",
      "\t  ->  Bitmap Index Scan on idx_v  (cost=0.00..57.92 rows=5000 width=0) (actual time=1.789..1.790 rows=100244 loops=1)\n",
      "\t        Index Cond: (v = 5)\n",
      "\tPlanning Time: 0.113 ms\n",
      "\tExecution Time: 14.134 ms\n",
      "----------------------------------------------------------------------------------------------------\n",
      "\n",
      "TEMPO PARA RECRIAR O ÍNDICE (1M tuplas): 0.0471131186s\n"
     ]
    }
   ],
   "source": [
    "def q13(flag=0):\n",
    "    # Conectar ao banco de dados PostgreSQL\n",
    "    conn = get_connection(True)\n",
    "    cur = conn.cursor()\n",
    "    \n",
    "    if(flag!=1):\n",
    "        # Criar um índice para o atributo 'v'\n",
    "        cur.execute(\"CREATE INDEX idx_v ON t(v);\")\n",
    "        conn.commit()\n",
    "    # Medir o tempo de consulta\n",
    "    tempo = time.time_ns()\n",
    "    cur.execute(\"EXPLAIN ANALYZE SELECT * FROM t WHERE v = 5;\")\n",
    "    tempo = (time.time_ns() - tempo) / 10000000000\n",
    "    print(f\"TEMPO DE CONSULTA USANDO MÓDULO time (100K TUPLAS): {tempo}s\")\n",
    "    psql_time = cur.fetchall()\n",
    "    for row in psql_time:\n",
    "        print(f\"\\t{row[0]}\")\n",
    "    print(\"-\" * 100, end='\\n\\n')\n",
    "    \n",
    "    # Medir o tempo para recriar o índice\n",
    "    tempo = time.time_ns()\n",
    "    cur.execute(\"DROP INDEX idx_v;\")\n",
    "    cur.execute(\"CREATE INDEX idx_v ON t(v);\")\n",
    "    tempo = (time.time_ns() - tempo) / 10000000000\n",
    "    print(f\"TEMPO PARA RECRIAR O ÍNDICE (100K TUPLAS): {tempo}s\")\n",
    "    print(\"-\" * 100, end='\\n\\n')\n",
    "    \n",
    "    # Remover a tabela 't' e criar novamente com 1.000.000 de tuplas\n",
    "    cur.execute(\"DROP TABLE IF EXISTS t;\")\n",
    "    cur.execute(\"CREATE TABLE t (k serial PRIMARY KEY, v integer);\")\n",
    "    cur.execute(\"INSERT INTO t(v) SELECT trunc(random() * 10) FROM generate_series(1,1000000);\")\n",
    "\n",
    "    # Criar um índice para o atributo 'v'\n",
    "    cur.execute(\"CREATE INDEX idx_v ON t(v);\")\n",
    "    conn.commit()\n",
    "\n",
    "    # Medir o tempo de consulta\n",
    "    tempo = time.time_ns()\n",
    "    cur.execute(\"EXPLAIN ANALYZE SELECT * FROM t WHERE v = 5;\")\n",
    "    tempo = (time.time_ns() - tempo) / 10000000000\n",
    "    print(f\"TEMPO DE CONSULTA USANDO MÓDULO time (1M TUPLAS): {tempo}s\")\n",
    "    psql_time = cur.fetchall()\n",
    "    for row in psql_time:\n",
    "        print(f\"\\t{row[0]}\")\n",
    "    print(\"-\" * 100, end='\\n\\n')\n",
    "\n",
    "    # Medir o tempo para recriar o índice\n",
    "    tempo = time.time_ns()\n",
    "    cur.execute(\"DROP INDEX idx_v;\")\n",
    "    cur.execute(\"CREATE INDEX idx_v ON t(v);\")\n",
    "    conn.commit()\n",
    "    tempo = (time.time_ns() - tempo) / 10000000000\n",
    "    print(f\"TEMPO PARA RECRIAR O ÍNDICE (1M tuplas): {tempo}s\")\n",
    "    \n",
    "    cur.close()\n",
    "    conn.close()\n",
    "    \n",
    "q13()"
   ]
  },
  {
   "cell_type": "markdown",
   "id": "2d33c6bc",
   "metadata": {},
   "source": [
    "## Questão 14"
   ]
  },
  {
   "cell_type": "code",
   "execution_count": 184,
   "id": "adf00881",
   "metadata": {},
   "outputs": [
    {
     "name": "stdout",
     "output_type": "stream",
     "text": [
      "FILL FACTOR = 60\n",
      "\n",
      "TEMPO DE CONSULTA USANDO MÓDULO time (100K TUPLAS): 0.0033025786s\n",
      "\tBitmap Heap Scan on t  (cost=59.17..7108.67 rows=5000 width=8) (actual time=2.869..30.761 rows=99794 loops=1)\n",
      "\t  Recheck Cond: (v = 5)\n",
      "\t  Heap Blocks: exact=7408\n",
      "\t  ->  Bitmap Index Scan on idx_v  (cost=0.00..57.92 rows=5000 width=0) (actual time=2.188..2.189 rows=99794 loops=1)\n",
      "\t        Index Cond: (v = 5)\n",
      "\tPlanning Time: 0.169 ms\n",
      "\tExecution Time: 32.525 ms\n",
      "----------------------------------------------------------------------------------------------------\n",
      "\n",
      "TEMPO PARA RECRIAR O ÍNDICE (100K TUPLAS): 0.0486327819s\n",
      "----------------------------------------------------------------------------------------------------\n",
      "\n",
      "TEMPO DE CONSULTA USANDO MÓDULO time (1M TUPLAS): 0.0014848613s\n",
      "\tBitmap Heap Scan on t  (cost=59.17..4757.05 rows=5000 width=8) (actual time=2.144..12.704 rows=99862 loops=1)\n",
      "\t  Recheck Cond: (v = 5)\n",
      "\t  Heap Blocks: exact=4425\n",
      "\t  ->  Bitmap Index Scan on idx_v  (cost=0.00..57.92 rows=5000 width=0) (actual time=1.722..1.722 rows=99862 loops=1)\n",
      "\t        Index Cond: (v = 5)\n",
      "\tPlanning Time: 0.118 ms\n",
      "\tExecution Time: 14.334 ms\n",
      "----------------------------------------------------------------------------------------------------\n",
      "\n",
      "TEMPO PARA RECRIAR O ÍNDICE (1M tuplas): 0.0457932197s\n",
      "\n",
      "\n",
      "\n",
      "FILL FACTOR = 80\n",
      "\n",
      "TEMPO DE CONSULTA USANDO MÓDULO time (100K TUPLAS): 0.0027755029s\n",
      "\tBitmap Heap Scan on t  (cost=59.17..5739.86 rows=5000 width=8) (actual time=2.475..25.356 rows=99862 loops=1)\n",
      "\t  Recheck Cond: (v = 5)\n",
      "\t  Heap Blocks: exact=5525\n",
      "\t  ->  Bitmap Index Scan on idx_v  (cost=0.00..57.92 rows=5000 width=0) (actual time=1.987..1.988 rows=99862 loops=1)\n",
      "\t        Index Cond: (v = 5)\n",
      "\tPlanning Time: 0.194 ms\n",
      "\tExecution Time: 27.181 ms\n",
      "----------------------------------------------------------------------------------------------------\n",
      "\n",
      "TEMPO PARA RECRIAR O ÍNDICE (100K TUPLAS): 0.0411295295s\n",
      "----------------------------------------------------------------------------------------------------\n",
      "\n",
      "TEMPO DE CONSULTA USANDO MÓDULO time (1M TUPLAS): 0.0014904427s\n",
      "\tBitmap Heap Scan on t  (cost=59.17..4757.05 rows=5000 width=8) (actual time=2.135..12.854 rows=100354 loops=1)\n",
      "\t  Recheck Cond: (v = 5)\n",
      "\t  Heap Blocks: exact=4425\n",
      "\t  ->  Bitmap Index Scan on idx_v  (cost=0.00..57.92 rows=5000 width=0) (actual time=1.756..1.756 rows=100354 loops=1)\n",
      "\t        Index Cond: (v = 5)\n",
      "\tPlanning Time: 0.082 ms\n",
      "\tExecution Time: 14.538 ms\n",
      "----------------------------------------------------------------------------------------------------\n",
      "\n",
      "TEMPO PARA RECRIAR O ÍNDICE (1M tuplas): 0.0322149742s\n",
      "\n",
      "\n",
      "\n",
      "FILL FACTOR = 90\n",
      "\n",
      "TEMPO DE CONSULTA USANDO MÓDULO time (100K TUPLAS): 0.0026661195s\n",
      "\tBitmap Heap Scan on t  (cost=59.17..5202.53 rows=5000 width=8) (actual time=2.300..24.259 rows=100354 loops=1)\n",
      "\t  Recheck Cond: (v = 5)\n",
      "\t  Heap Blocks: exact=4902\n",
      "\t  ->  Bitmap Index Scan on idx_v  (cost=0.00..57.92 rows=5000 width=0) (actual time=1.855..1.855 rows=100354 loops=1)\n",
      "\t        Index Cond: (v = 5)\n",
      "\tPlanning Time: 0.151 ms\n",
      "\tExecution Time: 26.116 ms\n",
      "----------------------------------------------------------------------------------------------------\n",
      "\n",
      "TEMPO PARA RECRIAR O ÍNDICE (100K TUPLAS): 0.0325134919s\n",
      "----------------------------------------------------------------------------------------------------\n",
      "\n",
      "TEMPO DE CONSULTA USANDO MÓDULO time (1M TUPLAS): 0.0015383701s\n",
      "\tBitmap Heap Scan on t  (cost=59.17..4757.05 rows=5000 width=8) (actual time=2.219..13.315 rows=99990 loops=1)\n",
      "\t  Recheck Cond: (v = 5)\n",
      "\t  Heap Blocks: exact=4425\n",
      "\t  ->  Bitmap Index Scan on idx_v  (cost=0.00..57.92 rows=5000 width=0) (actual time=1.832..1.832 rows=99990 loops=1)\n",
      "\t        Index Cond: (v = 5)\n",
      "\tPlanning Time: 0.077 ms\n",
      "\tExecution Time: 15.021 ms\n",
      "----------------------------------------------------------------------------------------------------\n",
      "\n",
      "TEMPO PARA RECRIAR O ÍNDICE (1M tuplas): 0.0345128127s\n",
      "\n",
      "\n",
      "\n",
      "FILL FACTOR = 100\n",
      "\n",
      "TEMPO DE CONSULTA USANDO MÓDULO time (100K TUPLAS): 0.0023635465s\n",
      "\tBitmap Heap Scan on t  (cost=59.17..4757.05 rows=5000 width=8) (actual time=2.158..21.477 rows=99990 loops=1)\n",
      "\t  Recheck Cond: (v = 5)\n",
      "\t  Heap Blocks: exact=4425\n",
      "\t  ->  Bitmap Index Scan on idx_v  (cost=0.00..57.92 rows=5000 width=0) (actual time=1.779..1.779 rows=99990 loops=1)\n",
      "\t        Index Cond: (v = 5)\n",
      "\tPlanning Time: 0.141 ms\n",
      "\tExecution Time: 23.192 ms\n",
      "----------------------------------------------------------------------------------------------------\n",
      "\n",
      "TEMPO PARA RECRIAR O ÍNDICE (100K TUPLAS): 0.0323177199s\n",
      "----------------------------------------------------------------------------------------------------\n",
      "\n",
      "TEMPO DE CONSULTA USANDO MÓDULO time (1M TUPLAS): 0.0017005819s\n",
      "\tBitmap Heap Scan on t  (cost=59.17..4757.05 rows=5000 width=8) (actual time=2.626..14.654 rows=100518 loops=1)\n",
      "\t  Recheck Cond: (v = 5)\n",
      "\t  Heap Blocks: exact=4425\n",
      "\t  ->  Bitmap Index Scan on idx_v  (cost=0.00..57.92 rows=5000 width=0) (actual time=2.162..2.163 rows=100518 loops=1)\n",
      "\t        Index Cond: (v = 5)\n",
      "\tPlanning Time: 0.098 ms\n",
      "\tExecution Time: 16.463 ms\n",
      "----------------------------------------------------------------------------------------------------\n",
      "\n",
      "TEMPO PARA RECRIAR O ÍNDICE (1M tuplas): 0.0366472396s\n",
      "\n",
      "\n",
      "\n"
     ]
    }
   ],
   "source": [
    "# Definir diferentes valores para fillfactor\n",
    "fillfactors = [60, 80, 90, 100]\n",
    "\n",
    "for fillfactor in fillfactors:\n",
    "    print(f\"FILL FACTOR = {fillfactor}\\n\")\n",
    "    # Remover o índice 'idx_v' se ele existir\n",
    "    cur.execute(\"DROP INDEX IF EXISTS idx_v;\")\n",
    "    conn.commit()\n",
    "\n",
    "    # Criar um novo índice 'idx_v' com o fillfactor atual\n",
    "    cur.execute(f\"ALTER TABLE t SET ( fillfactor = {fillfactor})\");\n",
    "    cur.execute(\"VACUUM FULL t;\")\n",
    "    conn.commit()\n",
    "\n",
    "    # executa a questão 13 com o novo fillfactor\n",
    "    q13()\n",
    "    print('\\n\\n')"
   ]
  },
  {
   "cell_type": "markdown",
   "id": "9db94c9b",
   "metadata": {},
   "source": [
    "## Questão 15* ANULADA!"
   ]
  },
  {
   "cell_type": "markdown",
   "id": "74599744",
   "metadata": {},
   "source": [
    "## Questão 16"
   ]
  },
  {
   "cell_type": "code",
   "execution_count": 186,
   "id": "54a771f8",
   "metadata": {},
   "outputs": [
    {
     "name": "stdout",
     "output_type": "stream",
     "text": [
      "QUESTÃO 11:\n",
      "\n",
      "('t', 4425, 1000000.0)\n",
      "\n",
      "\n",
      "QUESTÃO 12:\n",
      "\n",
      "Limit  (cost=0.42..0.86 rows=10 width=8) (actual time=0.013..0.014 rows=10 loops=1)\n",
      "Buffers: shared hit=4\n",
      "->  Index Scan using t_pkey on t  (cost=0.42..43680.43 rows=1000000 width=8) (actual time=0.012..0.013 rows=10 loops=1)\n",
      "Buffers: shared hit=4\n",
      "Planning:\n",
      "Buffers: shared hit=54 read=2\n",
      "Planning Time: 0.110 ms\n",
      "Execution Time: 0.020 ms\n",
      "\n",
      "\n",
      "QUESTÃO 13:\n",
      "\n",
      "TEMPO DE CONSULTA USANDO MÓDULO time (100K TUPLAS): 0.0017262746s\n",
      "\tBitmap Heap Scan on t  (cost=59.17..4757.05 rows=5000 width=8) (actual time=2.419..14.977 rows=99934 loops=1)\n",
      "\t  Recheck Cond: (v = 5)\n",
      "\t  Heap Blocks: exact=4425\n",
      "\t  ->  Bitmap Index Scan on i  (cost=0.00..57.92 rows=5000 width=0) (actual time=2.030..2.030 rows=99934 loops=1)\n",
      "\t        Index Cond: (v = 5)\n",
      "\tPlanning Time: 0.187 ms\n",
      "\tExecution Time: 16.661 ms\n",
      "----------------------------------------------------------------------------------------------------\n",
      "\n",
      "TEMPO PARA RECRIAR O ÍNDICE (100K TUPLAS): 0.0320830275s\n",
      "----------------------------------------------------------------------------------------------------\n",
      "\n",
      "TEMPO DE CONSULTA USANDO MÓDULO time (1M TUPLAS): 0.0014743973s\n",
      "\tBitmap Heap Scan on t  (cost=59.17..4757.05 rows=5000 width=8) (actual time=2.143..12.695 rows=99894 loops=1)\n",
      "\t  Recheck Cond: (v = 5)\n",
      "\t  Heap Blocks: exact=4425\n",
      "\t  ->  Bitmap Index Scan on idx_v  (cost=0.00..57.92 rows=5000 width=0) (actual time=1.655..1.655 rows=99894 loops=1)\n",
      "\t        Index Cond: (v = 5)\n",
      "\tPlanning Time: 0.077 ms\n",
      "\tExecution Time: 14.337 ms\n",
      "----------------------------------------------------------------------------------------------------\n",
      "\n",
      "TEMPO PARA RECRIAR O ÍNDICE (1M tuplas): 0.0320055191s\n"
     ]
    }
   ],
   "source": [
    "cur.execute('CREATE INDEX i ON t(v DESC NULLS FIRST)');\n",
    "conn.commit()\n",
    "\n",
    "#questão 11\n",
    "print(\"QUESTÃO 11:\\n\")\n",
    "cur.execute(\"SELECT relname, relpages, reltuples FROM pg_class WHERE relname='t';\")\n",
    "rows = cur.fetchall()\n",
    "\n",
    "for row in rows:\n",
    "    print(row)\n",
    "    \n",
    "print(\"\\n\\nQUESTÃO 12:\\n\")\n",
    "#questão 12\n",
    "q12()\n",
    "\n",
    "print(\"\\n\\nQUESTÃO 13:\\n\")\n",
    "#questão 13\n",
    "q13(1)"
   ]
  },
  {
   "cell_type": "markdown",
   "id": "55b183ac",
   "metadata": {},
   "source": [
    "# Parte 4"
   ]
  },
  {
   "cell_type": "markdown",
   "id": "b2a70ec6",
   "metadata": {},
   "source": [
    "## Questão 17 (Concluir)"
   ]
  },
  {
   "cell_type": "code",
   "execution_count": null,
   "id": "22e579fc",
   "metadata": {},
   "outputs": [],
   "source": [
    "#Executando script movie.sql\n",
    "\n",
    "with open('movie.sql', 'r') as file:\n",
    "    cur.execute(file.read())\n",
    "conn.commit()"
   ]
  },
  {
   "cell_type": "code",
   "execution_count": null,
   "id": "42e3f4c5",
   "metadata": {},
   "outputs": [],
   "source": [
    "#nome da tabela e nome do índice \n",
    "cur.execute(\"SELECT tablename, indexname FROM pg_indexes WHERE schemaname = 'public';\")\n",
    "rows = cur.fetchall()\n",
    "\n",
    "\n",
    "print(\"Nome da tabela, Nome do índice\")\n",
    "for row in rows:\n",
    "    print(row)\n"
   ]
  },
  {
   "cell_type": "code",
   "execution_count": null,
   "id": "64a85c36",
   "metadata": {},
   "outputs": [],
   "source": [
    "cur.execute(\"SELECT indexname, pg_relation_size(indexrelid) AS index_size FROM pg_indexes WHERE schemaname = 'public';\")\n",
    "rows = cur.fetchall()\n",
    "\n",
    "\n",
    "print(\"Nome da tabela, Nome do índice\")\n",
    "for row in rows:\n",
    "    print(row)"
   ]
  },
  {
   "cell_type": "markdown",
   "id": "c4be43bd",
   "metadata": {},
   "source": [
    "## Questão 18"
   ]
  },
  {
   "cell_type": "markdown",
   "id": "d2791692",
   "metadata": {},
   "source": [
    "**a)**"
   ]
  },
  {
   "cell_type": "code",
   "execution_count": null,
   "id": "57e3f149",
   "metadata": {},
   "outputs": [],
   "source": [
    "#tuplas de filmes que possuem votos maiores que 33000 ordenadas por id\n",
    "cur.execute(\"EXPLAIN SELECT id, votes FROM movie WHERE movie.votes > 33000 ORDER BY id;\")\n",
    "rows = cur.fetchall()\n",
    "\n",
    "for row in rows:\n",
    "    print(row)"
   ]
  },
  {
   "cell_type": "markdown",
   "id": "337ba99f",
   "metadata": {},
   "source": [
    "**b)**"
   ]
  },
  {
   "cell_type": "code",
   "execution_count": null,
   "id": "9ce91d3c",
   "metadata": {},
   "outputs": [],
   "source": [
    "#tuplas de filmes que possuem votos maiores que 1000 ordenadas por id\n",
    "cur.execute(\"EXPLAIN SELECT id, votes FROM movie WHERE movie.votes > 1000 ORDER BY id;\")\n",
    "rows = cur.fetchall()\n",
    "\n",
    "for row in rows:\n",
    "    print(row)"
   ]
  },
  {
   "cell_type": "markdown",
   "id": "83aa2bc6",
   "metadata": {},
   "source": [
    "**c)** Pelo fato de ser um índice secundário, o campo *votes* não ser uma chave, o índice não ser ordenado e ser esparso, a busca se torna despendiosa."
   ]
  },
  {
   "cell_type": "markdown",
   "id": "2f38fd5b",
   "metadata": {},
   "source": [
    "## Questão 19"
   ]
  },
  {
   "cell_type": "markdown",
   "id": "194c2dcf",
   "metadata": {},
   "source": [
    "**a)**"
   ]
  },
  {
   "cell_type": "code",
   "execution_count": null,
   "id": "8d8888dc",
   "metadata": {},
   "outputs": [],
   "source": [
    "print(\"Primeira consulta: \")\n",
    "cur.execute(\"EXPLAIN SELECT title FROM movie WHERE votes >= (SELECT MAX(votes) FROM movie);\")\n",
    "rows = cur.fetchall()\n",
    "\n",
    "for row in rows:\n",
    "    print(row)\n",
    "    \n",
    "print(\"\\n\")\n",
    "print(\"Segunda consulta: \")\n",
    "cur.execute(\"EXPLAIN SELECT title FROM movie WHERE votes >= ALL (SELECT votes FROM movie);\")\n",
    "rows = cur.fetchall()\n",
    "\n",
    "for row in rows:\n",
    "    print(row)"
   ]
  },
  {
   "cell_type": "markdown",
   "id": "a1cc05ec",
   "metadata": {},
   "source": [
    "**b)** A primeira colsulta realizou uma busca pelo índice *movie_votes*, tendo um custo máximo total de 111.92 (35.37 + 76.55) unidade. Enquanto que a segunda executou uma busca sequencial na tabela *movie* (mais despendiosa), tendo um custo máximo total de 43663.65 (43620.99 + 42.66). Logo, a primeira conuslta se mostra ser mais eficiente."
   ]
  },
  {
   "cell_type": "markdown",
   "id": "467a16ff",
   "metadata": {},
   "source": [
    "## Questão 20"
   ]
  },
  {
   "cell_type": "markdown",
   "id": "25c26364",
   "metadata": {},
   "source": [
    "**a)**"
   ]
  },
  {
   "cell_type": "code",
   "execution_count": null,
   "id": "651ea20f",
   "metadata": {},
   "outputs": [],
   "source": [
    "#a)\n",
    "print(\"Primeira consulta: \")\n",
    "cur.execute(\"EXPLAIN SELECT title FROM movie WHERE votes > (SELECT votes FROM movie WHERE title = 'Star Wars');\")\n",
    "rows = cur.fetchall()\n",
    "\n",
    "for row in rows:\n",
    "    print(row)\n",
    "    \n",
    "print(\"\\n\")\n",
    "print(\"Segunda consulta: \")\n",
    "cur.execute(\"EXPLAIN SELECT m1.title FROM movie m1, movie m2 WHERE m1.votes > m2.votes AND m2.title = 'Star Wars';\")\n",
    "rows = cur.fetchall()\n",
    "\n",
    "for row in rows:\n",
    "    print(row)"
   ]
  },
  {
   "cell_type": "markdown",
   "id": "b2de8be9",
   "metadata": {},
   "source": [
    "**b)** O primeiro plano executa uma busca pelo índice *movie_votes*, com um custo estimado entre 8.57 e 43.34 unidades. Além disso, também ocorre uma busca pelo índice *movie_title* com um custo aproximado entre 0.28 e 8.29 unidades.\n",
    "\n",
    "O segundo plano executa um *nested loop* entre *movie m1* e *movie m2*, com um custo estimado entre 0.56 e 49.49 unidades. Depois, executa uma usca pelo índice *movie_title* com uma condição sobre a coluna *title*, obtendo um custo estimado entre 0.28 e 8.29 unidades.O próximo passo é parecido com o anterior, mas sobre o índice *movie_votes* e a coluna *votes*, com um custo aproximado de 0.28 e 35.04 unidades. Por fim, como dito incialmente, o *nested loop join* combina o resultado dessas duas busas pelos índices.\n",
    "\n",
    "Logo, analisando os resultados, a primeira consulta se mostra ser mais eficiente."
   ]
  },
  {
   "cell_type": "markdown",
   "id": "c245d407",
   "metadata": {},
   "source": [
    "## Questão 21"
   ]
  },
  {
   "cell_type": "markdown",
   "id": "73c1a78d",
   "metadata": {},
   "source": [
    "**a)**"
   ]
  },
  {
   "cell_type": "code",
   "execution_count": null,
   "id": "c9f91d14",
   "metadata": {},
   "outputs": [],
   "source": [
    "print(\"Primeira consulta: \")\n",
    "cur.execute(\"EXPLAIN SELECT title FROM movie WHERE title LIKE 'I%'; \")\n",
    "rows = cur.fetchall()\n",
    "\n",
    "for row in rows:\n",
    "    print(row)\n",
    "    \n",
    "print(\"\\n\")\n",
    "print(\"Segunda consulta: \")\n",
    "cur.execute(\"EXPLAIN SELECT title FROM movie WHERE substr(title, 1, 1) = 'I'; \")\n",
    "rows = cur.fetchall()\n",
    "\n",
    "for row in rows:\n",
    "    print(row)\n",
    "    \n",
    "print(\"\\n\")\n",
    "print(\"Terceira consulta: \")\n",
    "cur.execute(\"EXPLAIN SELECT title FROM movie WHERE title LIKE '%A'; \")\n",
    "rows = cur.fetchall()\n",
    "\n",
    "for row in rows:\n",
    "    print(row)"
   ]
  },
  {
   "cell_type": "markdown",
   "id": "05e2deb0",
   "metadata": {},
   "source": [
    "**b)** As duas que apresentam o menor custo são a primeira e a terceira. Embora todas executem uma busca sequencial pela tabela *movie*, a segunda utiliza a função *substr*, que aumenta seu custo. Isso ocorre, porque essa função é utilizada para extrair o primeiro caracter de cada atributo de título e comparar com 'I'. "
   ]
  },
  {
   "cell_type": "markdown",
   "id": "b7b5f30a",
   "metadata": {},
   "source": [
    "**c)** Em nenhuma delas foi utilizada o índice *movie_title*. Um motivo para isso poderia ser que o acesso direto ao atributo *title* da tabela seria mais eficiente para uma comparação, já que todos os atributos devem ser comparados, ao invés de fazer uma busca pelo índice, para aí, acessar o bloco correto e realizar uma comparação."
   ]
  },
  {
   "cell_type": "markdown",
   "id": "1b20eb68",
   "metadata": {},
   "source": [
    "## Questão 22"
   ]
  },
  {
   "cell_type": "markdown",
   "id": "9624257c",
   "metadata": {},
   "source": [
    "**a)**"
   ]
  },
  {
   "cell_type": "code",
   "execution_count": null,
   "id": "97916b26",
   "metadata": {},
   "outputs": [],
   "source": [
    "print(\"Primeira consulta: \")\n",
    "cur.execute(\"EXPLAIN SELECT title FROM movie WHERE votes < 1000;\")\n",
    "rows = cur.fetchall()\n",
    "\n",
    "for row in rows:\n",
    "    print(row)\n",
    "    \n",
    "print(\"\\n\")\n",
    "print(\"Segunda consulta: \")\n",
    "cur.execute(\"EXPLAIN SELECT title FROM movie WHERE votes > 40000;\")\n",
    "rows = cur.fetchall()\n",
    "\n",
    "for row in rows:\n",
    "    print(row)"
   ]
  },
  {
   "cell_type": "markdown",
   "id": "0f55fb61",
   "metadata": {},
   "source": [
    "**b)** A segunda consulta possui a menor seletividade."
   ]
  },
  {
   "cell_type": "markdown",
   "id": "a66fac50",
   "metadata": {},
   "source": [
    "# Parte 5"
   ]
  },
  {
   "cell_type": "markdown",
   "id": "a63fc2d5",
   "metadata": {},
   "source": [
    "## Questão 23"
   ]
  },
  {
   "cell_type": "code",
   "execution_count": null,
   "id": "b3df1a64",
   "metadata": {},
   "outputs": [],
   "source": []
  }
 ],
 "metadata": {
  "kernelspec": {
   "display_name": "Python 3 (ipykernel)",
   "language": "python",
   "name": "python3"
  },
  "language_info": {
   "codemirror_mode": {
    "name": "ipython",
    "version": 3
   },
   "file_extension": ".py",
   "mimetype": "text/x-python",
   "name": "python",
   "nbconvert_exporter": "python",
   "pygments_lexer": "ipython3",
   "version": "3.10.6"
  }
 },
 "nbformat": 4,
 "nbformat_minor": 5
}
