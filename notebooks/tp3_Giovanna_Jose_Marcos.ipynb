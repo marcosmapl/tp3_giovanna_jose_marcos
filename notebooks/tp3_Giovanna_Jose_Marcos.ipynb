{
 "cells": [
  {
   "cell_type": "markdown",
   "id": "f1440d2d",
   "metadata": {},
   "source": [
    "# Trabalho prático 3 - Banco de Dados I\n",
    "\n",
    "> Giovanna Andrade Santos - 22052563  \n",
    "> José Mateus Córdova Rodrigues -  \n",
    "> Marcos Avner Pimenta de Lima - 21852448\n"
   ]
  },
  {
   "cell_type": "markdown",
   "id": "e82806da",
   "metadata": {},
   "source": [
    "### Tarefa 1 - Instalação do PostgreSQL\n"
   ]
  },
  {
   "cell_type": "markdown",
   "id": "c7a448e9",
   "metadata": {},
   "source": [
    "Lendo listas de pacotes... Pronto\n",
    "Construindo árvore de dependências... Pronto\n",
    "Lendo informação de estado... Pronto  \n",
    "Os pacotes adicionais seguintes serão instalados:\n",
    "libcommon-sense-perl libjson-perl libjson-xs-perl libllvm14 libpq5\n",
    "libtypes-serialiser-perl postgresql-15 postgresql-client-15\n",
    "postgresql-client-common postgresql-common sysstat\n",
    "Pacotes sugeridos:\n",
    "postgresql-doc postgresql-doc-15 isag\n",
    "Os NOVOS pacotes a seguir serão instalados:\n",
    "libcommon-sense-perl libjson-perl libjson-xs-perl libllvm14 libpq5\n",
    "libtypes-serialiser-perl postgresql postgresql-15 postgresql-client-15\n",
    "postgresql-client-common postgresql-common sysstat\n",
    "0 pacotes atualizados, 12 pacotes novos instalados, 0 a serem removidos e 47 não atualizados.\n",
    "É preciso baixar 43,9 MB de arquivos.\n",
    "Depois desta operação, 175 MB adicionais de espaço em disco serão usados.\n",
    "Obter:1 http://br.archive.ubuntu.com/ubuntu jammy/main amd64 libjson-perl all 4.04000-1 [81,8 kB]\n",
    "Obter:2 http://br.archive.ubuntu.com/ubuntu jammy/main amd64 libcommon-sense-perl amd64 3.75-2build1 [21,1 kB]\n",
    "Obter:3 http://br.archive.ubuntu.com/ubuntu jammy/main amd64 libtypes-serialiser-perl all 1.01-1 [11,6 kB]\n",
    "Obter:4 http://br.archive.ubuntu.com/ubuntu jammy/main amd64 libjson-xs-perl amd64 4.030-1build3 [87,2 kB]\n",
    "Obter:5 http://apt.postgresql.org/pub/repos/apt jammy-pgdg/main amd64 postgresql-client-common all 249.pgdg22.04+1 [93,2 kB]\n",
    "Obter:6 http://br.archive.ubuntu.com/ubuntu jammy/main amd64 libllvm14 amd64 1:14.0.0-1ubuntu1 [24,0 MB]\n",
    "Obter:7 http://apt.postgresql.org/pub/repos/apt jammy-pgdg/main amd64 postgresql-common all 249.pgdg22.04+1 [239 kB]\n",
    "Obter:8 http://apt.postgresql.org/pub/repos/apt jammy-pgdg/main amd64 libpq5 amd64 15.3-1.pgdg22.04+1 [184 kB]\n",
    "Obter:9 http://apt.postgresql.org/pub/repos/apt jammy-pgdg/main amd64 postgresql-client-15 amd64 15.3-1.pgdg22.04+1 [1.679 kB]\n",
    "Obter:10 http://apt.postgresql.org/pub/repos/apt jammy-pgdg/main amd64 postgresql-15 amd64 15.3-1.pgdg22.04+1 [16,9 MB]\n",
    "Obter:11 http://br.archive.ubuntu.com/ubuntu jammy-updates/main amd64 sysstat amd64 12.5.2-2ubuntu0.1 [487 kB]\n",
    "Obter:12 http://apt.postgresql.org/pub/repos/apt jammy-pgdg/main amd64 postgresql all 15+249.pgdg22.04+1 [68,1 kB]\n",
    "Baixados 43,9 MB em 2min 26s (301 kB/s)  \n",
    "Pré-configurando pacotes ...\n",
    "A seleccionar pacote anteriormente não seleccionado libjson-perl.\n",
    "(Lendo banco de dados ... 280603 ficheiros e directórios actualmente instalados.)\n",
    "A preparar para desempacotar .../00-libjson-perl_4.04000-1_all.deb ...\n",
    "A descompactar libjson-perl (4.04000-1) ...\n",
    "A seleccionar pacote anteriormente não seleccionado postgresql-client-common.\n",
    "A preparar para desempacotar .../01-postgresql-client-common_249.pgdg22.04+1_all.deb ...\n",
    "A descompactar postgresql-client-common (249.pgdg22.04+1) ...\n",
    "A seleccionar pacote anteriormente não seleccionado postgresql-common.\n",
    "A preparar para desempacotar .../02-postgresql-common_249.pgdg22.04+1_all.deb ...\n",
    "A acrescentar 'desvio de /usr/bin/pg_config para /usr/bin/pg_config.libpq-dev por postgresql-common'\n",
    "A descompactar postgresql-common (249.pgdg22.04+1) ...\n",
    "A seleccionar pacote anteriormente não seleccionado libcommon-sense-perl:amd64.\n",
    "A preparar para desempacotar .../03-libcommon-sense-perl_3.75-2build1_amd64.deb ...\n",
    "A descompactar libcommon-sense-perl:amd64 (3.75-2build1) ...\n",
    "A seleccionar pacote anteriormente não seleccionado libtypes-serialiser-perl.\n",
    "A preparar para desempacotar .../04-libtypes-serialiser-perl_1.01-1_all.deb ...\n",
    "A descompactar libtypes-serialiser-perl (1.01-1) ...\n",
    "A seleccionar pacote anteriormente não seleccionado libjson-xs-perl.\n",
    "A preparar para desempacotar .../05-libjson-xs-perl_4.030-1build3_amd64.deb ...\n",
    "A descompactar libjson-xs-perl (4.030-1build3) ...\n",
    "A seleccionar pacote anteriormente não seleccionado libllvm14:amd64.\n",
    "A preparar para desempacotar .../06-libllvm14_1%3a14.0.0-1ubuntu1_amd64.deb ...\n",
    "A descompactar libllvm14:amd64 (1:14.0.0-1ubuntu1) ...\n",
    "A seleccionar pacote anteriormente não seleccionado libpq5:amd64.\n",
    "A preparar para desempacotar .../07-libpq5_15.3-1.pgdg22.04+1_amd64.deb ...\n",
    "A descompactar libpq5:amd64 (15.3-1.pgdg22.04+1) ...\n",
    "A seleccionar pacote anteriormente não seleccionado postgresql-client-15.\n",
    "A preparar para desempacotar .../08-postgresql-client-15_15.3-1.pgdg22.04+1_amd64.deb ...\n",
    "A descompactar postgresql-client-15 (15.3-1.pgdg22.04+1) ...\n",
    "A seleccionar pacote anteriormente não seleccionado postgresql-15.\n",
    "A preparar para desempacotar .../09-postgresql-15_15.3-1.pgdg22.04+1_amd64.deb ...\n",
    "A descompactar postgresql-15 (15.3-1.pgdg22.04+1) ...\n",
    "A seleccionar pacote anteriormente não seleccionado postgresql.\n",
    "A preparar para desempacotar .../10-postgresql_15+249.pgdg22.04+1_all.deb ...\n",
    "A descompactar postgresql (15+249.pgdg22.04+1) ...\n",
    "A seleccionar pacote anteriormente não seleccionado sysstat.\n",
    "A preparar para desempacotar .../11-sysstat_12.5.2-2ubuntu0.1_amd64.deb ...\n",
    "A descompactar sysstat (12.5.2-2ubuntu0.1) ...\n",
    "Configurando postgresql-client-common (249.pgdg22.04+1) ...\n",
    "Configurando libpq5:amd64 (15.3-1.pgdg22.04+1) ...\n",
    "Configurando libcommon-sense-perl:amd64 (3.75-2build1) ...\n",
    "Configurando postgresql-client-15 (15.3-1.pgdg22.04+1) ...\n",
    "update-alternatives: a usar /usr/share/postgresql/15/man/man1/psql.1.gz para disponibilizar /usr/share/man/man1/psql.1.gz (psql.1.gz) em modo auto\n",
    "Configurando libllvm14:amd64 (1:14.0.0-1ubuntu1) ...\n",
    "Configurando libtypes-serialiser-perl (1.01-1) ...\n",
    "Configurando libjson-perl (4.04000-1) ...\n",
    "Configurando sysstat (12.5.2-2ubuntu0.1) ...\n",
    "update-alternatives: a usar /usr/bin/sar.sysstat para disponibilizar /usr/bin/sar (sar) em modo auto\n",
    "Configurando libjson-xs-perl (4.030-1build3) ...\n",
    "Configurando postgresql-common (249.pgdg22.04+1) ...\n",
    "\n",
    "Creating config file /etc/postgresql-common/createcluster.conf with new version\n",
    "Building PostgreSQL dictionaries from installed myspell/hunspell packages...\n",
    "en_au\n",
    "en_ca\n",
    "en_gb\n",
    "en_us\n",
    "en_za\n",
    "pt_br\n",
    "pt_pt\n",
    "Removing obsolete dictionary files:\n",
    "'/etc/apt/trusted.gpg.d/apt.postgresql.org.gpg' -> '/usr/share/postgresql-common/pgdg/apt.postgresql.org.gpg'\n",
    "Created symlink /etc/systemd/system/multi-user.target.wants/postgresql.service → /lib/systemd/system/postgresql.service.\n",
    "Configurando postgresql-15 (15.3-1.pgdg22.04+1) ...\n",
    "Creating new PostgreSQL cluster 15/main ...\n",
    "/usr/lib/postgresql/15/bin/initdb -D /var/lib/postgresql/15/main --auth-local peer --auth-host scram-sha-256 --no-instructions\n",
    "Os arquivos deste sistema de banco de dados pertencerão ao usuário \"postgres\".\n",
    "Esse usuário deve ser o dono do processo do servidor também.\n",
    "\n",
    "O agrupamento de banco de dados será inicializado com configuração regional \"pt_BR.UTF-8\".\n",
    "A codificação padrão do banco de dados foi definida para \"UTF8\".\n",
    "A configuração de busca textual padrão será definida como \"portuguese\".\n",
    "\n",
    "Verificações de páginas de dados estão desabilitadas.\n",
    "\n",
    "alterando permissões no diretório existente /var/lib/postgresql/15/main ... ok\n",
    "criando subdiretórios ... ok\n",
    "selecionando implementação de memória compartilhada dinâmica ... posix\n",
    "selecionando max_connections padrão ... 100\n",
    "selecionando shared_buffers padrão ... 128MB\n",
    "selecionando fuso horário padrão ... America/Manaus\n",
    "criando arquivos de configuração ... ok\n",
    "executando script de inicialização ... ok\n",
    "executando pós-inicialização ... ok\n",
    "sincronizando dados no disco ... ok\n",
    "Configurando postgresql (15+249.pgdg22.04+1) ...\n",
    "A processar 'triggers' para man-db (2.10.2-1) ...\n",
    "A processar 'triggers' para libc-bin (2.35-0ubuntu3.1) ...\n"
   ]
  },
  {
   "cell_type": "code",
   "execution_count": 1,
   "id": "b89350c8",
   "metadata": {},
   "outputs": [
    {
     "name": "stdout",
     "output_type": "stream",
     "text": [
      "pg_config: invalid argument: -\r\n",
      "Try \"pg_config --help\" for more information.\r\n"
     ]
    }
   ],
   "source": [
    "!pg_config - -version\n"
   ]
  },
  {
   "cell_type": "markdown",
   "id": "cbd9d4b5",
   "metadata": {},
   "source": [
    "# Questão 1"
   ]
  },
  {
   "cell_type": "markdown",
   "id": "ae8d1476",
   "metadata": {},
   "source": [
    "Verificar o que eles querem que use para provar e se isso serve"
   ]
  },
  {
   "cell_type": "code",
   "execution_count": 2,
   "id": "2e7a8337",
   "metadata": {},
   "outputs": [
    {
     "name": "stdout",
     "output_type": "stream",
     "text": [
      "psql (PostgreSQL) 15.3 (Ubuntu 15.3-1.pgdg22.04+1)\r\n"
     ]
    }
   ],
   "source": [
    "!psql --version"
   ]
  },
  {
   "cell_type": "markdown",
   "id": "c00d17f4",
   "metadata": {},
   "source": [
    "# Questão 2"
   ]
  },
  {
   "cell_type": "markdown",
   "id": "40eb865b",
   "metadata": {},
   "source": [
    "Preparando"
   ]
  },
  {
   "cell_type": "code",
   "execution_count": 4,
   "id": "17c11d88",
   "metadata": {},
   "outputs": [
    {
     "name": "stdout",
     "output_type": "stream",
     "text": [
      "/app/datadir/tpch-pgsql-master\n"
     ]
    }
   ],
   "source": [
    "%pwd\n",
    "%cd ../datadir/tpch-pgsql-master/"
   ]
  },
  {
   "cell_type": "code",
   "execution_count": 8,
   "id": "d3cc7c98",
   "metadata": {},
   "outputs": [
    {
     "name": "stdout",
     "output_type": "stream",
     "text": [
      "LICENSE    \u001b[0m\u001b[01;34mdocs\u001b[0m/          \u001b[01;34mquery_root\u001b[0m/       \u001b[01;34mtpch-dbgen\u001b[0m/\r\n",
      "Makefile   iceis2012.pdf  requirements.txt  \u001b[01;34mtpch4pgsql\u001b[0m/\r\n",
      "README.md  \u001b[01;34mimages\u001b[0m/        \u001b[01;34mtests\u001b[0m/            \u001b[01;32mtpch_pgsql.py\u001b[0m*\r\n"
     ]
    }
   ],
   "source": [
    "%ls"
   ]
  },
  {
   "cell_type": "code",
   "execution_count": null,
   "id": "d978b0f2",
   "metadata": {},
   "outputs": [],
   "source": [
    "%run tpch_pgsql.py prepare"
   ]
  },
  {
   "cell_type": "markdown",
   "id": "e9d69b9c",
   "metadata": {},
   "source": [
    "Carregando"
   ]
  },
  {
   "cell_type": "code",
   "execution_count": 7,
   "id": "62fd81fa",
   "metadata": {},
   "outputs": [
    {
     "name": "stdout",
     "output_type": "stream",
     "text": [
      "#!/usr/bin/env python3\r\n",
      "\r\n",
      "import argparse\r\n",
      "import os\r\n",
      "import time\r\n",
      "import argparse\r\n",
      "import getpass\r\n",
      "\r\n",
      "from tpch4pgsql import postgresqldb as pgdb, load, query, prepare as prep, result as r\r\n",
      "\r\n",
      "# Constants\r\n",
      "\r\n",
      "# default values for command line arguments:\r\n",
      "DEFAULT_HOST = \"localhost\"\r\n",
      "DEFAULT_PORT = 5432\r\n",
      "DEFAULT_USERNAME = \"postgres\"\r\n",
      "DEFAULT_PASSWORD = \"postgres\"\r\n",
      "DEFAULT_DBNAME = \"tpchdb\"\r\n",
      "DEFAULT_DATA_DIR = os.path.join(\".\", \"data\")\r\n",
      "DEFAULT_QUERY_ROOT = os.path.join(\".\", \"query_root\")\r\n",
      "DEFAULT_DBGEN_DIR = os.path.join(\".\", \"tpch-dbgen\")\r\n",
      "DEFAULT_SCALE = 1.0\r\n",
      "DEFAULT_NUM_STREAMS = 0\r\n",
      "\r\n",
      "# other constants\r\n",
      "LOAD_DIR = \"load\"\r\n",
      "UPDATE_DIR = \"update\"\r\n",
      "DELETE_DIR = \"delete\"\r\n",
      "TEMPLATE_QUERY_DIR = \"perf_query_template\"\r\n",
      "GENERATED_QUERY_DIR = \"perf_query_gen\"\r\n",
      "PREP_QUERY_DIR = \"prep_query\"\r\n",
      "RESULTS_DIR = \"results\"\r\n",
      "TABLES = ['LINEITEM', 'PARTSUPP', 'ORDERS', 'CUSTOMER', 'SUPPLIER', 'NATION', 'REGION', 'PART']\r\n",
      "# End Constants\r\n",
      "\r\n",
      "\r\n",
      "class Password(argparse.Action):\r\n",
      "    \"\"\"Class for handling Passwords in command line arguments\r\n",
      "\r\n",
      "    \"\"\"\r\n",
      "    def __call__(self, parser, namespace, values, option_string):\r\n",
      "        if values is None:\r\n",
      "            values = getpass.getpass()\r\n",
      "        setattr(namespace, self.dest, values)\r\n",
      "\r\n",
      "\r\n",
      "def scale_to_num_streams(scale):\r\n",
      "    \"\"\"Converts scale factor to number of streams as defined in\r\n",
      "    https://github.com/slavong/tpch-pgsql/blob/master/iceis2012.pdf\r\n",
      "    on page 6 in section 3.3.4 Throughput Tests in table 2\r\n",
      "\r\n",
      "    :param scale: scale factor, 1.0 = 1GB\r\n",
      "    :return: number of streams\r\n",
      "    \"\"\"\r\n",
      "    num_streams = 2\r\n",
      "    if scale <= 1:\r\n",
      "        num_streams = 2\r\n",
      "    elif scale <= 10:\r\n",
      "        num_streams = 3\r\n",
      "    elif scale <= 30:\r\n",
      "        num_streams = 4\r\n",
      "    elif scale <= 100:\r\n",
      "        num_streams = 5\r\n",
      "    elif scale <= 300:\r\n",
      "        num_streams = 6\r\n",
      "    elif scale <= 1000:\r\n",
      "        num_streams = 7\r\n",
      "    elif scale <= 3000:\r\n",
      "        num_streams = 8\r\n",
      "    elif scale <= 10000:\r\n",
      "        num_streams = 9\r\n",
      "    elif scale <= 30000:\r\n",
      "        num_streams = 10\r\n",
      "    else:\r\n",
      "        num_streams = 11\r\n",
      "    return num_streams\r\n",
      "\r\n",
      "\r\n",
      "def main(phase, host, port, user, password, database,\r\n",
      "         dbgen_dir, data_dir, query_root,\r\n",
      "         scale, num_streams, verbose, read_only):\r\n",
      "    # TODO: unify doctsring, some is in reStructuredText, some is Google style\r\n",
      "    # TODO: finish sphinx integration\r\n",
      "    \"\"\"Runs main code for three different phases.\r\n",
      "    It expects parsed command line arguments, with default already applied.\r\n",
      "\r\n",
      "    :param phase: prepare, load or query\r\n",
      "    :param host: hostname where the Postgres database is running\r\n",
      "    :param port: port number where the Postgres database is listening\r\n",
      "    :param user: username of the Postgres user with full access to the benchmark DB\r\n",
      "    :param password: password for the Postgres user\r\n",
      "    :param database: database name, where the benchmark will be run\r\n",
      "    :param dbgen_dir: directory where dbgen is to be run\r\n",
      "    :param data_dir: subdirectory with data to be loaded\r\n",
      "    :param query_root: subdirectory with SQL statements\r\n",
      "    :param scale: scale factor, 1.0 = 1GB\r\n",
      "    :param num_streams: number of streams\r\n",
      "    :param verbose: True is more verbose output is required\r\n",
      "    :param read_only: True if no update/delete statements are to be executed during throughput test (query phase)\r\n",
      "    :return: no return value, uses exit(1) if something goes wrong\r\n",
      "    \"\"\"\r\n",
      "    run_timestamp = \"run_%s\" % time.strftime(\"%Y%m%d_%H%M%S\", time.gmtime())\r\n",
      "    if phase == \"prepare\":\r\n",
      "        # try to build dbgen from source and quit if failed\r\n",
      "        if prep.build_dbgen(dbgen_dir):\r\n",
      "            print(\"could not build the dbgen/querygen. Check logs.\")\r\n",
      "            exit(1)\r\n",
      "        print(\"built dbgen from source\")\r\n",
      "        # try to generate data files\r\n",
      "        if prep.generate_data(dbgen_dir, data_dir,\r\n",
      "                              LOAD_DIR, UPDATE_DIR, DELETE_DIR,\r\n",
      "                              scale, num_streams):\r\n",
      "            print(\"could not generate data files.\")\r\n",
      "            exit(1)\r\n",
      "        print(\"created data files in %s\" % data_dir)\r\n",
      "        if prep.generate_queries(dbgen_dir, query_root, TEMPLATE_QUERY_DIR, GENERATED_QUERY_DIR):\r\n",
      "            print(\"could not generate query files\")\r\n",
      "            exit(1)\r\n",
      "        print(\"created query files in %s\" % query_root)\r\n",
      "    elif phase == \"load\":\r\n",
      "        result = r.Result(\"Load\")\r\n",
      "        if load.clean_database(query_root, host, port, database, user, password, TABLES):\r\n",
      "            print(\"could not clean the database.\")\r\n",
      "            exit(1)\r\n",
      "        print(\"cleaned database %s\" % database)\r\n",
      "        result.startTimer()\r\n",
      "        if load.create_schema(query_root, host, port, database, user, password, PREP_QUERY_DIR):\r\n",
      "            print(\"could not create schema.\")\r\n",
      "            exit(1)\r\n",
      "        result.setMetric(\"create_schema: \", result.stopTimer())\r\n",
      "        print(\"done creating schemas\")\r\n",
      "        result.startTimer()\r\n",
      "        if load.load_tables(data_dir, host, port, database, user, password, TABLES, LOAD_DIR):\r\n",
      "            print(\"could not load data to tables\")\r\n",
      "            exit(1)\r\n",
      "        result.setMetric(\"load_data\", result.stopTimer())\r\n",
      "        print(\"done loading data to tables\")\r\n",
      "        result.startTimer()\r\n",
      "        if load.index_tables(query_root, host, port, database, user, password, PREP_QUERY_DIR):\r\n",
      "            print(\"could not create indexes for tables\")\r\n",
      "            exit(1)\r\n",
      "        result.setMetric(\"index_tables\", result.stopTimer())\r\n",
      "        print(\"done creating indexes and foreign keys\")\r\n",
      "        result.printMetrics()\r\n",
      "        result.saveMetrics(RESULTS_DIR, run_timestamp, \"load\")\r\n",
      "    elif phase == \"query\":\r\n",
      "        if query.run_power_test(query_root, data_dir, UPDATE_DIR, DELETE_DIR, GENERATED_QUERY_DIR, RESULTS_DIR,\r\n",
      "                                host, port, database, user, password,\r\n",
      "                                run_timestamp, num_streams, verbose, read_only):\r\n",
      "            print(\"running power tests failed\")\r\n",
      "            exit(1)\r\n",
      "        # Throughput tests\r\n",
      "        if query.run_throughput_test(query_root, data_dir, UPDATE_DIR, DELETE_DIR, GENERATED_QUERY_DIR, RESULTS_DIR,\r\n",
      "                                     host, port, database, user, password,\r\n",
      "                                     run_timestamp, num_streams, verbose, read_only):\r\n",
      "            print(\"running throughput tests failed\")\r\n",
      "            exit(1)\r\n",
      "        print(\"done performance tests\")\r\n",
      "        query.calc_metrics(RESULTS_DIR, run_timestamp, scale, num_streams)\r\n",
      "\r\n",
      "\r\n",
      "if __name__ == \"__main__\":\r\n",
      "    parser = argparse.ArgumentParser(description=\"tpch_pgsql\")\r\n",
      "\r\n",
      "    parser.add_argument(\"phase\", choices=[\"prepare\", \"load\", \"query\"],\r\n",
      "                        help=\"Phase of TPC-H benchmark to run.\")\r\n",
      "    parser.add_argument(\"-H\", \"--host\", default=DEFAULT_HOST,\r\n",
      "                        help=\"Address of host on which PostgreSQL instance runs; default is %s\" % DEFAULT_HOST)\r\n",
      "    parser.add_argument(\"-p\", \"--port\", type=int, default=DEFAULT_PORT,\r\n",
      "                        help=\"Port on which PostgreSQL instance runs; default is %s\" % str(DEFAULT_PORT))\r\n",
      "    parser.add_argument(\"-U\", \"--username\", default=DEFAULT_USERNAME,\r\n",
      "                        help=\"User for the PostgreSQL instance; default is %s\" % DEFAULT_USERNAME)\r\n",
      "    parser.add_argument(\"-W\", \"--password\", nargs='?', default=DEFAULT_PASSWORD, action=Password,\r\n",
      "                        help=\"Password for the PostgreSQL instance; default is %s\" % DEFAULT_PASSWORD)\r\n",
      "    parser.add_argument(\"-d\", \"--dbname\", default=DEFAULT_DBNAME,\r\n",
      "                        help=\"Name of the database; default is %s\" % DEFAULT_DBNAME)\r\n",
      "    parser.add_argument(\"-i\", \"--data-dir\", default=DEFAULT_DATA_DIR,\r\n",
      "                        help=\"Directory for generated data; default is %s\" % DEFAULT_DATA_DIR)\r\n",
      "    parser.add_argument(\"-q\", \"--query-root\", default=DEFAULT_QUERY_ROOT,\r\n",
      "                        help=\"Directory for query files; default is %s\" % DEFAULT_QUERY_ROOT)\r\n",
      "    parser.add_argument(\"-g\", \"--dbgen-dir\", default=DEFAULT_DBGEN_DIR,\r\n",
      "                        help=\"Directory containing tpch dbgen source; default is %s\" % DEFAULT_DBGEN_DIR)\r\n",
      "    parser.add_argument(\"-s\", \"--scale\", type=float, default=DEFAULT_SCALE,\r\n",
      "                        help=\"Size of the data generated, scale factor; default is %s = 1GB\" % DEFAULT_SCALE)\r\n",
      "    parser.add_argument(\"-n\", \"--num-streams\", type=int, default=DEFAULT_NUM_STREAMS,\r\n",
      "                        help=\"Number of streams to run the throughput tests with; default is %s\" % DEFAULT_NUM_STREAMS +\r\n",
      "                             \", i.e. based on scale factor SF\")\r\n",
      "    parser.add_argument(\"-b\", \"--verbose\", action=\"store_true\",\r\n",
      "                        help=\"Print more information to standard output\")\r\n",
      "    parser.add_argument(\"-r\", \"--read-only\", action=\"store_true\",\r\n",
      "                        help=\"Do not execute refresh functions during the query phase, \" +\r\n",
      "                             \"which allows for running it repeatedly\")\r\n",
      "    args = parser.parse_args()\r\n",
      "\r\n",
      "    # Extract all arguments into variables\r\n",
      "    phase = args.phase\r\n",
      "    host = args.host\r\n",
      "    port = args.port\r\n",
      "    database = args.dbname\r\n",
      "    data_dir = args.data_dir\r\n",
      "    query_root = args.query_root\r\n",
      "    dbgen_dir = args.dbgen_dir\r\n",
      "    scale = args.scale\r\n",
      "    num_streams = args.num_streams\r\n",
      "    user = args.username\r\n",
      "    password = args.password\r\n",
      "    verbose = args.verbose\r\n",
      "    read_only = args.read_only\r\n",
      "\r\n",
      "    # if no num_streams was provided, then calculate default based on scale factor\r\n",
      "    if num_streams == 0:\r\n",
      "        num_streams = scale_to_num_streams(scale)\r\n",
      "\r\n",
      "    # main\r\n",
      "    main(phase, host, port, user, password, database, dbgen_dir, data_dir, query_root, scale, num_streams, verbose, read_only)\r\n"
     ]
    }
   ],
   "source": [
    "%cat tpch_pgsql.py"
   ]
  },
  {
   "cell_type": "markdown",
   "id": "28a08cc9",
   "metadata": {},
   "source": [
    "# Questão 3"
   ]
  },
  {
   "cell_type": "markdown",
   "id": "c9d5b1e9",
   "metadata": {},
   "source": [
    "# Questão 4 "
   ]
  },
  {
   "cell_type": "markdown",
   "id": "41af422b",
   "metadata": {},
   "source": [
    "# Questão 5"
   ]
  },
  {
   "cell_type": "markdown",
   "id": "f890ec88",
   "metadata": {},
   "source": [
    "# Questão 6"
   ]
  },
  {
   "cell_type": "markdown",
   "id": "d30daae9",
   "metadata": {},
   "source": [
    "# Questão 7"
   ]
  },
  {
   "cell_type": "markdown",
   "id": "52d3f8d5",
   "metadata": {},
   "source": [
    "# Questão 8"
   ]
  },
  {
   "cell_type": "markdown",
   "id": "17518b3d",
   "metadata": {},
   "source": [
    "# Questão 9"
   ]
  },
  {
   "cell_type": "code",
   "execution_count": null,
   "id": "831237e6",
   "metadata": {},
   "outputs": [],
   "source": []
  }
 ],
 "metadata": {
  "kernelspec": {
   "display_name": "Python 3 (ipykernel)",
   "language": "python",
   "name": "python3"
  },
  "language_info": {
   "codemirror_mode": {
    "name": "ipython",
    "version": 3
   },
   "file_extension": ".py",
   "mimetype": "text/x-python",
   "name": "python",
   "nbconvert_exporter": "python",
   "pygments_lexer": "ipython3",
   "version": "3.10.6"
  }
 },
 "nbformat": 4,
 "nbformat_minor": 5
}
