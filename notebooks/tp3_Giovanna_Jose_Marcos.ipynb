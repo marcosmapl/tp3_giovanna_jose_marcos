{
 "cells": [
  {
   "cell_type": "markdown",
   "id": "f1440d2d",
   "metadata": {},
   "source": [
    "# Trabalho prático 3 - Banco de Dados I\n",
    "\n",
    "> Giovanna Andrade Santos - 22052563  \n",
    "> José Mateus Córdova Rodrigues -  \n",
    "> Marcos Avner Pimenta de Lima - 21852448\n"
   ]
  },
  {
   "cell_type": "markdown",
   "id": "e82806da",
   "metadata": {},
   "source": [
    "### Tarefa 1 - Instalação do PostgreSQL\n"
   ]
  },
  {
   "cell_type": "markdown",
   "id": "c7a448e9",
   "metadata": {},
   "source": [
    "Lendo listas de pacotes... Pronto\n",
    "Construindo árvore de dependências... Pronto\n",
    "Lendo informação de estado... Pronto  \n",
    "Os pacotes adicionais seguintes serão instalados:\n",
    "libcommon-sense-perl libjson-perl libjson-xs-perl libllvm14 libpq5\n",
    "libtypes-serialiser-perl postgresql-15 postgresql-client-15\n",
    "postgresql-client-common postgresql-common sysstat\n",
    "Pacotes sugeridos:\n",
    "postgresql-doc postgresql-doc-15 isag\n",
    "Os NOVOS pacotes a seguir serão instalados:\n",
    "libcommon-sense-perl libjson-perl libjson-xs-perl libllvm14 libpq5\n",
    "libtypes-serialiser-perl postgresql postgresql-15 postgresql-client-15\n",
    "postgresql-client-common postgresql-common sysstat\n",
    "0 pacotes atualizados, 12 pacotes novos instalados, 0 a serem removidos e 47 não atualizados.\n",
    "É preciso baixar 43,9 MB de arquivos.\n",
    "Depois desta operação, 175 MB adicionais de espaço em disco serão usados.\n",
    "Obter:1 http://br.archive.ubuntu.com/ubuntu jammy/main amd64 libjson-perl all 4.04000-1 [81,8 kB]\n",
    "Obter:2 http://br.archive.ubuntu.com/ubuntu jammy/main amd64 libcommon-sense-perl amd64 3.75-2build1 [21,1 kB]\n",
    "Obter:3 http://br.archive.ubuntu.com/ubuntu jammy/main amd64 libtypes-serialiser-perl all 1.01-1 [11,6 kB]\n",
    "Obter:4 http://br.archive.ubuntu.com/ubuntu jammy/main amd64 libjson-xs-perl amd64 4.030-1build3 [87,2 kB]\n",
    "Obter:5 http://apt.postgresql.org/pub/repos/apt jammy-pgdg/main amd64 postgresql-client-common all 249.pgdg22.04+1 [93,2 kB]\n",
    "Obter:6 http://br.archive.ubuntu.com/ubuntu jammy/main amd64 libllvm14 amd64 1:14.0.0-1ubuntu1 [24,0 MB]\n",
    "Obter:7 http://apt.postgresql.org/pub/repos/apt jammy-pgdg/main amd64 postgresql-common all 249.pgdg22.04+1 [239 kB]\n",
    "Obter:8 http://apt.postgresql.org/pub/repos/apt jammy-pgdg/main amd64 libpq5 amd64 15.3-1.pgdg22.04+1 [184 kB]\n",
    "Obter:9 http://apt.postgresql.org/pub/repos/apt jammy-pgdg/main amd64 postgresql-client-15 amd64 15.3-1.pgdg22.04+1 [1.679 kB]\n",
    "Obter:10 http://apt.postgresql.org/pub/repos/apt jammy-pgdg/main amd64 postgresql-15 amd64 15.3-1.pgdg22.04+1 [16,9 MB]\n",
    "Obter:11 http://br.archive.ubuntu.com/ubuntu jammy-updates/main amd64 sysstat amd64 12.5.2-2ubuntu0.1 [487 kB]\n",
    "Obter:12 http://apt.postgresql.org/pub/repos/apt jammy-pgdg/main amd64 postgresql all 15+249.pgdg22.04+1 [68,1 kB]\n",
    "Baixados 43,9 MB em 2min 26s (301 kB/s)  \n",
    "Pré-configurando pacotes ...\n",
    "A seleccionar pacote anteriormente não seleccionado libjson-perl.\n",
    "(Lendo banco de dados ... 280603 ficheiros e directórios actualmente instalados.)\n",
    "A preparar para desempacotar .../00-libjson-perl_4.04000-1_all.deb ...\n",
    "A descompactar libjson-perl (4.04000-1) ...\n",
    "A seleccionar pacote anteriormente não seleccionado postgresql-client-common.\n",
    "A preparar para desempacotar .../01-postgresql-client-common_249.pgdg22.04+1_all.deb ...\n",
    "A descompactar postgresql-client-common (249.pgdg22.04+1) ...\n",
    "A seleccionar pacote anteriormente não seleccionado postgresql-common.\n",
    "A preparar para desempacotar .../02-postgresql-common_249.pgdg22.04+1_all.deb ...\n",
    "A acrescentar 'desvio de /usr/bin/pg_config para /usr/bin/pg_config.libpq-dev por postgresql-common'\n",
    "A descompactar postgresql-common (249.pgdg22.04+1) ...\n",
    "A seleccionar pacote anteriormente não seleccionado libcommon-sense-perl:amd64.\n",
    "A preparar para desempacotar .../03-libcommon-sense-perl_3.75-2build1_amd64.deb ...\n",
    "A descompactar libcommon-sense-perl:amd64 (3.75-2build1) ...\n",
    "A seleccionar pacote anteriormente não seleccionado libtypes-serialiser-perl.\n",
    "A preparar para desempacotar .../04-libtypes-serialiser-perl_1.01-1_all.deb ...\n",
    "A descompactar libtypes-serialiser-perl (1.01-1) ...\n",
    "A seleccionar pacote anteriormente não seleccionado libjson-xs-perl.\n",
    "A preparar para desempacotar .../05-libjson-xs-perl_4.030-1build3_amd64.deb ...\n",
    "A descompactar libjson-xs-perl (4.030-1build3) ...\n",
    "A seleccionar pacote anteriormente não seleccionado libllvm14:amd64.\n",
    "A preparar para desempacotar .../06-libllvm14_1%3a14.0.0-1ubuntu1_amd64.deb ...\n",
    "A descompactar libllvm14:amd64 (1:14.0.0-1ubuntu1) ...\n",
    "A seleccionar pacote anteriormente não seleccionado libpq5:amd64.\n",
    "A preparar para desempacotar .../07-libpq5_15.3-1.pgdg22.04+1_amd64.deb ...\n",
    "A descompactar libpq5:amd64 (15.3-1.pgdg22.04+1) ...\n",
    "A seleccionar pacote anteriormente não seleccionado postgresql-client-15.\n",
    "A preparar para desempacotar .../08-postgresql-client-15_15.3-1.pgdg22.04+1_amd64.deb ...\n",
    "A descompactar postgresql-client-15 (15.3-1.pgdg22.04+1) ...\n",
    "A seleccionar pacote anteriormente não seleccionado postgresql-15.\n",
    "A preparar para desempacotar .../09-postgresql-15_15.3-1.pgdg22.04+1_amd64.deb ...\n",
    "A descompactar postgresql-15 (15.3-1.pgdg22.04+1) ...\n",
    "A seleccionar pacote anteriormente não seleccionado postgresql.\n",
    "A preparar para desempacotar .../10-postgresql_15+249.pgdg22.04+1_all.deb ...\n",
    "A descompactar postgresql (15+249.pgdg22.04+1) ...\n",
    "A seleccionar pacote anteriormente não seleccionado sysstat.\n",
    "A preparar para desempacotar .../11-sysstat_12.5.2-2ubuntu0.1_amd64.deb ...\n",
    "A descompactar sysstat (12.5.2-2ubuntu0.1) ...\n",
    "Configurando postgresql-client-common (249.pgdg22.04+1) ...\n",
    "Configurando libpq5:amd64 (15.3-1.pgdg22.04+1) ...\n",
    "Configurando libcommon-sense-perl:amd64 (3.75-2build1) ...\n",
    "Configurando postgresql-client-15 (15.3-1.pgdg22.04+1) ...\n",
    "update-alternatives: a usar /usr/share/postgresql/15/man/man1/psql.1.gz para disponibilizar /usr/share/man/man1/psql.1.gz (psql.1.gz) em modo auto\n",
    "Configurando libllvm14:amd64 (1:14.0.0-1ubuntu1) ...\n",
    "Configurando libtypes-serialiser-perl (1.01-1) ...\n",
    "Configurando libjson-perl (4.04000-1) ...\n",
    "Configurando sysstat (12.5.2-2ubuntu0.1) ...\n",
    "update-alternatives: a usar /usr/bin/sar.sysstat para disponibilizar /usr/bin/sar (sar) em modo auto\n",
    "Configurando libjson-xs-perl (4.030-1build3) ...\n",
    "Configurando postgresql-common (249.pgdg22.04+1) ...\n",
    "\n",
    "Creating config file /etc/postgresql-common/createcluster.conf with new version\n",
    "Building PostgreSQL dictionaries from installed myspell/hunspell packages...\n",
    "en_au\n",
    "en_ca\n",
    "en_gb\n",
    "en_us\n",
    "en_za\n",
    "pt_br\n",
    "pt_pt\n",
    "Removing obsolete dictionary files:\n",
    "'/etc/apt/trusted.gpg.d/apt.postgresql.org.gpg' -> '/usr/share/postgresql-common/pgdg/apt.postgresql.org.gpg'\n",
    "Created symlink /etc/systemd/system/multi-user.target.wants/postgresql.service → /lib/systemd/system/postgresql.service.\n",
    "Configurando postgresql-15 (15.3-1.pgdg22.04+1) ...\n",
    "Creating new PostgreSQL cluster 15/main ...\n",
    "/usr/lib/postgresql/15/bin/initdb -D /var/lib/postgresql/15/main --auth-local peer --auth-host scram-sha-256 --no-instructions\n",
    "Os arquivos deste sistema de banco de dados pertencerão ao usuário \"postgres\".\n",
    "Esse usuário deve ser o dono do processo do servidor também.\n",
    "\n",
    "O agrupamento de banco de dados será inicializado com configuração regional \"pt_BR.UTF-8\".\n",
    "A codificação padrão do banco de dados foi definida para \"UTF8\".\n",
    "A configuração de busca textual padrão será definida como \"portuguese\".\n",
    "\n",
    "Verificações de páginas de dados estão desabilitadas.\n",
    "\n",
    "alterando permissões no diretório existente /var/lib/postgresql/15/main ... ok\n",
    "criando subdiretórios ... ok\n",
    "selecionando implementação de memória compartilhada dinâmica ... posix\n",
    "selecionando max_connections padrão ... 100\n",
    "selecionando shared_buffers padrão ... 128MB\n",
    "selecionando fuso horário padrão ... America/Manaus\n",
    "criando arquivos de configuração ... ok\n",
    "executando script de inicialização ... ok\n",
    "executando pós-inicialização ... ok\n",
    "sincronizando dados no disco ... ok\n",
    "Configurando postgresql (15+249.pgdg22.04+1) ...\n",
    "A processar 'triggers' para man-db (2.10.2-1) ...\n",
    "A processar 'triggers' para libc-bin (2.35-0ubuntu3.1) ...\n"
   ]
  },
  {
   "cell_type": "code",
   "execution_count": 2,
   "id": "b89350c8",
   "metadata": {},
   "outputs": [
    {
     "name": "stdout",
     "output_type": "stream",
     "text": [
      "pg_config: invalid argument: -\r\n",
      "Try \"pg_config --help\" for more information.\r\n"
     ]
    }
   ],
   "source": [
    "!pg_config - -version"
   ]
  },
  {
   "cell_type": "markdown",
   "id": "995cb720",
   "metadata": {},
   "source": [
    "# Questão 1"
   ]
  },
  {
   "cell_type": "markdown",
   "id": "71d02ff5",
   "metadata": {},
   "source": [
    "Verificar o que eles querem que use para provar e se isso serve"
   ]
  },
  {
   "cell_type": "code",
   "execution_count": 3,
   "id": "162088e7",
   "metadata": {},
   "outputs": [
    {
     "name": "stdout",
     "output_type": "stream",
     "text": [
      "psql (PostgreSQL) 15.3 (Ubuntu 15.3-1.pgdg22.04+1)\r\n"
     ]
    }
   ],
   "source": [
    "!psql --version"
   ]
  },
  {
   "cell_type": "markdown",
   "id": "03498371",
   "metadata": {},
   "source": [
    "# Questão 2"
   ]
  },
  {
   "cell_type": "markdown",
   "id": "fd64e9fd",
   "metadata": {},
   "source": [
    "Preparando"
   ]
  },
  {
   "cell_type": "code",
   "execution_count": 4,
   "id": "9c6b9cdd",
   "metadata": {},
   "outputs": [
    {
     "name": "stdout",
     "output_type": "stream",
     "text": [
      "/app/datadir/tpch-pgsql-master\n"
     ]
    }
   ],
   "source": [
    "%pwd\n",
    "%cd ../datadir/tpch-pgsql-master/"
   ]
  },
  {
   "cell_type": "code",
   "execution_count": 6,
   "id": "be1d1361",
   "metadata": {},
   "outputs": [
    {
     "name": "stdout",
     "output_type": "stream",
     "text": [
      "LICENSE    data\t\t  images\t    results\ttpch_pgsql.py\r\n",
      "Makefile   docs\t\t  query_root\t    tests\r\n",
      "README.md  iceis2012.pdf  requirements.txt  tpch4pgsql\r\n",
      "/app/datadir/tpch-pgsql-master\r\n"
     ]
    }
   ],
   "source": [
    "!ls && pwd"
   ]
  },
  {
   "cell_type": "code",
   "execution_count": 7,
   "id": "01ea1b46",
   "metadata": {},
   "outputs": [],
   "source": [
    "#!apt install unzip\n",
    "!wget -q https://github.com/electrum/tpch-dbgen/archive/32f1c1b92d1664dba542e927d23d86ffa57aa253.zip -O tpch-dbgen.zip \n",
    "!unzip -q tpch-dbgen.zip \n",
    "!mv tpch-dbgen-32f1c1b92d1664dba542e927d23d86ffa57aa253 tpch-dbgen\n",
    "!rm tpch-dbgen.zip"
   ]
  },
  {
   "cell_type": "code",
   "execution_count": 14,
   "id": "6dc78c0f",
   "metadata": {},
   "outputs": [
    {
     "name": "stdout",
     "output_type": "stream",
     "text": [
      "LICENSE    \u001b[0m\u001b[01;34mdata\u001b[0m/          \u001b[01;34mimages\u001b[0m/           \u001b[01;34mresults\u001b[0m/     \u001b[01;34mtpch4pgsql\u001b[0m/\r\n",
      "Makefile   \u001b[01;34mdocs\u001b[0m/          \u001b[01;34mquery_root\u001b[0m/       \u001b[01;34mtests\u001b[0m/       \u001b[01;32mtpch_pgsql.py\u001b[0m*\r\n",
      "README.md  iceis2012.pdf  requirements.txt  \u001b[01;34mtpch-dbgen\u001b[0m/\r\n"
     ]
    }
   ],
   "source": [
    "%ls"
   ]
  },
  {
   "cell_type": "code",
   "execution_count": 9,
   "id": "df54dd2f",
   "metadata": {},
   "outputs": [
    {
     "name": "stdout",
     "output_type": "stream",
     "text": [
      "gcc -g -DDBNAME=\\\"dss\\\" -DLINUX -DORACLE -DTPCH -DRNG_TEST -D_FILE_OFFSET_BITS=64   -c -o build.o build.c\n",
      "gcc -g -DDBNAME=\\\"dss\\\" -DLINUX -DORACLE -DTPCH -DRNG_TEST -D_FILE_OFFSET_BITS=64   -c -o driver.o driver.c\n",
      "gcc -g -DDBNAME=\\\"dss\\\" -DLINUX -DORACLE -DTPCH -DRNG_TEST -D_FILE_OFFSET_BITS=64   -c -o bm_utils.o bm_utils.c\n",
      "gcc -g -DDBNAME=\\\"dss\\\" -DLINUX -DORACLE -DTPCH -DRNG_TEST -D_FILE_OFFSET_BITS=64   -c -o rnd.o rnd.c\n"
     ]
    },
    {
     "name": "stderr",
     "output_type": "stream",
     "text": [
      "driver.c: In function ‘gen_tbl’:\n",
      "driver.c:368:62: warning: format ‘%ld’ expects argument of type ‘long int’, but argument 3 has type ‘long long int’ [-Wformat=]\n",
      "  368 |                         printf(\"\\nSeeds for %s at rowcount %ld\\n\", tdefs[tnum].comment, i);\n",
      "      |                                                            ~~^                          ~\n",
      "      |                                                              |                          |\n",
      "      |                                                              long int                   long long int\n",
      "      |                                                            %lld\n",
      "bm_utils.c: In function ‘tbl_open’:\n",
      "bm_utils.c:404:51: warning: ‘%s’ directive writing up to 255 bytes into a region of size 231 [-Wformat-overflow=]\n",
      "  404 |         sprintf(prompt, \"Do you want to overwrite %s ?\", fullpath);\n",
      "      |                                                   ^~     ~~~~~~~~\n",
      "bm_utils.c:404:9: note: ‘sprintf’ output between 28 and 283 bytes into a destination of size 256\n",
      "  404 |         sprintf(prompt, \"Do you want to overwrite %s ?\", fullpath);\n",
      "      |         ^~~~~~~~~~~~~~~~~~~~~~~~~~~~~~~~~~~~~~~~~~~~~~~~~~~~~~~~~~\n",
      "rnd.c: In function ‘row_stop’:\n",
      "rnd.c:131:84: warning: format ‘%ld’ expects argument of type ‘long int’, but argument 4 has type ‘long long int’ [-Wformat=]\n",
      "  131 |                                 fprintf(stderr, \"\\nSEED CHANGE: seed[%d].usage = %ld\\n\",\n",
      "      |                                                                                  ~~^\n",
      "      |                                                                                    |\n",
      "      |                                                                                    long int\n",
      "      |                                                                                  %lld\n",
      "  132 |                                         i, Seed[i].usage);\n",
      "      |                                            ~~~~~~~~~~~~~                            \n",
      "      |                                                   |\n",
      "      |                                                   long long int\n",
      "rnd.c: In function ‘dump_seeds’:\n",
      "rnd.c:154:38: warning: format ‘%ld’ expects argument of type ‘long int’, but argument 3 has type ‘long long int’ [-Wformat=]\n",
      "  154 |                         printf(\"%d(%ld):\\t%ld\\n\", i, Seed[i].nCalls, Seed[i].value);\n",
      "      |                                    ~~^               ~~~~~~~~~~~~~~\n",
      "      |                                      |                      |\n",
      "      |                                      long int               long long int\n",
      "      |                                    %lld\n",
      "rnd.c:154:45: warning: format ‘%ld’ expects argument of type ‘long int’, but argument 4 has type ‘long long int’ [-Wformat=]\n",
      "  154 |                         printf(\"%d(%ld):\\t%ld\\n\", i, Seed[i].nCalls, Seed[i].value);\n",
      "      |                                           ~~^                        ~~~~~~~~~~~~~\n",
      "      |                                             |                               |\n",
      "      |                                             long int                        long long int\n",
      "      |                                           %lld\n"
     ]
    },
    {
     "name": "stdout",
     "output_type": "stream",
     "text": [
      "gcc -g -DDBNAME=\\\"dss\\\" -DLINUX -DORACLE -DTPCH -DRNG_TEST -D_FILE_OFFSET_BITS=64   -c -o print.o print.c\n",
      "gcc -g -DDBNAME=\\\"dss\\\" -DLINUX -DORACLE -DTPCH -DRNG_TEST -D_FILE_OFFSET_BITS=64   -c -o load_stub.o load_stub.c\n",
      "gcc -g -DDBNAME=\\\"dss\\\" -DLINUX -DORACLE -DTPCH -DRNG_TEST -D_FILE_OFFSET_BITS=64   -c -o bcd2.o bcd2.c\n",
      "gcc -g -DDBNAME=\\\"dss\\\" -DLINUX -DORACLE -DTPCH -DRNG_TEST -D_FILE_OFFSET_BITS=64   -c -o speed_seed.o speed_seed.c\n",
      "gcc -g -DDBNAME=\\\"dss\\\" -DLINUX -DORACLE -DTPCH -DRNG_TEST -D_FILE_OFFSET_BITS=64   -c -o text.o text.c\n",
      "gcc -g -DDBNAME=\\\"dss\\\" -DLINUX -DORACLE -DTPCH -DRNG_TEST -D_FILE_OFFSET_BITS=64   -c -o permute.o permute.c\n",
      "gcc -g -DDBNAME=\\\"dss\\\" -DLINUX -DORACLE -DTPCH -DRNG_TEST -D_FILE_OFFSET_BITS=64   -c -o rng64.o rng64.c\n",
      "gcc -g -DDBNAME=\\\"dss\\\" -DLINUX -DORACLE -DTPCH -DRNG_TEST -D_FILE_OFFSET_BITS=64 -O -o dbgen build.o driver.o bm_utils.o rnd.o print.o load_stub.o bcd2.o speed_seed.o text.o permute.o rng64.o -lm\n",
      "gcc -g -DDBNAME=\\\"dss\\\" -DLINUX -DORACLE -DTPCH -DRNG_TEST -D_FILE_OFFSET_BITS=64   -c -o qgen.o qgen.c\n",
      "gcc -g -DDBNAME=\\\"dss\\\" -DLINUX -DORACLE -DTPCH -DRNG_TEST -D_FILE_OFFSET_BITS=64   -c -o varsub.o varsub.c\n",
      "gcc -g -DDBNAME=\\\"dss\\\" -DLINUX -DORACLE -DTPCH -DRNG_TEST -D_FILE_OFFSET_BITS=64 -O -o qgen build.o bm_utils.o qgen.o rnd.o varsub.o text.o bcd2.o permute.o speed_seed.o rng64.o -lm\n",
      "built dbgen from source\n"
     ]
    },
    {
     "name": "stderr",
     "output_type": "stream",
     "text": [
      "In file included from qgen.c:41:\n",
      "qgen.c: In function ‘qsub’:\n",
      "tpcd.h:76:19: warning: zero-length gnu_printf format string [-Wformat-zero-length]\n",
      "   76 | #define SET_DBASE \"\"\n",
      "      |                   ^~\n",
      "qgen.c:197:38: note: in expansion of macro ‘SET_DBASE’\n",
      "  197 |                         fprintf(ofp, SET_DBASE, db_name);\n",
      "      |                                      ^~~~~~~~~\n",
      "TPC-H Population Generator (Version 2.14.0)\n",
      "Copyright Transaction Processing Performance Council 1994 - 2010\n",
      "Generating data for suppliers table\n",
      "Preloading text ...                                                                                                                                                                                                                                                                                                              1 1 1 1 1 1 1 1 1 1 1 1 1 1 1 1 1 1 1 1 1 1 1 1 1 1 1 1 1 1 1 1 1 1 1 1 1 1 1 1 1 1 1 1 1 1 1 1 1 1 1 1 1 1 1 1 1 1 1 1 1 1 1 1 1 1 1 1 1 1 1 1 1 1 1 1 1 1 1 1 1 1 1 1 1 1 1 1 1 1 1 1 1 1 1 1 1 1 1 1 1 1 1 1 1 1 1 1 1 1 1 1 1 1 1 1 1 1 1 1 1 1 1 1 1 1 1 1 1 1 1 1 1 1 1 1 1 1 1 1 1 1 1 1 1 1 1 1 1 1 1 1 1 1 1 1 1 2 2 2 2 2 2 2 2 2 2 2 2 2 2 2 2 2 2 2 2 2 2 2 2 2 2 2 2 2 2 2 2 2 2 2 2 2 2 2 2 2 2 2 2 2 2 2 2 2 2 2 2 2 2 2 2 2 2 2 2 2 2 2 2 2 2 2 2 2 2 2 2 2 2 2 2 2 2 2 2 2 2 2 2 2 2 2 2 2 2 2 2 2 2 2 2 2 2 2 2 2 2 2 2 2 2 2 2 2 2 2 2 2 2 2 2 2 2 2 2 2 2 2 2 2 2 2 2 2 2 2 2 2 2 2 2 2 2 2 2 2 2 2 2 2 2 2 2 2 2 2 2 2 2 2 2 2 3 3 3 3 3 3 3 3 3 3 3 3 3 3 3 3 3 3 3 3 3 3 3 3 3 3 3 3 3 3 3 3 3 3 3 3 3 3 3 3 3 3 3 3 3 3 3 3 3 3 3 3 3 3 3 3 3 3 3 3 3 3 3 3 3 3 3 3 3 3 3 3 3 3 3 3 3 3 3 3 3 3 3 3 3 3 3 3 3 3 3 3 3 3 3 3 3 3 3 3 3 3 3 3 3 3 3 3 3 3 3 3 3 3 3 3 3 3 3 3 3 3 3 3 3 3 3 3 3 3 3 3 3 3 3 3 3 3 3 3 3 3 3 3 3 3 3 3 3 3 3 3 3 3 3 3 3 3 4 4 4 4 4 4 4 4 4 4 4 4 4 4 4 4 4 4 4 4 4 4 4 4 4 4 4 4 4 4 4 4 4 4 4 4 4 4 4 4 4 4 4 4 4 4 4 4 4 4 4 4 4 4 4 4 4 4 4 4 4 4 4 4 4 4 4 4 4 4 4 4 4 4 4 4 4 4 4 4 4 4 4 4 4 4 4 4 4 4 4 4 4 4 4 4 4 4 4 4 4 4 4 4 4 4 4 4 4 4 4 4 4 4 4 4 4 4 4 4 4 4 4 4 4 4 4 4 4 4 4 4 4 4 4 4 4 4 4 4 4 4 4 4 4 4 4 4 4 4 4 4 4 4 4 4 4 5 5 5 5 5 5 5 5 5 5 5 5 5 5 5 5 5 5 5 5 5 5 5 5 5 5 5 5 5 5 5 5 5 5 5 5 5 5 5 5 5 5 5 5 5 5 5 5 5 5 5 5 5 5 5 5 5 5 5 5 5 5 5 5 5 5 5 5 5 5 5 5 5 5 5 5 5 5 5 5 5 5 5 5 5 5 5 5 5 5 5 5 5 5 5 5 5 5 5 5 5 5 5 5 5 5 5 5 5 5 5 5 5 5 5 5 5 5 5 5 5 5 5 5 5 5 5 5 5 5 5 5 5 5 5 5 5 5 5 5 5 5 5 5 5 5 5 5 5 5 5 5 5 5 5 5 5 6 6 6 6 6 6 6 6 6 6 6 6 6 6 6 6 6 6 6 6 6 6 6 6 6 6 6 6 6 6 6 6 6 6 6 6 6 6 6 6 6 6 6 6 6 6 6 6 6 6 6 6 6 6 6 6 6 6 6 6 6 6 6 6 6 6 6 6 6 6 6 6 6 6 6 6 6 6 6 6 6 6 6 6 6 6 6 6 6 6 6 6 6 6 6 6 6 6 6 6 6 6 6 6 6 6 6 6 6 6 6 6 6 6 6 6 6 6 6 6 6 6 6 6 6 6 6 6 6 6 6 6 6 6 6 6 6 6 6 6 6 6 6 6 6 6 6 6 6 6 6 6 6 6 6 6 6 6 7 7 7 7 7 7 7 7 7 7 7 7 7 7 7 7 7 7 7 7 7 7 7 7 7 7 7 7 7 7 7 7 7 7 7 7 7 7 7 7 7 7 7 7 7 7 7 7 7 7 7 7 7 7 7 7 7 7 7 7 7 7 7 7 7 7 7 7 7 7 7 7 7 7 7 7 7 7 7 7 7 7 7 7 7 7 7 7 7 7 7 7 7 7 7 7 7 7 7 7 7 7 7 7 7 7 7 7 7 7 7 7 7 7 7 7 7 7 7 7 7 7 7 7 7 7 7 7 7 7 7 7 7 7 7 7 7 7 7 7 7 7 7 7 7 7 7 7 7 7 7 7 7 7 7 7 7 8 8 8 8 8 8 8 8 8 8 8 8 8 8 8 8 8 8 8 8 8 8 8 8 8 8 8 8 8 8 8 8 8 8 8 8 8 8 8 8 8 8 8 8 8 8 8 8 8 8 8 8 8 8 8 8 8 8 8 8 8 8 8 8 8 8 8 8 8 8 8 8 8 8 8 8 8 8 8 8 8 8 8 8 8 8 8 8 8 8 8 8 8 8 8 8 8 8 8 8 8 8 8 8 8 8 8 8 8 8 8 8 8 8 8 8 8 8 8 8 8 8 8 8 8 8 8 8 8 8 8 8 8 8 8 8 8 8 8 8 8 8 8 8 8 8 8 8 8 8 8 8 8 8 8 8 8 9 9 9 9 9 9 9 9 9 9 9 9 9 9 9 9 9 9 9 9 9 9 9 9 9 9 9 9 9 9 9 9 9 9 9 9 9 9 9 9 9 9 9 9 9 9 9 9 9 9 9 9 9 9 9 9 9 9 9 9 9 9 9 9 9 9 9 9 9 9 9 9 9 9 9 9 9 9 9 9 9 9 9 9 9 9 9 9 9 9 9 9 9 9 9 9 9 9 9 9 9 9 9 9 9 9 9 9 9 9 9 9 9 9 9 9 9 9 9 9 9 9 9 9 9 9 9 9 9 9 9 9 9 9 9 9 9 9 9 9 9 9 9 9 9 9 9 9 9 9 9 9 9 9 9 9 91010101010101010\n",
      "done.\n",
      "Generating data for customers tabledone.\n",
      "Generating data for orders/lineitem tablesdone.\n",
      "Generating data for part/partsupplier tablesdone.\n",
      "Generating data for nation tabledone.\n",
      "Generating data for region tabledone.\n"
     ]
    },
    {
     "name": "stdout",
     "output_type": "stream",
     "text": [
      "generated data for the load phase\n"
     ]
    },
    {
     "name": "stderr",
     "output_type": "stream",
     "text": [
      "TPC-H Population Generator (Version 2.14.0)\n",
      "Copyright Transaction Processing Performance Council 1994 - 2010\n",
      "Generating update pair #1 for orders/lineitem tables\n",
      "Preloading text ...                                                                                                                                                                                                                                                                                                              1 1 1 1 1 1 1 1 1 1 1 1 1 1 1 1 1 1 1 1 1 1 1 1 1 1 1 1 1 1 1 1 1 1 1 1 1 1 1 1 1 1 1 1 1 1 1 1 1 1 1 1 1 1 1 1 1 1 1 1 1 1 1 1 1 1 1 1 1 1 1 1 1 1 1 1 1 1 1 1 1 1 1 1 1 1 1 1 1 1 1 1 1 1 1 1 1 1 1 1 1 1 1 1 1 1 1 1 1 1 1 1 1 1 1 1 1 1 1 1 1 1 1 1 1 1 1 1 1 1 1 1 1 1 1 1 1 1 1 1 1 1 1 1 1 1 1 1 1 1 1 1 1 1 1 1 1 2 2 2 2 2 2 2 2 2 2 2 2 2 2 2 2 2 2 2 2 2 2 2 2 2 2 2 2 2 2 2 2 2 2 2 2 2 2 2 2 2 2 2 2 2 2 2 2 2 2 2 2 2 2 2 2 2 2 2 2 2 2 2 2 2 2 2 2 2 2 2 2 2 2 2 2 2 2 2 2 2 2 2 2 2 2 2 2 2 2 2 2 2 2 2 2 2 2 2 2 2 2 2 2 2 2 2 2 2 2 2 2 2 2 2 2 2 2 2 2 2 2 2 2 2 2 2 2 2 2 2 2 2 2 2 2 2 2 2 2 2 2 2 2 2 2 2 2 2 2 2 2 2 2 2 2 2 3 3 3 3 3 3 3 3 3 3 3 3 3 3 3 3 3 3 3 3 3 3 3 3 3 3 3 3 3 3 3 3 3 3 3 3 3 3 3 3 3 3 3 3 3 3 3 3 3 3 3 3 3 3 3 3 3 3 3 3 3 3 3 3 3 3 3 3 3 3 3 3 3 3 3 3 3 3 3 3 3 3 3 3 3 3 3 3 3 3 3 3 3 3 3 3 3 3 3 3 3 3 3 3 3 3 3 3 3 3 3 3 3 3 3 3 3 3 3 3 3 3 3 3 3 3 3 3 3 3 3 3 3 3 3 3 3 3 3 3 3 3 3 3 3 3 3 3 3 3 3 3 3 3 3 3 3 3 4 4 4 4 4 4 4 4 4 4 4 4 4 4 4 4 4 4 4 4 4 4 4 4 4 4 4 4 4 4 4 4 4 4 4 4 4 4 4 4 4 4 4 4 4 4 4 4 4 4 4 4 4 4 4 4 4 4 4 4 4 4 4 4 4 4 4 4 4 4 4 4 4 4 4 4 4 4 4 4 4 4 4 4 4 4 4 4 4 4 4 4 4 4 4 4 4 4 4 4 4 4 4 4 4 4 4 4 4 4 4 4 4 4 4 4 4 4 4 4 4 4 4 4 4 4 4 4 4 4 4 4 4 4 4 4 4 4 4 4 4 4 4 4 4 4 4 4 4 4 4 4 4 4 4 4 4 5 5 5 5 5 5 5 5 5 5 5 5 5 5 5 5 5 5 5 5 5 5 5 5 5 5 5 5 5 5 5 5 5 5 5 5 5 5 5 5 5 5 5 5 5 5 5 5 5 5 5 5 5 5 5 5 5 5 5 5 5 5 5 5 5 5 5 5 5 5 5 5 5 5 5 5 5 5 5 5 5 5 5 5 5 5 5 5 5 5 5 5 5 5 5 5 5 5 5 5 5 5 5 5 5 5 5 5 5 5 5 5 5 5 5 5 5 5 5 5 5 5 5 5 5 5 5 5 5 5 5 5 5 5 5 5 5 5 5 5 5 5 5 5 5 5 5 5 5 5 5 5 5 5 5 5 5 6 6 6 6 6 6 6 6 6 6 6 6 6 6 6 6 6 6 6 6 6 6 6 6 6 6 6 6 6 6 6 6 6 6 6 6 6 6 6 6 6 6 6 6 6 6 6 6 6 6 6 6 6 6 6 6 6 6 6 6 6 6 6 6 6 6 6 6 6 6 6 6 6 6 6 6 6 6 6 6 6 6 6 6 6 6 6 6 6 6 6 6 6 6 6 6 6 6 6 6 6 6 6 6 6 6 6 6 6 6 6 6 6 6 6 6 6 6 6 6 6 6 6 6 6 6 6 6 6 6 6 6 6 6 6 6 6 6 6 6 6 6 6 6 6 6 6 6 6 6 6 6 6 6 6 6 6 6 7 7 7 7 7 7 7 7 7 7 7 7 7 7 7 7 7 7 7 7 7 7 7 7 7 7 7 7 7 7 7 7 7 7 7 7 7 7 7 7 7 7 7 7 7 7 7 7 7 7 7 7 7 7 7 7 7 7 7 7 7 7 7 7 7 7 7 7 7 7 7 7 7 7 7 7 7 7 7 7 7 7 7 7 7 7 7 7 7 7 7 7 7 7 7 7 7 7 7 7 7 7 7 7 7 7 7 7 7 7 7 7 7 7 7 7 7 7 7 7 7 7 7 7 7 7 7 7 7 7 7 7 7 7 7 7 7 7 7 7 7 7 7 7 7 7 7 7 7 7 7 7 7 7 7 7 7 8 8 8 8 8 8 8 8 8 8 8 8 8 8 8 8 8 8 8 8 8 8 8 8 8 8 8 8 8 8 8 8 8 8 8 8 8 8 8 8 8 8 8 8 8 8 8 8 8 8 8 8 8 8 8 8 8 8 8 8 8 8 8 8 8 8 8 8 8 8 8 8 8 8 8 8 8 8 8 8 8 8 8 8 8 8 8 8 8 8 8 8 8 8 8 8 8 8 8 8 8 8 8 8 8 8 8 8 8 8 8 8 8 8 8 8 8 8 8 8 8 8 8 8 8 8 8 8 8 8 8 8 8 8 8 8 8 8 8 8 8 8 8 8 8 8 8 8 8 8 8 8 8 8 8 8 8 9 9 9 9 9 9 9 9 9 9 9 9 9 9 9 9 9 9 9 9 9 9 9 9 9 9 9 9 9 9 9 9 9 9 9 9 9 9 9 9 9 9 9 9 9 9 9 9 9 9 9 9 9 9 9 9 9 9 9 9 9 9 9 9 9 9 9 9 9 9 9 9 9 9 9 9 9 9 9 9 9 9 9 9 9 9 9 9 9 9 9 9 9 9 9 9 9 9 9 9 9 9 9 9 9 9 9 9 9 9 9 9 9 9 9 9 9 9 9 9 9 9 9 9 9 9 9 9 9 9 9 9 9 9 9 9 9 9 9 9 9 9 9 9 9 9 9 9 9 9 9 9 9 9 9 9 91010101010101010\n",
      "done.\n",
      "Generating update pair #2 for orders/lineitem tablesdone.\n",
      "Generating update pair #3 for orders/lineitem tablesdone.\n"
     ]
    },
    {
     "name": "stdout",
     "output_type": "stream",
     "text": [
      "generated data for the update phase\n",
      "generated data for the delete phase\n",
      "created data files in ./data\n",
      "created query files in ./query_root\n"
     ]
    }
   ],
   "source": [
    "%run tpch_pgsql.py prepare"
   ]
  },
  {
   "cell_type": "markdown",
   "id": "79754872",
   "metadata": {},
   "source": [
    "Carregando"
   ]
  },
  {
   "cell_type": "code",
   "execution_count": 11,
   "id": "201e7fdc",
   "metadata": {},
   "outputs": [
    {
     "name": "stdout",
     "output_type": "stream",
     "text": [
      "dropped existing tables\n",
      "cleaned database tpchdb\n",
      "done creating schemas\n",
      "done loading data to tables\n",
      "done creating indexes and foreign keys\n",
      "============================================================\n",
      "=========================== Load ===========================\n",
      "============================================================\n",
      "create_schema: : 0:00:00.384301\n",
      "load_data: 0:00:50.940486\n",
      "index_tables: 0:00:37.063340\n",
      "============================================================\n",
      "======================= End Results ========================\n",
      "============================================================\n"
     ]
    }
   ],
   "source": [
    "%run tpch_pgsql.py load"
   ]
  },
  {
   "cell_type": "markdown",
   "id": "0e5900e0",
   "metadata": {},
   "source": [
    "# Questão 3 - Esperando o Tarsis me responder"
   ]
  },
  {
   "cell_type": "code",
   "execution_count": 13,
   "id": "9c32e68c",
   "metadata": {},
   "outputs": [
    {
     "name": "stdout",
     "output_type": "stream",
     "text": [
      "Power tests started ...\n",
      "Power tests finished.\n",
      "Throughput tests started ...\n",
      "Throughput tests in stream #1 started ...\n",
      "Throughput tests in stream #2 started ...\n",
      "Throughput tests finished.\n",
      "done performance tests\n",
      "Power@Size = 7281.150149804574\n",
      "Throughput@Size = 5849.697992722666\n",
      "QphH@Size = 6526.295228996628\n",
      "============================================================\n",
      "========================= Metrics ==========================\n",
      "============================================================\n",
      "power_size: 7281.150149804574\n",
      "throughput_size: 5849.697992722666\n",
      "qphh_size: 6526.295228996628\n",
      "============================================================\n",
      "======================= End Results ========================\n",
      "============================================================\n"
     ]
    }
   ],
   "source": [
    "%run tpch_pgsql.py query"
   ]
  },
  {
   "cell_type": "markdown",
   "id": "e9759ef3",
   "metadata": {},
   "source": [
    "# Questão 4 *"
   ]
  },
  {
   "cell_type": "markdown",
   "id": "cf635409",
   "metadata": {},
   "source": [
    "Processador"
   ]
  },
  {
   "cell_type": "code",
   "execution_count": 15,
   "id": "f9cbbff0",
   "metadata": {},
   "outputs": [
    {
     "name": "stdout",
     "output_type": "stream",
     "text": [
      "processor\t: 0\r\n",
      "vendor_id\t: GenuineIntel\r\n",
      "cpu family\t: 6\r\n",
      "model\t\t: 158\r\n",
      "model name\t: Intel(R) Core(TM) i5-7400 CPU @ 3.00GHz\r\n",
      "stepping\t: 9\r\n",
      "microcode\t: 0xf0\r\n",
      "cpu MHz\t\t: 3302.556\r\n",
      "cache size\t: 6144 KB\r\n",
      "physical id\t: 0\r\n",
      "siblings\t: 4\r\n",
      "core id\t\t: 0\r\n",
      "cpu cores\t: 4\r\n",
      "apicid\t\t: 0\r\n",
      "initial apicid\t: 0\r\n",
      "fpu\t\t: yes\r\n",
      "fpu_exception\t: yes\r\n",
      "cpuid level\t: 22\r\n",
      "wp\t\t: yes\r\n",
      "flags\t\t: fpu vme de pse tsc msr pae mce cx8 apic sep mtrr pge mca cmov pat pse36 clflush dts acpi mmx fxsr sse sse2 ss ht tm pbe syscall nx pdpe1gb rdtscp lm constant_tsc art arch_perfmon pebs bts rep_good nopl xtopology nonstop_tsc cpuid aperfmperf pni pclmulqdq dtes64 monitor ds_cpl vmx est tm2 ssse3 sdbg fma cx16 xtpr pdcm pcid sse4_1 sse4_2 x2apic movbe popcnt tsc_deadline_timer aes xsave avx f16c rdrand lahf_lm abm 3dnowprefetch cpuid_fault epb invpcid_single pti ssbd ibrs ibpb stibp tpr_shadow vnmi flexpriority ept vpid ept_ad fsgsbase tsc_adjust bmi1 avx2 smep bmi2 erms invpcid mpx rdseed adx smap clflushopt intel_pt xsaveopt xsavec xgetbv1 xsaves dtherm ida arat pln pts hwp hwp_notify hwp_act_window hwp_epp md_clear flush_l1d arch_capabilities\r\n",
      "vmx flags\t: vnmi preemption_timer invvpid ept_x_only ept_ad ept_1gb flexpriority tsc_offset vtpr mtf vapic ept vpid unrestricted_guest ple shadow_vmcs pml ept_mode_based_exec\r\n",
      "bugs\t\t: cpu_meltdown spectre_v1 spectre_v2 spec_store_bypass l1tf mds swapgs itlb_multihit srbds mmio_stale_data retbleed\r\n",
      "bogomips\t: 6000.00\r\n",
      "clflush size\t: 64\r\n",
      "cache_alignment\t: 64\r\n",
      "address sizes\t: 39 bits physical, 48 bits virtual\r\n",
      "power management:\r\n",
      "\r\n",
      "processor\t: 1\r\n",
      "vendor_id\t: GenuineIntel\r\n",
      "cpu family\t: 6\r\n",
      "model\t\t: 158\r\n",
      "model name\t: Intel(R) Core(TM) i5-7400 CPU @ 3.00GHz\r\n",
      "stepping\t: 9\r\n",
      "microcode\t: 0xf0\r\n",
      "cpu MHz\t\t: 3300.021\r\n",
      "cache size\t: 6144 KB\r\n",
      "physical id\t: 0\r\n",
      "siblings\t: 4\r\n",
      "core id\t\t: 1\r\n",
      "cpu cores\t: 4\r\n",
      "apicid\t\t: 2\r\n",
      "initial apicid\t: 2\r\n",
      "fpu\t\t: yes\r\n",
      "fpu_exception\t: yes\r\n",
      "cpuid level\t: 22\r\n",
      "wp\t\t: yes\r\n",
      "flags\t\t: fpu vme de pse tsc msr pae mce cx8 apic sep mtrr pge mca cmov pat pse36 clflush dts acpi mmx fxsr sse sse2 ss ht tm pbe syscall nx pdpe1gb rdtscp lm constant_tsc art arch_perfmon pebs bts rep_good nopl xtopology nonstop_tsc cpuid aperfmperf pni pclmulqdq dtes64 monitor ds_cpl vmx est tm2 ssse3 sdbg fma cx16 xtpr pdcm pcid sse4_1 sse4_2 x2apic movbe popcnt tsc_deadline_timer aes xsave avx f16c rdrand lahf_lm abm 3dnowprefetch cpuid_fault epb invpcid_single pti ssbd ibrs ibpb stibp tpr_shadow vnmi flexpriority ept vpid ept_ad fsgsbase tsc_adjust bmi1 avx2 smep bmi2 erms invpcid mpx rdseed adx smap clflushopt intel_pt xsaveopt xsavec xgetbv1 xsaves dtherm ida arat pln pts hwp hwp_notify hwp_act_window hwp_epp md_clear flush_l1d arch_capabilities\r\n",
      "vmx flags\t: vnmi preemption_timer invvpid ept_x_only ept_ad ept_1gb flexpriority tsc_offset vtpr mtf vapic ept vpid unrestricted_guest ple shadow_vmcs pml ept_mode_based_exec\r\n",
      "bugs\t\t: cpu_meltdown spectre_v1 spectre_v2 spec_store_bypass l1tf mds swapgs itlb_multihit srbds mmio_stale_data retbleed\r\n",
      "bogomips\t: 6000.00\r\n",
      "clflush size\t: 64\r\n",
      "cache_alignment\t: 64\r\n",
      "address sizes\t: 39 bits physical, 48 bits virtual\r\n",
      "power management:\r\n",
      "\r\n",
      "processor\t: 2\r\n",
      "vendor_id\t: GenuineIntel\r\n",
      "cpu family\t: 6\r\n",
      "model\t\t: 158\r\n",
      "model name\t: Intel(R) Core(TM) i5-7400 CPU @ 3.00GHz\r\n",
      "stepping\t: 9\r\n",
      "microcode\t: 0xf0\r\n",
      "cpu MHz\t\t: 3312.543\r\n",
      "cache size\t: 6144 KB\r\n",
      "physical id\t: 0\r\n",
      "siblings\t: 4\r\n",
      "core id\t\t: 2\r\n",
      "cpu cores\t: 4\r\n",
      "apicid\t\t: 4\r\n",
      "initial apicid\t: 4\r\n",
      "fpu\t\t: yes\r\n",
      "fpu_exception\t: yes\r\n",
      "cpuid level\t: 22\r\n",
      "wp\t\t: yes\r\n",
      "flags\t\t: fpu vme de pse tsc msr pae mce cx8 apic sep mtrr pge mca cmov pat pse36 clflush dts acpi mmx fxsr sse sse2 ss ht tm pbe syscall nx pdpe1gb rdtscp lm constant_tsc art arch_perfmon pebs bts rep_good nopl xtopology nonstop_tsc cpuid aperfmperf pni pclmulqdq dtes64 monitor ds_cpl vmx est tm2 ssse3 sdbg fma cx16 xtpr pdcm pcid sse4_1 sse4_2 x2apic movbe popcnt tsc_deadline_timer aes xsave avx f16c rdrand lahf_lm abm 3dnowprefetch cpuid_fault epb invpcid_single pti ssbd ibrs ibpb stibp tpr_shadow vnmi flexpriority ept vpid ept_ad fsgsbase tsc_adjust bmi1 avx2 smep bmi2 erms invpcid mpx rdseed adx smap clflushopt intel_pt xsaveopt xsavec xgetbv1 xsaves dtherm ida arat pln pts hwp hwp_notify hwp_act_window hwp_epp md_clear flush_l1d arch_capabilities\r\n",
      "vmx flags\t: vnmi preemption_timer invvpid ept_x_only ept_ad ept_1gb flexpriority tsc_offset vtpr mtf vapic ept vpid unrestricted_guest ple shadow_vmcs pml ept_mode_based_exec\r\n",
      "bugs\t\t: cpu_meltdown spectre_v1 spectre_v2 spec_store_bypass l1tf mds swapgs itlb_multihit srbds mmio_stale_data retbleed\r\n",
      "bogomips\t: 6000.00\r\n",
      "clflush size\t: 64\r\n",
      "cache_alignment\t: 64\r\n",
      "address sizes\t: 39 bits physical, 48 bits virtual\r\n",
      "power management:\r\n",
      "\r\n",
      "processor\t: 3\r\n",
      "vendor_id\t: GenuineIntel\r\n",
      "cpu family\t: 6\r\n",
      "model\t\t: 158\r\n",
      "model name\t: Intel(R) Core(TM) i5-7400 CPU @ 3.00GHz\r\n",
      "stepping\t: 9\r\n",
      "microcode\t: 0xf0\r\n",
      "cpu MHz\t\t: 3318.661\r\n",
      "cache size\t: 6144 KB\r\n",
      "physical id\t: 0\r\n",
      "siblings\t: 4\r\n",
      "core id\t\t: 3\r\n",
      "cpu cores\t: 4\r\n",
      "apicid\t\t: 6\r\n",
      "initial apicid\t: 6\r\n",
      "fpu\t\t: yes\r\n",
      "fpu_exception\t: yes\r\n",
      "cpuid level\t: 22\r\n",
      "wp\t\t: yes\r\n",
      "flags\t\t: fpu vme de pse tsc msr pae mce cx8 apic sep mtrr pge mca cmov pat pse36 clflush dts acpi mmx fxsr sse sse2 ss ht tm pbe syscall nx pdpe1gb rdtscp lm constant_tsc art arch_perfmon pebs bts rep_good nopl xtopology nonstop_tsc cpuid aperfmperf pni pclmulqdq dtes64 monitor ds_cpl vmx est tm2 ssse3 sdbg fma cx16 xtpr pdcm pcid sse4_1 sse4_2 x2apic movbe popcnt tsc_deadline_timer aes xsave avx f16c rdrand lahf_lm abm 3dnowprefetch cpuid_fault epb invpcid_single pti ssbd ibrs ibpb stibp tpr_shadow vnmi flexpriority ept vpid ept_ad fsgsbase tsc_adjust bmi1 avx2 smep bmi2 erms invpcid mpx rdseed adx smap clflushopt intel_pt xsaveopt xsavec xgetbv1 xsaves dtherm ida arat pln pts hwp hwp_notify hwp_act_window hwp_epp md_clear flush_l1d arch_capabilities\r\n",
      "vmx flags\t: vnmi preemption_timer invvpid ept_x_only ept_ad ept_1gb flexpriority tsc_offset vtpr mtf vapic ept vpid unrestricted_guest ple shadow_vmcs pml ept_mode_based_exec\r\n",
      "bugs\t\t: cpu_meltdown spectre_v1 spectre_v2 spec_store_bypass l1tf mds swapgs itlb_multihit srbds mmio_stale_data retbleed\r\n",
      "bogomips\t: 6000.00\r\n",
      "clflush size\t: 64\r\n",
      "cache_alignment\t: 64\r\n",
      "address sizes\t: 39 bits physical, 48 bits virtual\r\n",
      "power management:\r\n",
      "\r\n"
     ]
    }
   ],
   "source": [
    "!cat /proc/cpuinfo"
   ]
  },
  {
   "cell_type": "markdown",
   "id": "a99dc9cc",
   "metadata": {},
   "source": [
    "Memória RAM"
   ]
  },
  {
   "cell_type": "code",
   "execution_count": 16,
   "id": "0241c196",
   "metadata": {},
   "outputs": [
    {
     "name": "stdout",
     "output_type": "stream",
     "text": [
      "               total        used        free      shared  buff/cache   available\r\n",
      "Mem:            31Gi       4.3Gi       5.7Gi       334Mi        21Gi        26Gi\r\n",
      "Swap:          4.7Gi          0B       4.7Gi\r\n"
     ]
    }
   ],
   "source": [
    "!free -h"
   ]
  },
  {
   "cell_type": "markdown",
   "id": "2cca2989",
   "metadata": {},
   "source": [
    "Tamanho do disco"
   ]
  },
  {
   "cell_type": "code",
   "execution_count": 17,
   "id": "930b9df6",
   "metadata": {},
   "outputs": [
    {
     "name": "stdout",
     "output_type": "stream",
     "text": [
      "Filesystem      Size  Used Avail Use% Mounted on\r\n",
      "overlay         303G  124G  164G  44% /\r\n",
      "tmpfs            64M     0   64M   0% /dev\r\n",
      "shm             1.0G  1.1M 1023M   1% /dev/shm\r\n",
      "/dev/sdb6       303G  124G  164G  44% /app/datadir\r\n",
      "tmpfs            16G     0   16G   0% /proc/asound\r\n",
      "tmpfs            16G     0   16G   0% /proc/acpi\r\n",
      "tmpfs            16G     0   16G   0% /proc/scsi\r\n",
      "tmpfs            16G     0   16G   0% /sys/firmware\r\n"
     ]
    }
   ],
   "source": [
    "!df -h"
   ]
  },
  {
   "cell_type": "markdown",
   "id": "88181e11",
   "metadata": {},
   "source": [
    "Caches:"
   ]
  },
  {
   "cell_type": "code",
   "execution_count": 18,
   "id": "a27fbca9",
   "metadata": {},
   "outputs": [
    {
     "name": "stdout",
     "output_type": "stream",
     "text": [
      "Architecture:            x86_64\r\n",
      "  CPU op-mode(s):        32-bit, 64-bit\r\n",
      "  Address sizes:         39 bits physical, 48 bits virtual\r\n",
      "  Byte Order:            Little Endian\r\n",
      "CPU(s):                  4\r\n",
      "  On-line CPU(s) list:   0-3\r\n",
      "Vendor ID:               GenuineIntel\r\n",
      "  Model name:            Intel(R) Core(TM) i5-7400 CPU @ 3.00GHz\r\n",
      "    CPU family:          6\r\n",
      "    Model:               158\r\n",
      "    Thread(s) per core:  1\r\n",
      "    Core(s) per socket:  4\r\n",
      "    Socket(s):           1\r\n",
      "    Stepping:            9\r\n",
      "    CPU max MHz:         3500.0000\r\n",
      "    CPU min MHz:         800.0000\r\n",
      "    BogoMIPS:            6000.00\r\n",
      "    Flags:               fpu vme de pse tsc msr pae mce cx8 apic sep mtrr pge mc\r\n",
      "                         a cmov pat pse36 clflush dts acpi mmx fxsr sse sse2 ss \r\n",
      "                         ht tm pbe syscall nx pdpe1gb rdtscp lm constant_tsc art\r\n",
      "                          arch_perfmon pebs bts rep_good nopl xtopology nonstop_\r\n",
      "                         tsc cpuid aperfmperf pni pclmulqdq dtes64 monitor ds_cp\r\n",
      "                         l vmx est tm2 ssse3 sdbg fma cx16 xtpr pdcm pcid sse4_1\r\n",
      "                          sse4_2 x2apic movbe popcnt tsc_deadline_timer aes xsav\r\n",
      "                         e avx f16c rdrand lahf_lm abm 3dnowprefetch cpuid_fault\r\n",
      "                          epb invpcid_single pti ssbd ibrs ibpb stibp tpr_shadow\r\n",
      "                          vnmi flexpriority ept vpid ept_ad fsgsbase tsc_adjust \r\n",
      "                         bmi1 avx2 smep bmi2 erms invpcid mpx rdseed adx smap cl\r\n",
      "                         flushopt intel_pt xsaveopt xsavec xgetbv1 xsaves dtherm\r\n",
      "                          ida arat pln pts hwp hwp_notify hwp_act_window hwp_epp\r\n",
      "                          md_clear flush_l1d arch_capabilities\r\n",
      "Virtualization features: \r\n",
      "  Virtualization:        VT-x\r\n",
      "Caches (sum of all):     \r\n",
      "  L1d:                   128 KiB (4 instances)\r\n",
      "  L1i:                   128 KiB (4 instances)\r\n",
      "  L2:                    1 MiB (4 instances)\r\n",
      "  L3:                    6 MiB (1 instance)\r\n",
      "NUMA:                    \r\n",
      "  NUMA node(s):          1\r\n",
      "  NUMA node0 CPU(s):     0-3\r\n",
      "Vulnerabilities:         \r\n",
      "  Itlb multihit:         KVM: Mitigation: VMX disabled\r\n",
      "  L1tf:                  Mitigation; PTE Inversion; VMX conditional cache flushe\r\n",
      "                         s, SMT disabled\r\n",
      "  Mds:                   Mitigation; Clear CPU buffers; SMT disabled\r\n",
      "  Meltdown:              Mitigation; PTI\r\n",
      "  Mmio stale data:       Mitigation; Clear CPU buffers; SMT disabled\r\n",
      "  Retbleed:              Mitigation; IBRS\r\n",
      "  Spec store bypass:     Mitigation; Speculative Store Bypass disabled via prctl\r\n",
      "  Spectre v1:            Mitigation; usercopy/swapgs barriers and __user pointer\r\n",
      "                          sanitization\r\n",
      "  Spectre v2:            Mitigation; IBRS, IBPB conditional, RSB filling, PBRSB-\r\n",
      "                         eIBRS Not affected\r\n",
      "  Srbds:                 Mitigation; Microcode\r\n",
      "  Tsx async abort:       Not affected\r\n"
     ]
    }
   ],
   "source": [
    "!lscpu"
   ]
  },
  {
   "cell_type": "markdown",
   "id": "a6ad46f8",
   "metadata": {},
   "source": [
    "Distribuição e versão do sistema:"
   ]
  },
  {
   "cell_type": "code",
   "execution_count": 19,
   "id": "d52ba5db",
   "metadata": {},
   "outputs": [
    {
     "name": "stdout",
     "output_type": "stream",
     "text": [
      "No LSB modules are available.\r\n",
      "Distributor ID:\tUbuntu\r\n",
      "Description:\tUbuntu 22.04.2 LTS\r\n",
      "Release:\t22.04\r\n",
      "Codename:\tjammy\r\n"
     ]
    }
   ],
   "source": [
    "!lsb_release -a"
   ]
  },
  {
   "cell_type": "markdown",
   "id": "f5be69d0",
   "metadata": {},
   "source": [
    "Versão do kernel:"
   ]
  },
  {
   "cell_type": "code",
   "execution_count": 20,
   "id": "d388f286",
   "metadata": {},
   "outputs": [
    {
     "name": "stdout",
     "output_type": "stream",
     "text": [
      "5.19.0-43-generic\r\n"
     ]
    }
   ],
   "source": [
    "!uname -r"
   ]
  },
  {
   "cell_type": "markdown",
   "id": "ae13386b",
   "metadata": {},
   "source": [
    "# Questão 5*"
   ]
  },
  {
   "cell_type": "markdown",
   "id": "953b2da4",
   "metadata": {},
   "source": [
    "Foi utilizado o comando:\n",
    "\n",
    "**sudo hdparm -I /dev/sdb**"
   ]
  },
  {
   "cell_type": "markdown",
   "id": "eb28c741",
   "metadata": {},
   "source": [
    "# Informações do Dispositivo /dev/sdb\n",
    "\n",
    "- **Nome do Dispositivo**: /dev/sdb\n",
    "- **Modelo**: ST3500414CS\n",
    "- **Número de Série**: 9VVCCNQP\n",
    "- **Revisão de Firmware**: CA14\n",
    "- **Transporte**: Serial\n",
    "- **Padrões Usados**: desconhecido (código de revisão menor 0x0029), provavelmente 8\n",
    "\n",
    "## Configuração\n",
    "- **Cilindros**: 16383\n",
    "- **Cabeças (superfícies)**: 16\n",
    "- **Setores por trilha**: 63\n",
    "- **Setores endereçáveis pelo usuário (CHS)**: 16514064\n",
    "- **Setores endereçáveis pelo usuário (LBA)**: 268435455\n",
    "- **Setores endereçáveis pelo usuário (LBA48)**: 976773168\n",
    "- **Tamanho do setor lógico/físico**: 512 bytes\n",
    "- **Tamanho do dispositivo**: 476940 MBytes (com M = 1024*1024), 500107 MBytes (com M = 1000*1000), o que é aproximadamente 500 GB\n",
    "- **Tamanho do cache/buffer**: 16384 KBytes\n",
    "- **Taxa de rotação do meio nominal**: 5900\n",
    "- **Tamanho de bloco**: 4096\n",
    "\n",
    "## Capacidades\n",
    "- **Profundidade da fila**: 32\n",
    "- **Transferência múltipla de setor R/W**: Máximo = 16, Atual = 16\n",
    "- **Nível de gerenciamento de energia avançado**: 254\n",
    "\n"
   ]
  },
  {
   "cell_type": "markdown",
   "id": "5ce5c3f2",
   "metadata": {},
   "source": [
    "# Questão 6"
   ]
  },
  {
   "cell_type": "code",
   "execution_count": null,
   "id": "82d126f7",
   "metadata": {},
   "outputs": [],
   "source": []
  },
  {
   "cell_type": "markdown",
   "id": "6890b49d",
   "metadata": {},
   "source": [
    "# Questão 7"
   ]
  },
  {
   "cell_type": "markdown",
   "id": "ca8c2bfa",
   "metadata": {},
   "source": [
    "# Questão 8"
   ]
  },
  {
   "cell_type": "markdown",
   "id": "38b8850d",
   "metadata": {},
   "source": [
    "# Questão 9"
   ]
  },
  {
   "cell_type": "code",
   "execution_count": null,
   "id": "a1a71352",
   "metadata": {},
   "outputs": [],
   "source": []
  }
 ],
 "metadata": {
  "kernelspec": {
   "display_name": "Python 3 (ipykernel)",
   "language": "python",
   "name": "python3"
  },
  "language_info": {
   "codemirror_mode": {
    "name": "ipython",
    "version": 3
   },
   "file_extension": ".py",
   "mimetype": "text/x-python",
   "name": "python",
   "nbconvert_exporter": "python",
   "pygments_lexer": "ipython3",
   "version": "3.10.6"
  }
 },
 "nbformat": 4,
 "nbformat_minor": 5
}
